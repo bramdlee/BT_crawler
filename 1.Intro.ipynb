{
 "cells": [
  {
   "cell_type": "markdown",
   "metadata": {},
   "source": [
    "## 블록체인 타이거 웹크롤링 봇 만들기\n",
    "\n",
    "### Jupyter Notebook?\n",
    "Jupyter notebook은 ipython을 웹베이스로 확장한 것이라고 보시면 됩니다.<br>\n",
    "그럼 ipython 은? intereactive python 의 줄임말로, python.org 에서 제공하고 있는 python 인터프리터(번역기) 보다 사용하기 편합니다.<br>\n",
    "데이터 분석에 최적화되어 있는 Jupyter notebook 환경에서 스터디를 진행하겠습니다.\n",
    "\n",
    "### 환경설정 개요\n",
    "여러분의 노트북에 VM 을 설치해서 환경을 통일한 후, Jupyter notebook 설치되어 있는 docker image를 받아 사용하겠습니다.<br>\n",
    "docker image 포함되어 있는 Anaconda 는 Continuum Analytics라는 곳에서 만든 파이썬 배포판으로, 복잡하기만 했던 python 개발(분석)환경을 통일했습니다.  \n",
    "\n",
    "짤막한 특징들\n",
    "    - pip 와 더불어 conda 명령어로 라이브러리를 설치할 수 있다.\n",
    "        - pip 경우는 python 재단에서 운영하는 repository(저장소)에서 라이브러리 패키지를\n",
    "        - conda 의 경우는 Continuum Analytics 에서\n",
    "    - conda env 를 통해서 파이썬 버전 별 환경을 설정 할 수 있다.\n",
    "        - conda env 로 환경을 설정해 주었다고 Jupyter notebook 에서 바로 보여지는 것은 아님.\n",
    "\n",
    "### 환경을 만들어보자\n",
    "\n",
    "1. docker toolbox 설치 https://www.docker.com/products/docker-toolbox\n",
    "2. VM 실행하기 ( 초기 설치시 Docker Quick Termial 또는 Kimetatic 으로 코어 OS 구동, 이후 oracle VM 으로 실행 )\n",
    "3. VM 이 구동되면 해당 VM 에서 docker container를 실행 -> \"docker pull sifnoc/bt_python:1.0\"\n",
    "4. docker 이미지가 다운로드되면, 실행 \"docker run -Pit --name crawler -p 8888:8888 sifnoc/bt_python:1.1\"\n",
    "\n",
    "* 참고 : https://datascienceschool.net/view-notebook/03c5b5a96a614ee588a74f05c720e67c/\n",
    ": 김도형 박사님이 운영하시는 사이트에서 docker 이미지는 python2 버전이 설치 되어 있습니다.<br> 우리 스터디에서는 python 3버전을사용할 계획이어서 해당 dockerfile을 새로 빌드하여 올렸습니다.\n",
    "\n",
    "### Python2  커널 등록하기 [옵션]\n",
    "Anaconda 패키지를 설치하였고 local pc에서 직접 설치할때는 2버전 3버전을 선택할 수 있습니다. (물론 root의 기본 버전을 바꿀수도 있다)<br>\n",
    "\"conda-env list\"로 설치되어 있는 python 환경을 확인 할수 있으며, jupyter notebook에서 띄워서 사용할 수 있도록 따로 등록해야 합니다.<br> * 참고 : http://mazdah.tistory.com/784\n",
    "\n",
    "### Jupyter notebook에 접속하기.\n",
    "VM안에 bt_python 컨테이너가 제대로 작동되고 있다면, 브라우져를 열어서 http://192.168.99.100:8888 로 접속하면 시작할 수 있습니다.\n",
    "\n",
    "    - 확장자 별 파일 설명 (참고 : https://stackoverflow.com/questions/8822335/what-do-the-python-file-extensions-pyc-pyd-pyo-stand-for )\n",
    "        - py : 기본적인 python script 파일\n",
    "        - pyc : py파일을 python 인터프리터를 통해 사용하게되면 complie 되는 파일로서 기존의 pyc가 있다면 다시 컴파일 하지 않고 사용해버리기 떄문에 주의\n",
    "        - ipynb : jupyter notebook 파일로서, html 형태로 저장되며, 안에 있는 코드와 실행결과만을 기록한 파일 \n",
    "        - md : markdown 파일로 기록할 수 있음, 나중에 jupyter nbconvert 를 통해서 원하는 형식의 html로 뽑아 낼 수 있음.\n",
    "        \n",
    "        \n",
    "#### 여기서 잠깐,\n",
    "우리가 접하고 있는 VM  과 Docker 는 컴퓨터 하드웨어 리소스에 접근하는 구조가 다릅니다. <br><img src=http://wildpup.cafe24.com/wp-content/uploads/2014/11/3.jpg></img><br>\n",
    "우리가 여기까지 구성한 구조는 VM 위에 Docker를 쌓아올린 환경으로 그림으로 도식화 하면 아래와 같습니다.<br><img src=\"./images/structure.png\" width=500 height=700></img><br>"
   ]
  },
  {
   "cell_type": "code",
   "execution_count": 1,
   "metadata": {
    "collapsed": true
   },
   "outputs": [],
   "source": [
    "# requests 라이브러리로 웹페이지 불러오기\n",
    "import requests\n",
    "\n",
    "url = \"https://www.coindesk.com/\"\n",
    "\n",
    "resp = requests.get(url)"
   ]
  },
  {
   "cell_type": "code",
   "execution_count": 4,
   "metadata": {
    "collapsed": false
   },
   "outputs": [
    {
     "data": {
      "text/plain": [
       "'\\n<!DOCTYPE html>\\n<!--[if lt IE 7]> <html class=\"no-js ie ie6 oldie\" lang=\"en\"> <![endif]-->\\n<!--[if IE 7]>    <html class=\"no-js ie ie7 oldie\" lang=\"en\"> <![endif]-->\\n<!--[if IE 8]>    <html class=\"no-js ie ie8 oldie\" lang=\"en\"> <![endif]-->\\n<!--[if IE 9]>    <html class=\"no-js ie\" lang=\"en\"> <![endif]-->\\n<!--[if (gt IE 9)|!(IE)]><!--><html class=\"no-js\" lang=\"en-US\" prefix=\"og: http://ogp.me/ns#\"><!--<![endif]-->\\n<head>\\n\\t<title>CoinDesk - Leader in blockchain news.</title>\\n\\t<link rel=\"dns-prefetch\" href=\"//media.coindesk.com\" />\\n\\t<link rel=\"alternate\" type=\"application/rss+xml\" title=\"CoinDesk RSS Feed\" href=\"https://feeds.feedburner.com/CoinDesk\"/>\\n\\t<link rel=\"shortcut icon\" href=\"//media.coindesk.com/uploads/2016/07/favicon.ico\" />\\n\\t<meta charset=\"utf-8\" />\\n\\t<meta name=\"p:domain_verify\" content=\"266ef71c542343fed103b1f5f9ebba6e\" />\\n\\t<meta property=\"twitter:account_id\" content=\"1418565129\" />\\n\\t<meta name=\"alexaVerifyID\" content=\"CGq9LThNt02vzHpLoscJj-arUCM\" />\\n\\t<meta name=\"msapplication-config\" content=\"none\" />\\n\\t<!-- Mobile Specific Metas -->\\n\\t<meta name=\"viewport\" content=\"width=device-width,initial-scale=1\" />\\n\\t<meta name=\"format-detection\" content=\"telephone=no\" />\\n\\t<meta name=\"microtip\" content=\"1G1pCNLKZCZde4dgznZDE5wiikQeyDGeuh\" data-currency=\"btc\" data-recipient=\"CoinDesk\" />\\n    <meta name=\"brave-publisher-verification\" content=\"02c1e8b9dd0ce28e441b68ee57756dba7b00b65efb6649d6a751411c5140a1c7\" />\\n\\t\\t\\t\\r\\n<!-- Start The Seo Framework by Sybre Waaijer -->\\r\\n<meta name=\"robots\" content=\"noodp,noydir\" />\\r\\n<link rel=\"canonical\" href=\"https://www.coindesk.com/\" />\\r\\n<link rel=\"next\" href=\"https://www.coindesk.com/page/2/\" />\\r\\n<script type=\"application/ld+json\">{\"@context\":\"http:\\\\/\\\\/schema.org\",\"@type\":\"WebSite\",\"name\":\"CoinDesk\",\"url\":\"https:\\\\/\\\\/www.coindesk.com\\\\/\"}</script>\\r\\n<script type=\"application/ld+json\">{\"@context\":\"http:\\\\/\\\\/schema.org\",\"@type\":\"WebSite\",\"url\":\"https:\\\\/\\\\/www.coindesk.com\\\\/\",\"name\":\"CoinDesk\",\"potentialAction\":{\"@type\":\"SearchAction\",\"target\":\"https:\\\\/\\\\/www.coindesk.com\\\\/?s={search_term_str'"
      ]
     },
     "execution_count": 4,
     "metadata": {},
     "output_type": "execute_result"
    }
   ],
   "source": [
    "resp.text[:2048]"
   ]
  },
  {
   "cell_type": "markdown",
   "metadata": {
    "collapsed": true
   },
   "source": [
    "url 변수로 등록되어 있는 주소로 웹페이지 요청을 서버로 요청하였고 이에 대한 회신을 받았습니다.<br>\n",
    "이제부터는 이런 html을 분석하여 우리가 원하는 정보(text)만 추출하는 파싱(parsing) 작업에 대해서 공부하고, 최종적으로 이 모든것을 자동으로 하는 <b>봇</b>을 만들어 봅시다.\n",
    "\n",
    "### 수고하셨습니다!"
   ]
  },
  {
   "cell_type": "code",
   "execution_count": null,
   "metadata": {
    "collapsed": true
   },
   "outputs": [],
   "source": []
  }
 ],
 "metadata": {
  "kernelspec": {
   "display_name": "Python 35 Tensorflow",
   "language": "python",
   "name": "python3"
  },
  "language_info": {
   "codemirror_mode": {
    "name": "ipython",
    "version": 3
   },
   "file_extension": ".py",
   "mimetype": "text/x-python",
   "name": "python",
   "nbconvert_exporter": "python",
   "pygments_lexer": "ipython3",
   "version": "3.5.3"
  }
 },
 "nbformat": 4,
 "nbformat_minor": 2
}
