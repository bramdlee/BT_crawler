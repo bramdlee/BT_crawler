{
 "cells": [
  {
   "cell_type": "markdown",
   "metadata": {},
   "source": [
    "## 데이터를 Telegram으로 보내 보기"
   ]
  },
  {
   "cell_type": "markdown",
   "metadata": {},
   "source": [
    "Python 을 통해서 텔레그램 봇을 통해 메시지를 보내기 위해서는 아래와 같은 필요사항이 있습니다.\n",
    "- 사전 필요사항\n",
    " - BOT API key\n",
    " - 텔레그램 API 라이브러리 : python-telegram-bot<p>\n",
    "\n",
    "**BOT API KET 발급받기**<br>\n",
    "\n",
    "텔레그램 봇과 소통하기 위해서는 텔레그램 계정을 발급받고 해당 계정으로 BOT FATHER와의 상담?을 통해서 API키를 부여 받아야 한다.\n",
    "\n",
    "텔레그램봇 API키를 기본적인 방법은<br> https://blog.psangwoo.com/coding/2016/12/08/python-telegram-bot-1.html 를 참고해 주시기 바랍니다. ( 현장에서는 실습으로 ^^ ) \n",
    "\n",
    "위 가이드로 텔레그램 봇의 토큰을 받습니다. 토큰은 aaaa:bbbbbbbbbbbbbb와 같이 생긴 문자열입니다.\n",
    "\n",
    "ps. 사실 웹훅등 고급기능을 쓰기에는 라이브러리가 그닥 좋지 않지만, 단순 메시지를 보내기에는 접근이 쉬워서 선택하였습니다\n",
    "\n",
    "**텔레그램 API 라이브러리 설치하기**<br>\n",
    "라이브러리 링크 :https://github.com/python-telegram-bot/python-telegram-bot\n",
    "\n",
    "커맨드 창에서 conda install python-telegram-bot 또는(pip install python-telegram-bot 을 실행하여 설치한다.\n"
   ]
  },
  {
   "cell_type": "code",
   "execution_count": 3,
   "metadata": {
    "collapsed": true
   },
   "outputs": [],
   "source": [
    "## 개인키를 local_setting.py에 저장하고 있기때문에 호출을 해줍니다.\n",
    "from local_setting import TG_API_KEY \n",
    "# 실습때는 \n",
    "# TG_API_KEY = \"aaaaa:bbbbbbbbbbbbb...\" 으로 key string을 선언해줍니다."
   ]
  },
  {
   "cell_type": "code",
   "execution_count": 2,
   "metadata": {
    "collapsed": true
   },
   "outputs": [],
   "source": [
    "import telegram # 실행하였을때 에러메시지가 없으면 성공한 것입니다."
   ]
  },
  {
   "cell_type": "code",
   "execution_count": 33,
   "metadata": {
    "collapsed": false,
    "scrolled": false
   },
   "outputs": [],
   "source": [
    "bot = telegram.Bot(token = TG_API_KEY)   #bot을 선언합니다."
   ]
  },
  {
   "cell_type": "code",
   "execution_count": 39,
   "metadata": {
    "collapsed": false
   },
   "outputs": [],
   "source": [
    "updates = bot.getUpdates()"
   ]
  },
  {
   "cell_type": "code",
   "execution_count": 35,
   "metadata": {
    "collapsed": false
   },
   "outputs": [
    {
     "name": "stdout",
     "output_type": "stream",
     "text": [
      "{'message': {'delete_chat_photo': False, 'from': {'first_name': 'Jinhwan', 'language_code': 'ko-KR', 'id': 369725058}, 'message_id': 71, 'channel_chat_created': False, 'date': 1503997329, 'new_chat_member': None, 'supergroup_chat_created': False, 'group_chat_created': False, 'entities': [], 'chat': {'title': 'KeepIT helper', 'type': 'group', 'all_members_are_administrators': False, 'id': -244522369}, 'new_chat_members': [], 'new_chat_photo': [], 'photo': [], 'text': 'Hi'}, 'update_id': 956194771}\n"
     ]
    }
   ],
   "source": [
    "print(updates[0]) # 봇으로 누군가 마을 걸었을때 아래와 같은 응답이 옵니다."
   ]
  },
  {
   "cell_type": "code",
   "execution_count": 40,
   "metadata": {
    "collapsed": false
   },
   "outputs": [
    {
     "name": "stdout",
     "output_type": "stream",
     "text": [
      "{'message': {'delete_chat_photo': False, 'from': {'first_name': 'Jinhwan', 'language_code': 'ko-KR', 'id': 369725058}, 'message_id': 71, 'channel_chat_created': False, 'date': 1503997329, 'new_chat_member': None, 'supergroup_chat_created': False, 'group_chat_created': False, 'entities': [], 'chat': {'title': 'KeepIT helper', 'type': 'group', 'all_members_are_administrators': False, 'id': -244522369}, 'new_chat_members': [], 'new_chat_photo': [], 'photo': [], 'text': 'Hi'}, 'update_id': 956194771}\n",
      "{'callback_query': {'message': {'delete_chat_photo': False, 'from': {'first_name': 'CNS_collecting_bot', 'username': 'CNS_collecting_bot', 'id': 368017549}, 'message_id': 68, 'channel_chat_created': False, 'date': 1503997213, 'new_chat_member': None, 'supergroup_chat_created': False, 'group_chat_created': False, 'entities': [{'offset': 0, 'type': 'bold', 'length': 12}, {'url': 'https://www.cryptocoinsnews.com/swedish-investor-goes-100-bitcoin-becomes-100x-richer/', 'offset': 13, 'type': 'text_link', 'length': 4}], 'chat': {'first_name': 'Jinhwan', 'type': 'private', 'id': 369725058}, 'new_chat_members': [], 'new_chat_photo': [], 'photo': [], 'text': 'test > < = & 원문보기\\n 1.In an interview with Business Insider Nordic, Swedish encryption and computer science expert Alexander Bottema revealed he went all-in on bitcoin as early as 2013.\\n 2.After being convinced of the cryptocurrency, Bottema set out to speculate how much bitcoin could be worth in the years to come, by comparing it directly with gold as the benchmark.\\n 3.The gold market, “where rich people put their money to avoid devaluations” as a store of wealth, is about $8,000 billion, Bottema estimated back in 2013.'}, 'chat_instance': '2840936324360958044', 'from': {'first_name': 'Jinhwan', 'language_code': 'ko-KR', 'id': 369725058}, 'id': '1587957036305141278', 'data': '1'}, 'update_id': 956194772}\n"
     ]
    }
   ],
   "source": [
    "for i in updates:\n",
    "    print(i)"
   ]
  },
  {
   "cell_type": "code",
   "execution_count": 27,
   "metadata": {
    "collapsed": false
   },
   "outputs": [
    {
     "data": {
      "text/plain": [
       "<telegram.message.Message at 0x7f7b36afe978>"
      ]
     },
     "execution_count": 27,
     "metadata": {},
     "output_type": "execute_result"
    }
   ],
   "source": [
    "bot.sendMessage(chat_id = \"369725058\", text=\"크립토 뉴스 서머리 봇입니다\")"
   ]
  }
 ],
 "metadata": {
  "kernelspec": {
   "display_name": "Python 35 NLP",
   "language": "python",
   "name": "py35_nlp"
  },
  "language_info": {
   "codemirror_mode": {
    "name": "ipython",
    "version": 3
   },
   "file_extension": ".py",
   "mimetype": "text/x-python",
   "name": "python",
   "nbconvert_exporter": "python",
   "pygments_lexer": "ipython3",
   "version": "3.5.3"
  }
 },
 "nbformat": 4,
 "nbformat_minor": 2
}
