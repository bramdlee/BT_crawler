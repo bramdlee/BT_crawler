{
 "cells": [
  {
   "cell_type": "markdown",
   "metadata": {},
   "source": [
    "### Medium 사이트 크롤링\n",
    "\n",
    "블로깅 사이트인 medium의 업데이트 사항을 추적해서 telegram으로 인포를 주는 스크립트를 짜보도록 하겠습니다.\n",
    "\n",
    "스크립트 워크 플로우를 글로 적어본다면 다음과 같습니다.\n",
    "\n",
    "1. request로 medium 사이트 url로 웹페이지를 요청한다.\n",
    "2. 응답한 내용의 텍스트(html)을 beautifulsoup로 넣고 파싱한다.\n",
    "3. 파싱된 내용중 제목만을 추출한 리스트를 확보한다.\n",
    "4. 기존에 저장한 리스트와 비교하여 새로 업데이트 된 사항이 있는지 확인\n",
    "5. 업데이트 된 사항이 있으면 해당 제목의 url을 추출한다.\n",
    "6. 업데이트된 url을 telegram으로 전송한다.\n",
    "\n",
    "지난 (9월 28일)에 진행하였던  4.telegram 으로 메시지 보내기와 3. 파일 입출력 두가지를 응용한 실제 예제입니다.\n",
    "\n",
    "medium의 url구조를 보면 https://medium.com/topic/technology 과 같이 topic 또는 https://medium.com/@caraty_60730/latest 그리고 https://medium.com/tag/bitcoin 와 같이 @id  또는 tag 로 시작하는 구조를 가지고 있습니다.\n",
    "\n",
    "응답받은 결과의 구조가 비슷하니 \"https://medium.com/tag/bitcoin/latest\" 을 기준으로 시작해보겠습니다.\n"
   ]
  },
  {
   "cell_type": "code",
   "execution_count": 1,
   "metadata": {
    "collapsed": true
   },
   "outputs": [],
   "source": [
    "# 먼저 라이브러리를 import 합니다.\n",
    "import requests\n",
    "from bs4 import BeautifulSoup as bs"
   ]
  },
  {
   "cell_type": "code",
   "execution_count": 2,
   "metadata": {
    "collapsed": true
   },
   "outputs": [],
   "source": [
    "url_tag = \"https://medium.com/tag/bitcoin/latest\"\n",
    "resp = requests.get(url_tag)"
   ]
  },
  {
   "cell_type": "code",
   "execution_count": 3,
   "metadata": {
    "collapsed": false
   },
   "outputs": [
    {
     "data": {
      "text/plain": [
       "<Response [200]>"
      ]
     },
     "execution_count": 3,
     "metadata": {},
     "output_type": "execute_result"
    }
   ],
   "source": [
    "resp #200! 잘 왔습니다. "
   ]
  },
  {
   "cell_type": "code",
   "execution_count": 4,
   "metadata": {
    "collapsed": false
   },
   "outputs": [
    {
     "data": {
      "text/plain": [
       "189371"
      ]
     },
     "execution_count": 4,
     "metadata": {},
     "output_type": "execute_result"
    }
   ],
   "source": [
    "len(resp.text) #텍스트를 열어보지는 않았지만 글자수가 적당한걸로 봐서 잘온거 같습니다."
   ]
  },
  {
   "cell_type": "code",
   "execution_count": 5,
   "metadata": {
    "collapsed": true
   },
   "outputs": [],
   "source": [
    "bs_html = bs(resp.text, \"html.parser\") #html text 를 뷰티풀수프에 넣습니다."
   ]
  },
  {
   "cell_type": "code",
   "execution_count": 6,
   "metadata": {
    "collapsed": false
   },
   "outputs": [
    {
     "data": {
      "text/plain": [
       "[<h3 class=\"graf graf--h3 graf--leading graf--title\" id=\"6e7c\" name=\"6e7c\">The ICO Summit: The Bitcoin industry is thriving</h3>,\n",
       " <h3 class=\"graf graf--h3 graf--leading graf--title\" id=\"b1b0\" name=\"b1b0\">Trackr is now live on HitBTC for trading!</h3>,\n",
       " <h3 class=\"graf graf--h3 graf--leading graf--title\" id=\"f732\" name=\"f732\">Circulating Supply of Dentacoin</h3>,\n",
       " <h3 class=\"graf graf--h3 graf-after--figure graf--trailing graf--title\" id=\"0c22\" name=\"0c22\"><strong class=\"markup--strong markup--h3-strong\">The Future of Bitcoin and Other Cryptocurrencies</strong></h3>,\n",
       " <h3 class=\"graf graf--h3 graf--leading graf--title\" id=\"b667\" name=\"b667\">Cloud Application Exchange Bernama “WIRELINE”</h3>,\n",
       " <h3 class=\"graf graf--h3 graf--leading graf--title\" id=\"def7\" name=\"def7\">Minerva - Децентрализованные умные деньги в ETHEREUM Blockchain</h3>,\n",
       " <h3 class=\"graf graf--h3 graf--leading graf--title\" id=\"b3e1\" name=\"b3e1\"><strong class=\"markup--strong markup--h3-strong\">How to get VariabL Contribution Tokens (VCT) — A brief practical guide</strong></h3>,\n",
       " <h3 class=\"graf graf--h3 graf-after--p\" id=\"4207\" name=\"4207\"><strong class=\"markup--strong markup--h3-strong\">What is a VCT?</strong></h3>,\n",
       " <h3 class=\"graf graf--h3 graf--leading graf--title\" id=\"eee2\" name=\"eee2\">Martin Green on Bitcoin</h3>]"
      ]
     },
     "execution_count": 6,
     "metadata": {},
     "output_type": "execute_result"
    }
   ],
   "source": [
    "post_list = bs_html.find_all('h3') # 제목 테그들이 모두 h3 를 달고 있더군요.\n",
    "post_list"
   ]
  },
  {
   "cell_type": "markdown",
   "metadata": {},
   "source": [
    "### medium html 구조\n",
    "\n",
    "div 태그란, 하나 이상의 태그들을 묶어서 스타일을 지정할 때 사용하는 것으로 웹페이지의 영역을 나누어서 같은 배경이나 컬러를 지정할때 사용합니다.\n",
    "\n",
    "<img src=\"./images/medium_1.png\">개발자도구로 본 medium 포스트 </img>\n",
    "\n",
    "하나이 포스트를 나타내는 글상자는 '<div class=\"js-tagStream\">'아래에 또 다른 div로 둘러쌓여진 글상자가 이어져 있습니다."
   ]
  },
  {
   "cell_type": "markdown",
   "metadata": {},
   "source": [
    "이런! 몇개의 글을은 h3-제목 태그를 가지고 있지 않습니다!<br>\n",
    "<img src='./images/medium_2.png'>None h3 tag</img><br>\n",
    "조금더 공통적인 부분을 찾아봅니다.<br> streamItem streamItem--postPreview js-streamItem 클래스로 나뉘어져 있는 걸로 리스트를 뽑아봅니다."
   ]
  },
  {
   "cell_type": "code",
   "execution_count": 7,
   "metadata": {
    "collapsed": false
   },
   "outputs": [
    {
     "data": {
      "text/plain": [
       "10"
      ]
     },
     "execution_count": 7,
     "metadata": {},
     "output_type": "execute_result"
    }
   ],
   "source": [
    "post_list = bs_html.find_all('div', {'class':'streamItem streamItem--postPreview js-streamItem'})\n",
    "len(post_list)"
   ]
  },
  {
   "cell_type": "code",
   "execution_count": 8,
   "metadata": {
    "collapsed": false
   },
   "outputs": [
    {
     "name": "stdout",
     "output_type": "stream",
     "text": [
      "0 a\n",
      "1 b\n",
      "2 c\n"
     ]
    }
   ],
   "source": [
    "#enumerate 를 사용해 봅니다.\n",
    "test_list = ['a', 'b', 'c']\n",
    "for idx, char in enumerate(test_list):\n",
    "    print(idx, char) # enumerate를 씌워주면 순서 번호와 같이 두개의 변수를 꺼내옵니다."
   ]
  },
  {
   "cell_type": "code",
   "execution_count": 9,
   "metadata": {
    "collapsed": false
   },
   "outputs": [
    {
     "name": "stdout",
     "output_type": "stream",
     "text": [
      "0 ======\n",
      "<div class=\"streamItem streamItem--postPreview js-streamItem\"><div class=\"cardChromeless u-marginTop20 u-paddingTop10 u-paddingBottom15 u-paddingLeft20 u-paddingRight20\"><div class=\"postArticle postArticle--short js-postArticle js-trackedPost\" data-post-id=\"48872817b0b0\" data-source=\"---------0----------------\"><div class=\"u-clearfix u-marginBottom15 u-paddingTop5\"><div class=\"postMetaInline u-floatLeft\"><div class=\"u-flexCenter\"><div class=\"postMetaInline-avatar u-flex0\"><a class=\"link avatar u-baseColor--link\" data-action=\"show-user-card\" data-action-type=\"hover\" data-action-value=\"133fe01ba1e5\" data-user-id=\"133fe01ba1e5\" dir=\"auto\" href=\"https://medium.com/@orbe_\"><img alt=\"Go to the profile of Or-Be\" class=\"avatar-image u-size36x36 u-xs-size32x32\" src=\"https://cdn-images-1.medium.com/fit/c/72/72/1*pExK5UIo-PR6S27Tk-qznw.jpeg\"/></a></div><div class=\"postMetaInline postMetaInline-authorLockup u-flex1 u-noWrapWithEllipsis\"><a class=\"link link link--darken link--accent u-accentColor--textNormal u-accentColor--textDarken u-baseColor--link\" data-action=\"show-user-card\" data-action-source=\"---------0----------------\" data-action-type=\"hover\" data-action-value=\"133fe01ba1e5\" data-user-id=\"133fe01ba1e5\" dir=\"auto\" href=\"https://medium.com/@orbe_?source=---------0----------------\">Or-Be</a><div class=\"u-fontSize12 u-baseColor--textNormal u-textColorNormal js-postMetaInlineSupplemental\"><a class=\"link link--darken\" data-action=\"open-post\" data-action-source=\"preview-listing\" data-action-value=\"https://medium.com/@orbe_/the-ico-summit-the-bitcoin-industry-is-thriving-48872817b0b0?source=---------0----------------\" href=\"https://medium.com/@orbe_/the-ico-summit-the-bitcoin-industry-is-thriving-48872817b0b0?source=---------0----------------\"><time datetime=\"2017-09-21T10:23:41.318Z\">Sep 21</time></a><span class=\"middotDivider u-fontSize12\"></span><span class=\"readingTime\" title=\"3 min read\"></span></div></div></div></div></div><div><a class=\"\" data-action-source=\"---------0----------------\" href=\"https://medium.com/@orbe_/the-ico-summit-the-bitcoin-industry-is-thriving-48872817b0b0?source=---------0----------------\"><div class=\"postArticle-content js-postField\"><section class=\"section section--body section--first section--last\"><div class=\"section-divider\"><hr class=\"section-divider\"/></div><div class=\"section-content\"><div class=\"section-inner sectionLayout--insetColumn\"><h3 class=\"graf graf--h3 graf--leading graf--title\" id=\"6e7c\" name=\"6e7c\">The ICO Summit: The Bitcoin industry is thriving</h3><figure class=\"graf graf--figure graf--layoutConstrainedHeightPreview graf-after--h3 graf--trailing\" id=\"61d1\" name=\"61d1\"><div class=\"aspectRatioPlaceholder is-locked\" style=\"max-width: 359.52191235059763px; max-height: 240px;\"><div class=\"aspectRatioPlaceholder-fill\" style=\"padding-bottom: 66.8%;\"></div><img class=\"graf-image\" data-height=\"4016\" data-image-id=\"1*xDZXiI-s-YR2srIyaDnbNA.jpeg\" data-width=\"6016\" src=\"https://cdn-images-1.medium.com/max/719/1*xDZXiI-s-YR2srIyaDnbNA.jpeg\"/></div></figure></div></div></section></div></a></div><div class=\"postArticle-readMore\"><a class=\"button button--smaller button--chromeless u-baseColor--buttonNormal\" data-action=\"open-post\" data-action-source=\"---------0----------------\" data-action-value=\"https://medium.com/@orbe_/the-ico-summit-the-bitcoin-industry-is-thriving-48872817b0b0?source=---------0----------------\" data-post-id=\"48872817b0b0\" href=\"https://medium.com/@orbe_/the-ico-summit-the-bitcoin-industry-is-thriving-48872817b0b0?source=---------0----------------\">Read more…</a></div><div class=\"u-clearfix u-paddingTop10\"><div class=\"buttonSet buttonSet--withLabels u-floatLeft\"><div class=\"buttonSet-inner\"><div class=\"multirecommend js-actionMultirecommend u-flexCenter\" data-is-compressed=\"true\" data-is-flush-left=\"true\" data-post-id=\"48872817b0b0\" data-source=\"listing--------------------------clap_preview\"><div class=\"u-relative u-foreground\"><button aria-label=\"Clap\" class=\"button button--primary button--chromeless u-accentColor--buttonNormal button--withIcon button--withSvgIcon clapButton js-actionMultirecommendButton\" data-action=\"sign-up-prompt\" data-action-source=\"listing--------------------------clap_preview\" data-redirect=\"https://medium.com/_/vote/p/48872817b0b0\" data-requires-token=\"true\" data-sign-in-action=\"multivote\"><span class=\"button-defaultState\"><span class=\"svgIcon svgIcon--clap svgIcon--25px is-flushLeft\"><svg class=\"svgIcon-use\" height=\"25\" viewbox=\"0 0 25 25\" width=\"25\"><g fill-rule=\"evenodd\"><path d=\"M11.739 0l.761 2.966L13.261 0z\"></path><path d=\"M14.815 3.776l1.84-2.551-1.43-.471z\"></path><path d=\"M8.378 1.224l1.84 2.551L9.81.753z\"></path><path d=\"M20.382 21.622c-1.04 1.04-2.115 1.507-3.166 1.608.168-.14.332-.29.492-.45 2.885-2.886 3.456-5.982 1.69-9.211l-1.101-1.937-.955-2.02c-.315-.676-.235-1.185.245-1.556a.836.836 0 0 1 .66-.16c.342.056.66.28.879.605l2.856 5.023c1.179 1.962 1.379 5.119-1.6 8.098m-13.29-.528l-5.02-5.02a1 1 0 0 1 .707-1.701c.255 0 .512.098.707.292l2.607 2.607a.442.442 0 0 0 .624-.624L4.11 14.04l-1.75-1.75a.998.998 0 1 1 1.41-1.413l4.154 4.156a.44.44 0 0 0 .624 0 .44.44 0 0 0 0-.624l-4.152-4.153-1.172-1.171a.998.998 0 0 1 0-1.41 1.018 1.018 0 0 1 1.41 0l1.172 1.17 4.153 4.152a.437.437 0 0 0 .624 0 .442.442 0 0 0 0-.624L6.43 8.222a.988.988 0 0 1-.291-.705.99.99 0 0 1 .29-.706 1 1 0 0 1 1.412 0l6.992 6.993a.443.443 0 0 0 .71-.501l-1.35-2.856c-.315-.676-.235-1.185.246-1.557a.85.85 0 0 1 .66-.16c.342.056.659.28.879.606L18.628 14c1.573 2.876 1.067 5.545-1.544 8.156-1.396 1.397-3.144 1.966-5.063 1.652-1.713-.286-3.463-1.248-4.928-2.714zM10.99 5.976l2.562 2.562c-.497.607-.563 1.414-.155 2.284l.265.562-4.257-4.257a.98.98 0 0 1-.117-.445c0-.267.104-.517.292-.706a1.023 1.023 0 0 1 1.41 0zm8.887 2.06c-.375-.557-.902-.916-1.486-1.011a1.738 1.738 0 0 0-1.342.332c-.376.29-.61.656-.712 1.065a2.1 2.1 0 0 0-1.095-.562 1.776 1.776 0 0 0-.992.128l-2.636-2.636a1.883 1.883 0 0 0-2.658 0 1.862 1.862 0 0 0-.478.847 1.886 1.886 0 0 0-2.671-.012 1.867 1.867 0 0 0-.503.909c-.754-.754-1.992-.754-2.703-.044a1.881 1.881 0 0 0 0 2.658c-.288.12-.605.288-.864.547a1.884 1.884 0 0 0 0 2.659l.624.622a1.879 1.879 0 0 0-.91 3.16l5.019 5.02c1.595 1.594 3.515 2.645 5.408 2.959a7.16 7.16 0 0 0 1.173.098c1.026 0 1.997-.24 2.892-.7.279.04.555.065.828.065 1.53 0 2.969-.628 4.236-1.894 3.338-3.338 3.083-6.928 1.738-9.166l-2.868-5.043z\"></path></g></svg></span></span><span class=\"button-activeState\"><span class=\"svgIcon svgIcon--clapFilled svgIcon--25px is-flushLeft\"><svg class=\"svgIcon-use\" height=\"25\" viewbox=\"0 0 25 25\" width=\"25\"><g fill-rule=\"evenodd\"><path d=\"M11.738 0l.762 2.966L13.262 0z\"></path><path d=\"M16.634 1.224l-1.432-.47-.408 3.022z\"></path><path d=\"M9.79.754l-1.431.47 1.84 2.552z\"></path><path d=\"M22.472 13.307l-3.023-5.32c-.287-.426-.689-.705-1.123-.776a1.16 1.16 0 0 0-.911.221c-.297.231-.474.515-.535.84.017.022.036.04.053.063l2.843 5.001c1.95 3.564 1.328 6.973-1.843 10.144a8.46 8.46 0 0 1-.549.501c1.205-.156 2.328-.737 3.351-1.76 3.268-3.268 3.041-6.749 1.737-8.914\"></path><path d=\"M12.58 9.887c-.156-.83.096-1.569.692-2.142L10.78 5.252c-.5-.504-1.378-.504-1.879 0-.178.18-.273.4-.329.63l4.008 4.005z\"></path><path d=\"M15.812 9.04c-.218-.323-.539-.55-.88-.606a.814.814 0 0 0-.644.153c-.176.137-.713.553-.24 1.566l1.43 3.025a.539.539 0 1 1-.868.612L7.2 6.378a.986.986 0 1 0-1.395 1.395l4.401 4.403a.538.538 0 1 1-.762.762L5.046 8.54 3.802 7.295a.99.99 0 0 0-1.396 0 .981.981 0 0 0 0 1.394L3.647 9.93l4.402 4.403a.537.537 0 0 1 0 .761.535.535 0 0 1-.762 0L2.89 10.696a.992.992 0 0 0-1.399-.003.983.983 0 0 0 0 1.395l1.855 1.854 2.763 2.765a.538.538 0 0 1-.76.761l-2.765-2.764a.982.982 0 0 0-1.395 0 .989.989 0 0 0 0 1.395l5.32 5.32c3.371 3.372 6.64 4.977 10.49 1.126C19.74 19.8 20.271 17 18.62 13.982L15.812 9.04z\"></path></g></svg></span></span></button></div><span class=\"u-textAlignCenter u-relative u-background js-actionMultirecommendCount u-marginLeft5\"></span></div></div></div><div class=\"buttonSet u-floatRight\"><div class=\"buttonSet-inner\"><button aria-label=\"Bookmark this story to read later\" class=\"button button--chromeless is-touchIconFadeInPulse u-baseColor--buttonNormal button--withIcon button--withSvgIcon button--bookmark js-bookmarkButton\" data-action=\"sign-up-prompt\" data-action-source=\"listing--------------------------bookmark_preview\" data-redirect=\"https://medium.com/_/bookmark/p/48872817b0b0\" data-requires-token=\"true\" data-sign-in-action=\"add-to-bookmarks\" title=\"Bookmark this story to read later\"><span class=\"button-defaultState\"><span class=\"svgIcon svgIcon--bookmark svgIcon--25px is-flushRight\"><svg class=\"svgIcon-use\" height=\"25\" viewbox=\"0 0 25 25\" width=\"25\"><path d=\"M19 6c0-1.1-.9-2-2-2H8c-1.1 0-2 .9-2 2v14.66h.012c.01.103.045.204.12.285a.5.5 0 0 0 .706.03L12.5 16.85l5.662 4.126a.508.508 0 0 0 .708-.03.5.5 0 0 0 .118-.285H19V6zm-6.838 9.97L7 19.636V6c0-.55.45-1 1-1h9c.55 0 1 .45 1 1v13.637l-5.162-3.668a.49.49 0 0 0-.676 0z\" fill-rule=\"evenodd\"></path></svg></span></span><span class=\"button-activeState\"><span class=\"svgIcon svgIcon--bookmarkFilled svgIcon--25px is-flushRight\"><svg class=\"svgIcon-use\" height=\"26\" viewbox=\"0 0 25 26\" width=\"25\"><path d=\"M19 7c0-1.1-.9-2-2-2H8c-1.1 0-2 .9-2 2v14.66h.012c.01.103.045.204.12.285a.5.5 0 0 0 .706.03L12.5 17.85l5.662 4.126a.508.508 0 0 0 .708-.03.5.5 0 0 0 .118-.285H19V7z\" fill-rule=\"evenodd\"></path></svg></span></span></button></div></div></div></div></div></div>\n",
      "1 ======\n",
      "<div class=\"streamItem streamItem--postPreview js-streamItem\"><div class=\"cardChromeless u-marginTop20 u-paddingTop10 u-paddingBottom15 u-paddingLeft20 u-paddingRight20\"><div class=\"postArticle postArticle--short js-postArticle js-trackedPost\" data-post-id=\"bbce3eacf0c9\" data-source=\"---------1----------------\"><div class=\"u-clearfix u-marginBottom15 u-paddingTop5\"><div class=\"postMetaInline u-floatLeft\"><div class=\"u-flexCenter\"><div class=\"postMetaInline-avatar u-flex0\"><a class=\"link avatar u-baseColor--link\" data-action=\"show-user-card\" data-action-type=\"hover\" data-action-value=\"5474513a252a\" data-user-id=\"5474513a252a\" dir=\"auto\" href=\"https://medium.com/@trackr.im\"><img alt=\"Go to the profile of Team @ Trackr\" class=\"avatar-image u-size36x36 u-xs-size32x32\" src=\"https://cdn-images-1.medium.com/fit/c/72/72/1*4qtlIltWpZodiuMkfOkAFA.png\"/></a></div><div class=\"postMetaInline postMetaInline-authorLockup u-flex1 u-noWrapWithEllipsis\"><a class=\"link link link--darken link--accent u-accentColor--textNormal u-accentColor--textDarken u-baseColor--link\" data-action=\"show-user-card\" data-action-source=\"---------1----------------\" data-action-type=\"hover\" data-action-value=\"5474513a252a\" data-user-id=\"5474513a252a\" dir=\"auto\" href=\"https://medium.com/@trackr.im?source=---------1----------------\">Team @ Trackr</a><div class=\"u-fontSize12 u-baseColor--textNormal u-textColorNormal js-postMetaInlineSupplemental\"><a class=\"link link--darken\" data-action=\"open-post\" data-action-source=\"preview-listing\" data-action-value=\"https://medium.com/@trackr.im/trackr-is-now-live-on-hitbtc-for-trading-bbce3eacf0c9?source=---------1----------------\" href=\"https://medium.com/@trackr.im/trackr-is-now-live-on-hitbtc-for-trading-bbce3eacf0c9?source=---------1----------------\"><time datetime=\"2017-09-21T10:09:02.712Z\">Sep 21</time></a><span class=\"middotDivider u-fontSize12\"></span><span class=\"readingTime\" title=\"2 min read\"></span></div></div></div></div></div><div><a class=\"\" data-action-source=\"---------1----------------\" href=\"https://medium.com/@trackr.im/trackr-is-now-live-on-hitbtc-for-trading-bbce3eacf0c9?source=---------1----------------\"><div class=\"postArticle-content js-postField\"><section class=\"section section--body section--first section--last\"><div class=\"section-divider\"><hr class=\"section-divider\"/></div><div class=\"section-content\"><div class=\"section-inner sectionLayout--insetColumn\"><h3 class=\"graf graf--h3 graf--leading graf--title\" id=\"b1b0\" name=\"b1b0\">Trackr is now live on HitBTC for trading!</h3><p class=\"graf graf--p graf-after--h3 graf--trailing\" id=\"1f84\" name=\"1f84\">We’re proud to announce that the TKR is now live on <span class=\"markup--anchor markup--p-anchor\" data-action=\"open-inner-link\" data-action-value=\"https://hitbtc.com/exchange/TKR-to-ETH\">HitBTC</span> for trading in addition to <span class=\"markup--anchor markup--p-anchor\" data-action=\"open-inner-link\" data-action-value=\"https://etherdelta.com/#TKR-ETH\">EtherDelta</span> for the ETH/TKR TKR/ETH pair. HitBTC has a daily trading volume of around $120 million.</p></div></div></section></div></a></div><div class=\"postArticle-readMore\"><a class=\"button button--smaller button--chromeless u-baseColor--buttonNormal\" data-action=\"open-post\" data-action-source=\"---------1----------------\" data-action-value=\"https://medium.com/@trackr.im/trackr-is-now-live-on-hitbtc-for-trading-bbce3eacf0c9?source=---------1----------------\" data-post-id=\"bbce3eacf0c9\" href=\"https://medium.com/@trackr.im/trackr-is-now-live-on-hitbtc-for-trading-bbce3eacf0c9?source=---------1----------------\">Read more…</a></div><div class=\"u-clearfix u-paddingTop10\"><div class=\"buttonSet buttonSet--withLabels u-floatLeft\"><div class=\"buttonSet-inner\"><div class=\"multirecommend js-actionMultirecommend u-flexCenter\" data-is-compressed=\"true\" data-is-flush-left=\"true\" data-post-id=\"bbce3eacf0c9\" data-source=\"listing--------------------------clap_preview\"><div class=\"u-relative u-foreground\"><button aria-label=\"Clap\" class=\"button button--primary button--chromeless u-accentColor--buttonNormal button--withIcon button--withSvgIcon clapButton js-actionMultirecommendButton\" data-action=\"sign-up-prompt\" data-action-source=\"listing--------------------------clap_preview\" data-redirect=\"https://medium.com/_/vote/p/bbce3eacf0c9\" data-requires-token=\"true\" data-sign-in-action=\"multivote\"><span class=\"button-defaultState\"><span class=\"svgIcon svgIcon--clap svgIcon--25px is-flushLeft\"><svg class=\"svgIcon-use\" height=\"25\" viewbox=\"0 0 25 25\" width=\"25\"><g fill-rule=\"evenodd\"><path d=\"M11.739 0l.761 2.966L13.261 0z\"></path><path d=\"M14.815 3.776l1.84-2.551-1.43-.471z\"></path><path d=\"M8.378 1.224l1.84 2.551L9.81.753z\"></path><path d=\"M20.382 21.622c-1.04 1.04-2.115 1.507-3.166 1.608.168-.14.332-.29.492-.45 2.885-2.886 3.456-5.982 1.69-9.211l-1.101-1.937-.955-2.02c-.315-.676-.235-1.185.245-1.556a.836.836 0 0 1 .66-.16c.342.056.66.28.879.605l2.856 5.023c1.179 1.962 1.379 5.119-1.6 8.098m-13.29-.528l-5.02-5.02a1 1 0 0 1 .707-1.701c.255 0 .512.098.707.292l2.607 2.607a.442.442 0 0 0 .624-.624L4.11 14.04l-1.75-1.75a.998.998 0 1 1 1.41-1.413l4.154 4.156a.44.44 0 0 0 .624 0 .44.44 0 0 0 0-.624l-4.152-4.153-1.172-1.171a.998.998 0 0 1 0-1.41 1.018 1.018 0 0 1 1.41 0l1.172 1.17 4.153 4.152a.437.437 0 0 0 .624 0 .442.442 0 0 0 0-.624L6.43 8.222a.988.988 0 0 1-.291-.705.99.99 0 0 1 .29-.706 1 1 0 0 1 1.412 0l6.992 6.993a.443.443 0 0 0 .71-.501l-1.35-2.856c-.315-.676-.235-1.185.246-1.557a.85.85 0 0 1 .66-.16c.342.056.659.28.879.606L18.628 14c1.573 2.876 1.067 5.545-1.544 8.156-1.396 1.397-3.144 1.966-5.063 1.652-1.713-.286-3.463-1.248-4.928-2.714zM10.99 5.976l2.562 2.562c-.497.607-.563 1.414-.155 2.284l.265.562-4.257-4.257a.98.98 0 0 1-.117-.445c0-.267.104-.517.292-.706a1.023 1.023 0 0 1 1.41 0zm8.887 2.06c-.375-.557-.902-.916-1.486-1.011a1.738 1.738 0 0 0-1.342.332c-.376.29-.61.656-.712 1.065a2.1 2.1 0 0 0-1.095-.562 1.776 1.776 0 0 0-.992.128l-2.636-2.636a1.883 1.883 0 0 0-2.658 0 1.862 1.862 0 0 0-.478.847 1.886 1.886 0 0 0-2.671-.012 1.867 1.867 0 0 0-.503.909c-.754-.754-1.992-.754-2.703-.044a1.881 1.881 0 0 0 0 2.658c-.288.12-.605.288-.864.547a1.884 1.884 0 0 0 0 2.659l.624.622a1.879 1.879 0 0 0-.91 3.16l5.019 5.02c1.595 1.594 3.515 2.645 5.408 2.959a7.16 7.16 0 0 0 1.173.098c1.026 0 1.997-.24 2.892-.7.279.04.555.065.828.065 1.53 0 2.969-.628 4.236-1.894 3.338-3.338 3.083-6.928 1.738-9.166l-2.868-5.043z\"></path></g></svg></span></span><span class=\"button-activeState\"><span class=\"svgIcon svgIcon--clapFilled svgIcon--25px is-flushLeft\"><svg class=\"svgIcon-use\" height=\"25\" viewbox=\"0 0 25 25\" width=\"25\"><g fill-rule=\"evenodd\"><path d=\"M11.738 0l.762 2.966L13.262 0z\"></path><path d=\"M16.634 1.224l-1.432-.47-.408 3.022z\"></path><path d=\"M9.79.754l-1.431.47 1.84 2.552z\"></path><path d=\"M22.472 13.307l-3.023-5.32c-.287-.426-.689-.705-1.123-.776a1.16 1.16 0 0 0-.911.221c-.297.231-.474.515-.535.84.017.022.036.04.053.063l2.843 5.001c1.95 3.564 1.328 6.973-1.843 10.144a8.46 8.46 0 0 1-.549.501c1.205-.156 2.328-.737 3.351-1.76 3.268-3.268 3.041-6.749 1.737-8.914\"></path><path d=\"M12.58 9.887c-.156-.83.096-1.569.692-2.142L10.78 5.252c-.5-.504-1.378-.504-1.879 0-.178.18-.273.4-.329.63l4.008 4.005z\"></path><path d=\"M15.812 9.04c-.218-.323-.539-.55-.88-.606a.814.814 0 0 0-.644.153c-.176.137-.713.553-.24 1.566l1.43 3.025a.539.539 0 1 1-.868.612L7.2 6.378a.986.986 0 1 0-1.395 1.395l4.401 4.403a.538.538 0 1 1-.762.762L5.046 8.54 3.802 7.295a.99.99 0 0 0-1.396 0 .981.981 0 0 0 0 1.394L3.647 9.93l4.402 4.403a.537.537 0 0 1 0 .761.535.535 0 0 1-.762 0L2.89 10.696a.992.992 0 0 0-1.399-.003.983.983 0 0 0 0 1.395l1.855 1.854 2.763 2.765a.538.538 0 0 1-.76.761l-2.765-2.764a.982.982 0 0 0-1.395 0 .989.989 0 0 0 0 1.395l5.32 5.32c3.371 3.372 6.64 4.977 10.49 1.126C19.74 19.8 20.271 17 18.62 13.982L15.812 9.04z\"></path></g></svg></span></span></button></div><span class=\"u-textAlignCenter u-relative u-background js-actionMultirecommendCount u-marginLeft5\"></span></div></div></div><div class=\"buttonSet u-floatRight\"><div class=\"buttonSet-inner\"><button aria-label=\"Bookmark this story to read later\" class=\"button button--chromeless is-touchIconFadeInPulse u-baseColor--buttonNormal button--withIcon button--withSvgIcon button--bookmark js-bookmarkButton\" data-action=\"sign-up-prompt\" data-action-source=\"listing--------------------------bookmark_preview\" data-redirect=\"https://medium.com/_/bookmark/p/bbce3eacf0c9\" data-requires-token=\"true\" data-sign-in-action=\"add-to-bookmarks\" title=\"Bookmark this story to read later\"><span class=\"button-defaultState\"><span class=\"svgIcon svgIcon--bookmark svgIcon--25px is-flushRight\"><svg class=\"svgIcon-use\" height=\"25\" viewbox=\"0 0 25 25\" width=\"25\"><path d=\"M19 6c0-1.1-.9-2-2-2H8c-1.1 0-2 .9-2 2v14.66h.012c.01.103.045.204.12.285a.5.5 0 0 0 .706.03L12.5 16.85l5.662 4.126a.508.508 0 0 0 .708-.03.5.5 0 0 0 .118-.285H19V6zm-6.838 9.97L7 19.636V6c0-.55.45-1 1-1h9c.55 0 1 .45 1 1v13.637l-5.162-3.668a.49.49 0 0 0-.676 0z\" fill-rule=\"evenodd\"></path></svg></span></span><span class=\"button-activeState\"><span class=\"svgIcon svgIcon--bookmarkFilled svgIcon--25px is-flushRight\"><svg class=\"svgIcon-use\" height=\"26\" viewbox=\"0 0 25 26\" width=\"25\"><path d=\"M19 7c0-1.1-.9-2-2-2H8c-1.1 0-2 .9-2 2v14.66h.012c.01.103.045.204.12.285a.5.5 0 0 0 .706.03L12.5 17.85l5.662 4.126a.508.508 0 0 0 .708-.03.5.5 0 0 0 .118-.285H19V7z\" fill-rule=\"evenodd\"></path></svg></span></span></button></div></div></div></div></div></div>\n",
      "2 ======\n",
      "<div class=\"streamItem streamItem--postPreview js-streamItem\"><div class=\"cardChromeless u-marginTop20 u-paddingTop10 u-paddingBottom15 u-paddingLeft20 u-paddingRight20\"><div class=\"postArticle postArticle--short js-postArticle js-trackedPost\" data-post-id=\"851f298836bb\" data-source=\"---------2----------------\"><div class=\"u-clearfix u-marginBottom15 u-paddingTop5\"><div class=\"postMetaInline u-floatLeft\"><div class=\"u-flexCenter\"><div class=\"postMetaInline-avatar u-flex0\"><a class=\"link avatar u-baseColor--link\" data-action=\"show-user-card\" data-action-type=\"hover\" data-action-value=\"6d06a367b827\" data-user-id=\"6d06a367b827\" dir=\"auto\" href=\"https://medium.com/@aleksandrkolesnichenko\"><img alt=\"Go to the profile of Aleksandr Kolesnichenko\" class=\"avatar-image u-size36x36 u-xs-size32x32\" src=\"https://cdn-images-1.medium.com/fit/c/72/72/0*-VcENH-Xsm-WTZp8.\"/></a></div><div class=\"postMetaInline postMetaInline-authorLockup u-flex1 u-noWrapWithEllipsis\"><a class=\"link link link--darken link--accent u-accentColor--textNormal u-accentColor--textDarken u-baseColor--link\" data-action=\"show-user-card\" data-action-source=\"---------2----------------\" data-action-type=\"hover\" data-action-value=\"6d06a367b827\" data-user-id=\"6d06a367b827\" dir=\"auto\" href=\"https://medium.com/@aleksandrkolesnichenko?source=---------2----------------\">Aleksandr Kolesnichenko</a> in <a class=\"link link--darken link--accent u-accentColor--textNormal u-baseColor--link\" data-action=\"show-collection-card\" data-action-source=\"---------2----------------\" data-action-type=\"hover\" data-action-value=\"koles-coin-news\" href=\"https://medium.com/koles-coin-news?source=---------2----------------\">Koles Coin News</a><div class=\"u-fontSize12 u-baseColor--textNormal u-textColorNormal js-postMetaInlineSupplemental\"><a class=\"link link--darken\" data-action=\"open-post\" data-action-source=\"preview-listing\" data-action-value=\"https://medium.com/koles-coin-news/israeli-governments-announcement-about-ico-851f298836bb?source=---------2----------------\" href=\"https://medium.com/koles-coin-news/israeli-governments-announcement-about-ico-851f298836bb?source=---------2----------------\"><time datetime=\"2017-09-21T10:03:32.655Z\">Sep 21</time></a><span class=\"middotDivider u-fontSize12\"></span><span class=\"readingTime\" title=\"1 min read\"></span></div></div></div></div></div><div><a class=\"\" data-action-source=\"---------2----------------\" href=\"https://medium.com/koles-coin-news/israeli-governments-announcement-about-ico-851f298836bb?source=---------2----------------\"><div class=\"postArticle-content js-postField\"><section class=\"section section--body section--first section--last\"><div class=\"section-divider\"><hr class=\"section-divider\"/></div><div class=\"section-content\"><div class=\"section-inner sectionLayout--insetColumn\"><p class=\"graf graf--p graf--leading\" id=\"7fca\" name=\"7fca\">Israeli Governments’ Announcement About ICO</p><figure class=\"graf graf--figure graf--layoutConstrainedHeightPreview graf-after--p graf--trailing\" id=\"813f\" name=\"813f\"><div class=\"aspectRatioPlaceholder is-locked\" style=\"max-width: 426.66666666666663px; max-height: 240px;\"><div class=\"aspectRatioPlaceholder-fill\" style=\"padding-bottom: 56.3%;\"></div><img class=\"graf-image\" data-height=\"1080\" data-image-id=\"1*J38WQEa5gabl3FVqT6QrQQ.jpeg\" data-width=\"1920\" src=\"https://cdn-images-1.medium.com/max/853/1*J38WQEa5gabl3FVqT6QrQQ.jpeg\"/></div></figure></div></div></section></div></a></div><div class=\"postArticle-readMore\"><a class=\"button button--smaller button--chromeless u-baseColor--buttonNormal\" data-action=\"open-post\" data-action-source=\"---------2----------------\" data-action-value=\"https://medium.com/koles-coin-news/israeli-governments-announcement-about-ico-851f298836bb?source=---------2----------------\" data-post-id=\"851f298836bb\" href=\"https://medium.com/koles-coin-news/israeli-governments-announcement-about-ico-851f298836bb?source=---------2----------------\">Read more…</a></div><div class=\"u-clearfix u-paddingTop10\"><div class=\"buttonSet buttonSet--withLabels u-floatLeft\"><div class=\"buttonSet-inner\"><div class=\"multirecommend js-actionMultirecommend u-flexCenter\" data-is-compressed=\"true\" data-is-flush-left=\"true\" data-post-id=\"851f298836bb\" data-source=\"listing--------------------------clap_preview\"><div class=\"u-relative u-foreground\"><button aria-label=\"Clap\" class=\"button button--primary button--chromeless u-accentColor--buttonNormal button--withIcon button--withSvgIcon clapButton js-actionMultirecommendButton\" data-action=\"sign-up-prompt\" data-action-source=\"listing--------------------------clap_preview\" data-redirect=\"https://medium.com/_/vote/p/851f298836bb\" data-requires-token=\"true\" data-sign-in-action=\"multivote\"><span class=\"button-defaultState\"><span class=\"svgIcon svgIcon--clap svgIcon--25px is-flushLeft\"><svg class=\"svgIcon-use\" height=\"25\" viewbox=\"0 0 25 25\" width=\"25\"><g fill-rule=\"evenodd\"><path d=\"M11.739 0l.761 2.966L13.261 0z\"></path><path d=\"M14.815 3.776l1.84-2.551-1.43-.471z\"></path><path d=\"M8.378 1.224l1.84 2.551L9.81.753z\"></path><path d=\"M20.382 21.622c-1.04 1.04-2.115 1.507-3.166 1.608.168-.14.332-.29.492-.45 2.885-2.886 3.456-5.982 1.69-9.211l-1.101-1.937-.955-2.02c-.315-.676-.235-1.185.245-1.556a.836.836 0 0 1 .66-.16c.342.056.66.28.879.605l2.856 5.023c1.179 1.962 1.379 5.119-1.6 8.098m-13.29-.528l-5.02-5.02a1 1 0 0 1 .707-1.701c.255 0 .512.098.707.292l2.607 2.607a.442.442 0 0 0 .624-.624L4.11 14.04l-1.75-1.75a.998.998 0 1 1 1.41-1.413l4.154 4.156a.44.44 0 0 0 .624 0 .44.44 0 0 0 0-.624l-4.152-4.153-1.172-1.171a.998.998 0 0 1 0-1.41 1.018 1.018 0 0 1 1.41 0l1.172 1.17 4.153 4.152a.437.437 0 0 0 .624 0 .442.442 0 0 0 0-.624L6.43 8.222a.988.988 0 0 1-.291-.705.99.99 0 0 1 .29-.706 1 1 0 0 1 1.412 0l6.992 6.993a.443.443 0 0 0 .71-.501l-1.35-2.856c-.315-.676-.235-1.185.246-1.557a.85.85 0 0 1 .66-.16c.342.056.659.28.879.606L18.628 14c1.573 2.876 1.067 5.545-1.544 8.156-1.396 1.397-3.144 1.966-5.063 1.652-1.713-.286-3.463-1.248-4.928-2.714zM10.99 5.976l2.562 2.562c-.497.607-.563 1.414-.155 2.284l.265.562-4.257-4.257a.98.98 0 0 1-.117-.445c0-.267.104-.517.292-.706a1.023 1.023 0 0 1 1.41 0zm8.887 2.06c-.375-.557-.902-.916-1.486-1.011a1.738 1.738 0 0 0-1.342.332c-.376.29-.61.656-.712 1.065a2.1 2.1 0 0 0-1.095-.562 1.776 1.776 0 0 0-.992.128l-2.636-2.636a1.883 1.883 0 0 0-2.658 0 1.862 1.862 0 0 0-.478.847 1.886 1.886 0 0 0-2.671-.012 1.867 1.867 0 0 0-.503.909c-.754-.754-1.992-.754-2.703-.044a1.881 1.881 0 0 0 0 2.658c-.288.12-.605.288-.864.547a1.884 1.884 0 0 0 0 2.659l.624.622a1.879 1.879 0 0 0-.91 3.16l5.019 5.02c1.595 1.594 3.515 2.645 5.408 2.959a7.16 7.16 0 0 0 1.173.098c1.026 0 1.997-.24 2.892-.7.279.04.555.065.828.065 1.53 0 2.969-.628 4.236-1.894 3.338-3.338 3.083-6.928 1.738-9.166l-2.868-5.043z\"></path></g></svg></span></span><span class=\"button-activeState\"><span class=\"svgIcon svgIcon--clapFilled svgIcon--25px is-flushLeft\"><svg class=\"svgIcon-use\" height=\"25\" viewbox=\"0 0 25 25\" width=\"25\"><g fill-rule=\"evenodd\"><path d=\"M11.738 0l.762 2.966L13.262 0z\"></path><path d=\"M16.634 1.224l-1.432-.47-.408 3.022z\"></path><path d=\"M9.79.754l-1.431.47 1.84 2.552z\"></path><path d=\"M22.472 13.307l-3.023-5.32c-.287-.426-.689-.705-1.123-.776a1.16 1.16 0 0 0-.911.221c-.297.231-.474.515-.535.84.017.022.036.04.053.063l2.843 5.001c1.95 3.564 1.328 6.973-1.843 10.144a8.46 8.46 0 0 1-.549.501c1.205-.156 2.328-.737 3.351-1.76 3.268-3.268 3.041-6.749 1.737-8.914\"></path><path d=\"M12.58 9.887c-.156-.83.096-1.569.692-2.142L10.78 5.252c-.5-.504-1.378-.504-1.879 0-.178.18-.273.4-.329.63l4.008 4.005z\"></path><path d=\"M15.812 9.04c-.218-.323-.539-.55-.88-.606a.814.814 0 0 0-.644.153c-.176.137-.713.553-.24 1.566l1.43 3.025a.539.539 0 1 1-.868.612L7.2 6.378a.986.986 0 1 0-1.395 1.395l4.401 4.403a.538.538 0 1 1-.762.762L5.046 8.54 3.802 7.295a.99.99 0 0 0-1.396 0 .981.981 0 0 0 0 1.394L3.647 9.93l4.402 4.403a.537.537 0 0 1 0 .761.535.535 0 0 1-.762 0L2.89 10.696a.992.992 0 0 0-1.399-.003.983.983 0 0 0 0 1.395l1.855 1.854 2.763 2.765a.538.538 0 0 1-.76.761l-2.765-2.764a.982.982 0 0 0-1.395 0 .989.989 0 0 0 0 1.395l5.32 5.32c3.371 3.372 6.64 4.977 10.49 1.126C19.74 19.8 20.271 17 18.62 13.982L15.812 9.04z\"></path></g></svg></span></span></button></div><span class=\"u-textAlignCenter u-relative u-background js-actionMultirecommendCount u-marginLeft5\"></span></div></div></div><div class=\"buttonSet u-floatRight\"><div class=\"buttonSet-inner\"><button aria-label=\"Bookmark this story to read later\" class=\"button button--chromeless is-touchIconFadeInPulse u-baseColor--buttonNormal button--withIcon button--withSvgIcon button--bookmark js-bookmarkButton\" data-action=\"sign-up-prompt\" data-action-source=\"listing--------------------------bookmark_preview\" data-redirect=\"https://medium.com/_/bookmark/p/851f298836bb\" data-requires-token=\"true\" data-sign-in-action=\"add-to-bookmarks\" title=\"Bookmark this story to read later\"><span class=\"button-defaultState\"><span class=\"svgIcon svgIcon--bookmark svgIcon--25px is-flushRight\"><svg class=\"svgIcon-use\" height=\"25\" viewbox=\"0 0 25 25\" width=\"25\"><path d=\"M19 6c0-1.1-.9-2-2-2H8c-1.1 0-2 .9-2 2v14.66h.012c.01.103.045.204.12.285a.5.5 0 0 0 .706.03L12.5 16.85l5.662 4.126a.508.508 0 0 0 .708-.03.5.5 0 0 0 .118-.285H19V6zm-6.838 9.97L7 19.636V6c0-.55.45-1 1-1h9c.55 0 1 .45 1 1v13.637l-5.162-3.668a.49.49 0 0 0-.676 0z\" fill-rule=\"evenodd\"></path></svg></span></span><span class=\"button-activeState\"><span class=\"svgIcon svgIcon--bookmarkFilled svgIcon--25px is-flushRight\"><svg class=\"svgIcon-use\" height=\"26\" viewbox=\"0 0 25 26\" width=\"25\"><path d=\"M19 7c0-1.1-.9-2-2-2H8c-1.1 0-2 .9-2 2v14.66h.012c.01.103.045.204.12.285a.5.5 0 0 0 .706.03L12.5 17.85l5.662 4.126a.508.508 0 0 0 .708-.03.5.5 0 0 0 .118-.285H19V7z\" fill-rule=\"evenodd\"></path></svg></span></span></button></div></div></div></div></div></div>\n",
      "3 ======\n",
      "<div class=\"streamItem streamItem--postPreview js-streamItem\"><div class=\"cardChromeless u-marginTop20 u-paddingTop10 u-paddingBottom15 u-paddingLeft20 u-paddingRight20\"><div class=\"postArticle postArticle--short js-postArticle js-trackedPost\" data-post-id=\"ffcca3c72a04\" data-source=\"---------3----------------\"><div class=\"u-clearfix u-marginBottom15 u-paddingTop5\"><div class=\"postMetaInline u-floatLeft\"><div class=\"u-flexCenter\"><div class=\"postMetaInline-avatar u-flex0\"><a class=\"link avatar u-baseColor--link\" data-action=\"show-user-card\" data-action-type=\"hover\" data-action-value=\"1aa1c6b4ff69\" data-user-id=\"1aa1c6b4ff69\" dir=\"auto\" href=\"https://medium.com/@dentacoin\"><img alt=\"Go to the profile of Dentacoin\" class=\"avatar-image u-size36x36 u-xs-size32x32\" src=\"https://cdn-images-1.medium.com/fit/c/72/72/0*Sn0ym-gQmIw2eXN1.jpg\"/></a></div><div class=\"postMetaInline postMetaInline-authorLockup u-flex1 u-noWrapWithEllipsis\"><a class=\"link link link--darken link--accent u-accentColor--textNormal u-accentColor--textDarken u-baseColor--link\" data-action=\"show-user-card\" data-action-source=\"---------3----------------\" data-action-type=\"hover\" data-action-value=\"1aa1c6b4ff69\" data-user-id=\"1aa1c6b4ff69\" dir=\"auto\" href=\"https://medium.com/@dentacoin?source=---------3----------------\">Dentacoin</a><div class=\"u-fontSize12 u-baseColor--textNormal u-textColorNormal js-postMetaInlineSupplemental\"><a class=\"link link--darken\" data-action=\"open-post\" data-action-source=\"preview-listing\" data-action-value=\"https://medium.com/@dentacoin/circulating-supply-of-dentacoin-ffcca3c72a04?source=---------3----------------\" href=\"https://medium.com/@dentacoin/circulating-supply-of-dentacoin-ffcca3c72a04?source=---------3----------------\"><time datetime=\"2017-09-21T09:51:45.000Z\">Sep 21</time></a><span class=\"middotDivider u-fontSize12\"></span><span class=\"readingTime\" title=\"2 min read\"></span></div></div></div></div></div><div><a class=\"\" data-action-source=\"---------3----------------\" href=\"https://medium.com/@dentacoin/circulating-supply-of-dentacoin-ffcca3c72a04?source=---------3----------------\"><div class=\"postArticle-content js-postField\"><section class=\"section section--body section--first section--last\"><div class=\"section-divider\"><hr class=\"section-divider\"/></div><div class=\"section-content\"><div class=\"section-inner sectionLayout--insetColumn\"><h3 class=\"graf graf--h3 graf--leading graf--title\" id=\"f732\" name=\"f732\">Circulating Supply of Dentacoin</h3><figure class=\"graf graf--figure graf--layoutConstrainedHeightPreview graf-after--h3\" id=\"2df3\" name=\"2df3\"><div class=\"aspectRatioPlaceholder is-locked\" style=\"max-width: 342.75921165381317px; max-height: 240px;\"><div class=\"aspectRatioPlaceholder-fill\" style=\"padding-bottom: 70%;\"></div><img class=\"graf-image\" data-external-src=\"http://www.dentacoin.com/blog/wp-content/uploads/2017/09/coinmarketcap-dentacoin.jpg\" data-height=\"3501\" data-image-id=\"0*jrKvOGkF6t4ja7s8.jpg\" data-width=\"5000\" src=\"https://cdn-images-1.medium.com/max/686/0*jrKvOGkF6t4ja7s8.jpg\"/></div></figure><p class=\"graf graf--p graf-after--figure graf--trailing\" id=\"2cf2\" name=\"2cf2\">Hello supporters and community.</p></div></div></section></div></a></div><div class=\"postArticle-readMore\"><a class=\"button button--smaller button--chromeless u-baseColor--buttonNormal\" data-action=\"open-post\" data-action-source=\"---------3----------------\" data-action-value=\"https://medium.com/@dentacoin/circulating-supply-of-dentacoin-ffcca3c72a04?source=---------3----------------\" data-post-id=\"ffcca3c72a04\" href=\"https://medium.com/@dentacoin/circulating-supply-of-dentacoin-ffcca3c72a04?source=---------3----------------\">Read more…</a></div><div class=\"u-clearfix u-paddingTop10\"><div class=\"buttonSet buttonSet--withLabels u-floatLeft\"><div class=\"buttonSet-inner\"><div class=\"multirecommend js-actionMultirecommend u-flexCenter\" data-is-compressed=\"true\" data-is-flush-left=\"true\" data-post-id=\"ffcca3c72a04\" data-source=\"listing--------------------------clap_preview\"><div class=\"u-relative u-foreground\"><button aria-label=\"Clap\" class=\"button button--primary button--chromeless u-accentColor--buttonNormal button--withIcon button--withSvgIcon clapButton js-actionMultirecommendButton\" data-action=\"sign-up-prompt\" data-action-source=\"listing--------------------------clap_preview\" data-redirect=\"https://medium.com/_/vote/p/ffcca3c72a04\" data-requires-token=\"true\" data-sign-in-action=\"multivote\"><span class=\"button-defaultState\"><span class=\"svgIcon svgIcon--clap svgIcon--25px is-flushLeft\"><svg class=\"svgIcon-use\" height=\"25\" viewbox=\"0 0 25 25\" width=\"25\"><g fill-rule=\"evenodd\"><path d=\"M11.739 0l.761 2.966L13.261 0z\"></path><path d=\"M14.815 3.776l1.84-2.551-1.43-.471z\"></path><path d=\"M8.378 1.224l1.84 2.551L9.81.753z\"></path><path d=\"M20.382 21.622c-1.04 1.04-2.115 1.507-3.166 1.608.168-.14.332-.29.492-.45 2.885-2.886 3.456-5.982 1.69-9.211l-1.101-1.937-.955-2.02c-.315-.676-.235-1.185.245-1.556a.836.836 0 0 1 .66-.16c.342.056.66.28.879.605l2.856 5.023c1.179 1.962 1.379 5.119-1.6 8.098m-13.29-.528l-5.02-5.02a1 1 0 0 1 .707-1.701c.255 0 .512.098.707.292l2.607 2.607a.442.442 0 0 0 .624-.624L4.11 14.04l-1.75-1.75a.998.998 0 1 1 1.41-1.413l4.154 4.156a.44.44 0 0 0 .624 0 .44.44 0 0 0 0-.624l-4.152-4.153-1.172-1.171a.998.998 0 0 1 0-1.41 1.018 1.018 0 0 1 1.41 0l1.172 1.17 4.153 4.152a.437.437 0 0 0 .624 0 .442.442 0 0 0 0-.624L6.43 8.222a.988.988 0 0 1-.291-.705.99.99 0 0 1 .29-.706 1 1 0 0 1 1.412 0l6.992 6.993a.443.443 0 0 0 .71-.501l-1.35-2.856c-.315-.676-.235-1.185.246-1.557a.85.85 0 0 1 .66-.16c.342.056.659.28.879.606L18.628 14c1.573 2.876 1.067 5.545-1.544 8.156-1.396 1.397-3.144 1.966-5.063 1.652-1.713-.286-3.463-1.248-4.928-2.714zM10.99 5.976l2.562 2.562c-.497.607-.563 1.414-.155 2.284l.265.562-4.257-4.257a.98.98 0 0 1-.117-.445c0-.267.104-.517.292-.706a1.023 1.023 0 0 1 1.41 0zm8.887 2.06c-.375-.557-.902-.916-1.486-1.011a1.738 1.738 0 0 0-1.342.332c-.376.29-.61.656-.712 1.065a2.1 2.1 0 0 0-1.095-.562 1.776 1.776 0 0 0-.992.128l-2.636-2.636a1.883 1.883 0 0 0-2.658 0 1.862 1.862 0 0 0-.478.847 1.886 1.886 0 0 0-2.671-.012 1.867 1.867 0 0 0-.503.909c-.754-.754-1.992-.754-2.703-.044a1.881 1.881 0 0 0 0 2.658c-.288.12-.605.288-.864.547a1.884 1.884 0 0 0 0 2.659l.624.622a1.879 1.879 0 0 0-.91 3.16l5.019 5.02c1.595 1.594 3.515 2.645 5.408 2.959a7.16 7.16 0 0 0 1.173.098c1.026 0 1.997-.24 2.892-.7.279.04.555.065.828.065 1.53 0 2.969-.628 4.236-1.894 3.338-3.338 3.083-6.928 1.738-9.166l-2.868-5.043z\"></path></g></svg></span></span><span class=\"button-activeState\"><span class=\"svgIcon svgIcon--clapFilled svgIcon--25px is-flushLeft\"><svg class=\"svgIcon-use\" height=\"25\" viewbox=\"0 0 25 25\" width=\"25\"><g fill-rule=\"evenodd\"><path d=\"M11.738 0l.762 2.966L13.262 0z\"></path><path d=\"M16.634 1.224l-1.432-.47-.408 3.022z\"></path><path d=\"M9.79.754l-1.431.47 1.84 2.552z\"></path><path d=\"M22.472 13.307l-3.023-5.32c-.287-.426-.689-.705-1.123-.776a1.16 1.16 0 0 0-.911.221c-.297.231-.474.515-.535.84.017.022.036.04.053.063l2.843 5.001c1.95 3.564 1.328 6.973-1.843 10.144a8.46 8.46 0 0 1-.549.501c1.205-.156 2.328-.737 3.351-1.76 3.268-3.268 3.041-6.749 1.737-8.914\"></path><path d=\"M12.58 9.887c-.156-.83.096-1.569.692-2.142L10.78 5.252c-.5-.504-1.378-.504-1.879 0-.178.18-.273.4-.329.63l4.008 4.005z\"></path><path d=\"M15.812 9.04c-.218-.323-.539-.55-.88-.606a.814.814 0 0 0-.644.153c-.176.137-.713.553-.24 1.566l1.43 3.025a.539.539 0 1 1-.868.612L7.2 6.378a.986.986 0 1 0-1.395 1.395l4.401 4.403a.538.538 0 1 1-.762.762L5.046 8.54 3.802 7.295a.99.99 0 0 0-1.396 0 .981.981 0 0 0 0 1.394L3.647 9.93l4.402 4.403a.537.537 0 0 1 0 .761.535.535 0 0 1-.762 0L2.89 10.696a.992.992 0 0 0-1.399-.003.983.983 0 0 0 0 1.395l1.855 1.854 2.763 2.765a.538.538 0 0 1-.76.761l-2.765-2.764a.982.982 0 0 0-1.395 0 .989.989 0 0 0 0 1.395l5.32 5.32c3.371 3.372 6.64 4.977 10.49 1.126C19.74 19.8 20.271 17 18.62 13.982L15.812 9.04z\"></path></g></svg></span></span></button></div><span class=\"u-textAlignCenter u-relative u-background js-actionMultirecommendCount u-marginLeft5\"></span></div></div></div><div class=\"buttonSet u-floatRight\"><div class=\"buttonSet-inner\"><button aria-label=\"Bookmark this story to read later\" class=\"button button--chromeless is-touchIconFadeInPulse u-baseColor--buttonNormal button--withIcon button--withSvgIcon button--bookmark js-bookmarkButton\" data-action=\"sign-up-prompt\" data-action-source=\"listing--------------------------bookmark_preview\" data-redirect=\"https://medium.com/_/bookmark/p/ffcca3c72a04\" data-requires-token=\"true\" data-sign-in-action=\"add-to-bookmarks\" title=\"Bookmark this story to read later\"><span class=\"button-defaultState\"><span class=\"svgIcon svgIcon--bookmark svgIcon--25px is-flushRight\"><svg class=\"svgIcon-use\" height=\"25\" viewbox=\"0 0 25 25\" width=\"25\"><path d=\"M19 6c0-1.1-.9-2-2-2H8c-1.1 0-2 .9-2 2v14.66h.012c.01.103.045.204.12.285a.5.5 0 0 0 .706.03L12.5 16.85l5.662 4.126a.508.508 0 0 0 .708-.03.5.5 0 0 0 .118-.285H19V6zm-6.838 9.97L7 19.636V6c0-.55.45-1 1-1h9c.55 0 1 .45 1 1v13.637l-5.162-3.668a.49.49 0 0 0-.676 0z\" fill-rule=\"evenodd\"></path></svg></span></span><span class=\"button-activeState\"><span class=\"svgIcon svgIcon--bookmarkFilled svgIcon--25px is-flushRight\"><svg class=\"svgIcon-use\" height=\"26\" viewbox=\"0 0 25 26\" width=\"25\"><path d=\"M19 7c0-1.1-.9-2-2-2H8c-1.1 0-2 .9-2 2v14.66h.012c.01.103.045.204.12.285a.5.5 0 0 0 .706.03L12.5 17.85l5.662 4.126a.508.508 0 0 0 .708-.03.5.5 0 0 0 .118-.285H19V7z\" fill-rule=\"evenodd\"></path></svg></span></span></button></div></div></div></div></div></div>\n",
      "4 ======\n",
      "<div class=\"streamItem streamItem--postPreview js-streamItem\"><div class=\"cardChromeless u-marginTop20 u-paddingTop10 u-paddingBottom15 u-paddingLeft20 u-paddingRight20\"><div class=\"postArticle postArticle--short js-postArticle js-trackedPost\" data-post-id=\"abafbc563d43\" data-source=\"---------4----------------\"><div class=\"u-clearfix u-marginBottom15 u-paddingTop5\"><div class=\"postMetaInline u-floatLeft\"><div class=\"u-flexCenter\"><div class=\"postMetaInline-avatar u-flex0\"><a class=\"link avatar u-baseColor--link\" data-action=\"show-user-card\" data-action-type=\"hover\" data-action-value=\"dea74ff04640\" data-user-id=\"dea74ff04640\" dir=\"auto\" href=\"https://medium.com/@hongalex\"><img alt=\"Go to the profile of Alex Hong\" class=\"avatar-image u-size36x36 u-xs-size32x32\" src=\"https://cdn-images-1.medium.com/fit/c/72/72/1*VjbfKqb5n9lENn7TlhSp3w.jpeg\"/></a></div><div class=\"postMetaInline postMetaInline-authorLockup u-flex1 u-noWrapWithEllipsis\"><a class=\"link link link--darken link--accent u-accentColor--textNormal u-accentColor--textDarken u-baseColor--link\" data-action=\"show-user-card\" data-action-source=\"---------4----------------\" data-action-type=\"hover\" data-action-value=\"dea74ff04640\" data-user-id=\"dea74ff04640\" dir=\"auto\" href=\"https://medium.com/@hongalex?source=---------4----------------\">Alex Hong</a><div class=\"u-fontSize12 u-baseColor--textNormal u-textColorNormal js-postMetaInlineSupplemental\"><a class=\"link link--darken\" data-action=\"open-post\" data-action-source=\"preview-listing\" data-action-value=\"https://medium.com/@hongalex/the-future-of-bitcoin-and-other-cryptocurrencies-abafbc563d43?source=---------4----------------\" href=\"https://medium.com/@hongalex/the-future-of-bitcoin-and-other-cryptocurrencies-abafbc563d43?source=---------4----------------\"><time datetime=\"2017-09-21T09:39:13.338Z\">Sep 21</time></a><span class=\"middotDivider u-fontSize12\"></span><span class=\"readingTime\" title=\"10 min read\"></span></div></div></div></div></div><div><a class=\"\" data-action-source=\"---------4----------------\" href=\"https://medium.com/@hongalex/the-future-of-bitcoin-and-other-cryptocurrencies-abafbc563d43?source=---------4----------------\"><div class=\"postArticle-content js-postField\"><section class=\"section section--body section--first section--last\"><div class=\"section-divider\"><hr class=\"section-divider\"/></div><div class=\"section-content\"><div class=\"section-inner sectionLayout--insetColumn\"><figure class=\"graf graf--figure graf--layoutCroppedHeightPreview graf--leading\" id=\"previewImage\" name=\"previewImage\"><div class=\"aspectRatioPlaceholder is-locked\"><div class=\"aspectRatioPlaceholder-fill\" style=\"padding-bottom: 30%;\"></div><img class=\"graf-image\" data-height=\"636\" data-image-id=\"1*VGI4R3mGcVQqLX-sCaAGwA.png\" data-is-featured=\"true\" data-width=\"1891\" src=\"https://cdn-images-1.medium.com/fit/t/1600/480/1*VGI4R3mGcVQqLX-sCaAGwA.png\"/></div></figure><h3 class=\"graf graf--h3 graf-after--figure graf--trailing graf--title\" id=\"0c22\" name=\"0c22\"><strong class=\"markup--strong markup--h3-strong\">The Future of Bitcoin and Other Cryptocurrencies</strong></h3></div></div></section></div></a></div><div class=\"postArticle-readMore\"><a class=\"button button--smaller button--chromeless u-baseColor--buttonNormal\" data-action=\"open-post\" data-action-source=\"---------4----------------\" data-action-value=\"https://medium.com/@hongalex/the-future-of-bitcoin-and-other-cryptocurrencies-abafbc563d43?source=---------4----------------\" data-post-id=\"abafbc563d43\" href=\"https://medium.com/@hongalex/the-future-of-bitcoin-and-other-cryptocurrencies-abafbc563d43?source=---------4----------------\">Read more…</a></div><div class=\"u-clearfix u-paddingTop10\"><div class=\"buttonSet buttonSet--withLabels u-floatLeft\"><div class=\"buttonSet-inner\"><div class=\"multirecommend js-actionMultirecommend u-flexCenter\" data-is-compressed=\"true\" data-is-flush-left=\"true\" data-post-id=\"abafbc563d43\" data-source=\"listing--------------------------clap_preview\"><div class=\"u-relative u-foreground\"><button aria-label=\"Clap\" class=\"button button--primary button--chromeless u-accentColor--buttonNormal button--withIcon button--withSvgIcon clapButton js-actionMultirecommendButton\" data-action=\"sign-up-prompt\" data-action-source=\"listing--------------------------clap_preview\" data-redirect=\"https://medium.com/_/vote/p/abafbc563d43\" data-requires-token=\"true\" data-sign-in-action=\"multivote\"><span class=\"button-defaultState\"><span class=\"svgIcon svgIcon--clap svgIcon--25px is-flushLeft\"><svg class=\"svgIcon-use\" height=\"25\" viewbox=\"0 0 25 25\" width=\"25\"><g fill-rule=\"evenodd\"><path d=\"M11.739 0l.761 2.966L13.261 0z\"></path><path d=\"M14.815 3.776l1.84-2.551-1.43-.471z\"></path><path d=\"M8.378 1.224l1.84 2.551L9.81.753z\"></path><path d=\"M20.382 21.622c-1.04 1.04-2.115 1.507-3.166 1.608.168-.14.332-.29.492-.45 2.885-2.886 3.456-5.982 1.69-9.211l-1.101-1.937-.955-2.02c-.315-.676-.235-1.185.245-1.556a.836.836 0 0 1 .66-.16c.342.056.66.28.879.605l2.856 5.023c1.179 1.962 1.379 5.119-1.6 8.098m-13.29-.528l-5.02-5.02a1 1 0 0 1 .707-1.701c.255 0 .512.098.707.292l2.607 2.607a.442.442 0 0 0 .624-.624L4.11 14.04l-1.75-1.75a.998.998 0 1 1 1.41-1.413l4.154 4.156a.44.44 0 0 0 .624 0 .44.44 0 0 0 0-.624l-4.152-4.153-1.172-1.171a.998.998 0 0 1 0-1.41 1.018 1.018 0 0 1 1.41 0l1.172 1.17 4.153 4.152a.437.437 0 0 0 .624 0 .442.442 0 0 0 0-.624L6.43 8.222a.988.988 0 0 1-.291-.705.99.99 0 0 1 .29-.706 1 1 0 0 1 1.412 0l6.992 6.993a.443.443 0 0 0 .71-.501l-1.35-2.856c-.315-.676-.235-1.185.246-1.557a.85.85 0 0 1 .66-.16c.342.056.659.28.879.606L18.628 14c1.573 2.876 1.067 5.545-1.544 8.156-1.396 1.397-3.144 1.966-5.063 1.652-1.713-.286-3.463-1.248-4.928-2.714zM10.99 5.976l2.562 2.562c-.497.607-.563 1.414-.155 2.284l.265.562-4.257-4.257a.98.98 0 0 1-.117-.445c0-.267.104-.517.292-.706a1.023 1.023 0 0 1 1.41 0zm8.887 2.06c-.375-.557-.902-.916-1.486-1.011a1.738 1.738 0 0 0-1.342.332c-.376.29-.61.656-.712 1.065a2.1 2.1 0 0 0-1.095-.562 1.776 1.776 0 0 0-.992.128l-2.636-2.636a1.883 1.883 0 0 0-2.658 0 1.862 1.862 0 0 0-.478.847 1.886 1.886 0 0 0-2.671-.012 1.867 1.867 0 0 0-.503.909c-.754-.754-1.992-.754-2.703-.044a1.881 1.881 0 0 0 0 2.658c-.288.12-.605.288-.864.547a1.884 1.884 0 0 0 0 2.659l.624.622a1.879 1.879 0 0 0-.91 3.16l5.019 5.02c1.595 1.594 3.515 2.645 5.408 2.959a7.16 7.16 0 0 0 1.173.098c1.026 0 1.997-.24 2.892-.7.279.04.555.065.828.065 1.53 0 2.969-.628 4.236-1.894 3.338-3.338 3.083-6.928 1.738-9.166l-2.868-5.043z\"></path></g></svg></span></span><span class=\"button-activeState\"><span class=\"svgIcon svgIcon--clapFilled svgIcon--25px is-flushLeft\"><svg class=\"svgIcon-use\" height=\"25\" viewbox=\"0 0 25 25\" width=\"25\"><g fill-rule=\"evenodd\"><path d=\"M11.738 0l.762 2.966L13.262 0z\"></path><path d=\"M16.634 1.224l-1.432-.47-.408 3.022z\"></path><path d=\"M9.79.754l-1.431.47 1.84 2.552z\"></path><path d=\"M22.472 13.307l-3.023-5.32c-.287-.426-.689-.705-1.123-.776a1.16 1.16 0 0 0-.911.221c-.297.231-.474.515-.535.84.017.022.036.04.053.063l2.843 5.001c1.95 3.564 1.328 6.973-1.843 10.144a8.46 8.46 0 0 1-.549.501c1.205-.156 2.328-.737 3.351-1.76 3.268-3.268 3.041-6.749 1.737-8.914\"></path><path d=\"M12.58 9.887c-.156-.83.096-1.569.692-2.142L10.78 5.252c-.5-.504-1.378-.504-1.879 0-.178.18-.273.4-.329.63l4.008 4.005z\"></path><path d=\"M15.812 9.04c-.218-.323-.539-.55-.88-.606a.814.814 0 0 0-.644.153c-.176.137-.713.553-.24 1.566l1.43 3.025a.539.539 0 1 1-.868.612L7.2 6.378a.986.986 0 1 0-1.395 1.395l4.401 4.403a.538.538 0 1 1-.762.762L5.046 8.54 3.802 7.295a.99.99 0 0 0-1.396 0 .981.981 0 0 0 0 1.394L3.647 9.93l4.402 4.403a.537.537 0 0 1 0 .761.535.535 0 0 1-.762 0L2.89 10.696a.992.992 0 0 0-1.399-.003.983.983 0 0 0 0 1.395l1.855 1.854 2.763 2.765a.538.538 0 0 1-.76.761l-2.765-2.764a.982.982 0 0 0-1.395 0 .989.989 0 0 0 0 1.395l5.32 5.32c3.371 3.372 6.64 4.977 10.49 1.126C19.74 19.8 20.271 17 18.62 13.982L15.812 9.04z\"></path></g></svg></span></span></button></div><span class=\"u-textAlignCenter u-relative u-background js-actionMultirecommendCount u-marginLeft5\"></span></div></div></div><div class=\"buttonSet u-floatRight\"><div class=\"buttonSet-inner\"><button aria-label=\"Bookmark this story to read later\" class=\"button button--chromeless is-touchIconFadeInPulse u-baseColor--buttonNormal button--withIcon button--withSvgIcon button--bookmark js-bookmarkButton\" data-action=\"sign-up-prompt\" data-action-source=\"listing--------------------------bookmark_preview\" data-redirect=\"https://medium.com/_/bookmark/p/abafbc563d43\" data-requires-token=\"true\" data-sign-in-action=\"add-to-bookmarks\" title=\"Bookmark this story to read later\"><span class=\"button-defaultState\"><span class=\"svgIcon svgIcon--bookmark svgIcon--25px is-flushRight\"><svg class=\"svgIcon-use\" height=\"25\" viewbox=\"0 0 25 25\" width=\"25\"><path d=\"M19 6c0-1.1-.9-2-2-2H8c-1.1 0-2 .9-2 2v14.66h.012c.01.103.045.204.12.285a.5.5 0 0 0 .706.03L12.5 16.85l5.662 4.126a.508.508 0 0 0 .708-.03.5.5 0 0 0 .118-.285H19V6zm-6.838 9.97L7 19.636V6c0-.55.45-1 1-1h9c.55 0 1 .45 1 1v13.637l-5.162-3.668a.49.49 0 0 0-.676 0z\" fill-rule=\"evenodd\"></path></svg></span></span><span class=\"button-activeState\"><span class=\"svgIcon svgIcon--bookmarkFilled svgIcon--25px is-flushRight\"><svg class=\"svgIcon-use\" height=\"26\" viewbox=\"0 0 25 26\" width=\"25\"><path d=\"M19 7c0-1.1-.9-2-2-2H8c-1.1 0-2 .9-2 2v14.66h.012c.01.103.045.204.12.285a.5.5 0 0 0 .706.03L12.5 17.85l5.662 4.126a.508.508 0 0 0 .708-.03.5.5 0 0 0 .118-.285H19V7z\" fill-rule=\"evenodd\"></path></svg></span></span></button></div></div></div></div></div></div>\n",
      "5 ======\n",
      "<div class=\"streamItem streamItem--postPreview js-streamItem\"><div class=\"cardChromeless u-marginTop20 u-paddingTop10 u-paddingBottom15 u-paddingLeft20 u-paddingRight20\"><div class=\"postArticle postArticle--short js-postArticle js-trackedPost\" data-post-id=\"c94a97cd4db4\" data-source=\"---------5----------------\"><div class=\"u-clearfix u-marginBottom15 u-paddingTop5\"><div class=\"postMetaInline u-floatLeft\"><div class=\"u-flexCenter\"><div class=\"postMetaInline-avatar u-flex0\"><a class=\"link avatar u-baseColor--link\" data-action=\"show-user-card\" data-action-type=\"hover\" data-action-value=\"6d06a367b827\" data-user-id=\"6d06a367b827\" dir=\"auto\" href=\"https://medium.com/@aleksandrkolesnichenko\"><img alt=\"Go to the profile of Aleksandr Kolesnichenko\" class=\"avatar-image u-size36x36 u-xs-size32x32\" src=\"https://cdn-images-1.medium.com/fit/c/72/72/0*-VcENH-Xsm-WTZp8.\"/></a></div><div class=\"postMetaInline postMetaInline-authorLockup u-flex1 u-noWrapWithEllipsis\"><a class=\"link link link--darken link--accent u-accentColor--textNormal u-accentColor--textDarken u-baseColor--link\" data-action=\"show-user-card\" data-action-source=\"---------5----------------\" data-action-type=\"hover\" data-action-value=\"6d06a367b827\" data-user-id=\"6d06a367b827\" dir=\"auto\" href=\"https://medium.com/@aleksandrkolesnichenko?source=---------5----------------\">Aleksandr Kolesnichenko</a> in <a class=\"link link--darken link--accent u-accentColor--textNormal u-baseColor--link\" data-action=\"show-collection-card\" data-action-source=\"---------5----------------\" data-action-type=\"hover\" data-action-value=\"koles-coin-news\" href=\"https://medium.com/koles-coin-news?source=---------5----------------\">Koles Coin News</a><div class=\"u-fontSize12 u-baseColor--textNormal u-textColorNormal js-postMetaInlineSupplemental\"><a class=\"link link--darken\" data-action=\"open-post\" data-action-source=\"preview-listing\" data-action-value=\"https://medium.com/koles-coin-news/wall-street-traders-are-turning-to-cryptocurrencies-c94a97cd4db4?source=---------5----------------\" href=\"https://medium.com/koles-coin-news/wall-street-traders-are-turning-to-cryptocurrencies-c94a97cd4db4?source=---------5----------------\"><time datetime=\"2017-09-21T09:29:27.639Z\">Sep 21</time></a><span class=\"middotDivider u-fontSize12\"></span><span class=\"readingTime\" title=\"1 min read\"></span></div></div></div></div></div><div><a class=\"\" data-action-source=\"---------5----------------\" href=\"https://medium.com/koles-coin-news/wall-street-traders-are-turning-to-cryptocurrencies-c94a97cd4db4?source=---------5----------------\"><div class=\"postArticle-content js-postField\"><section class=\"section section--body section--first section--last\"><div class=\"section-divider\"><hr class=\"section-divider\"/></div><div class=\"section-content\"><div class=\"section-inner sectionLayout--insetColumn\"><p class=\"graf graf--p graf--leading\" id=\"78d3\" name=\"78d3\"><strong class=\"markup--strong markup--p-strong\">Wall Street traders are turning to cryptocurrencies</strong></p><figure class=\"graf graf--figure graf--layoutConstrainedHeightPreview graf-after--p graf--trailing\" id=\"f3f0\" name=\"f3f0\"><div class=\"aspectRatioPlaceholder is-locked\" style=\"max-width: 426.66666666666663px; max-height: 240px;\"><div class=\"aspectRatioPlaceholder-fill\" style=\"padding-bottom: 56.3%;\"></div><img class=\"graf-image\" data-height=\"1080\" data-image-id=\"1*o3koe9xJJApQklLuAdL0RQ.jpeg\" data-width=\"1920\" src=\"https://cdn-images-1.medium.com/max/853/1*o3koe9xJJApQklLuAdL0RQ.jpeg\"/></div></figure></div></div></section></div></a></div><div class=\"postArticle-readMore\"><a class=\"button button--smaller button--chromeless u-baseColor--buttonNormal\" data-action=\"open-post\" data-action-source=\"---------5----------------\" data-action-value=\"https://medium.com/koles-coin-news/wall-street-traders-are-turning-to-cryptocurrencies-c94a97cd4db4?source=---------5----------------\" data-post-id=\"c94a97cd4db4\" href=\"https://medium.com/koles-coin-news/wall-street-traders-are-turning-to-cryptocurrencies-c94a97cd4db4?source=---------5----------------\">Read more…</a></div><div class=\"u-clearfix u-paddingTop10\"><div class=\"buttonSet buttonSet--withLabels u-floatLeft\"><div class=\"buttonSet-inner\"><div class=\"multirecommend js-actionMultirecommend u-flexCenter\" data-is-compressed=\"true\" data-is-flush-left=\"true\" data-post-id=\"c94a97cd4db4\" data-source=\"listing--------------------------clap_preview\"><div class=\"u-relative u-foreground\"><button aria-label=\"Clap\" class=\"button button--primary button--chromeless u-accentColor--buttonNormal button--withIcon button--withSvgIcon clapButton js-actionMultirecommendButton\" data-action=\"sign-up-prompt\" data-action-source=\"listing--------------------------clap_preview\" data-redirect=\"https://medium.com/_/vote/p/c94a97cd4db4\" data-requires-token=\"true\" data-sign-in-action=\"multivote\"><span class=\"button-defaultState\"><span class=\"svgIcon svgIcon--clap svgIcon--25px is-flushLeft\"><svg class=\"svgIcon-use\" height=\"25\" viewbox=\"0 0 25 25\" width=\"25\"><g fill-rule=\"evenodd\"><path d=\"M11.739 0l.761 2.966L13.261 0z\"></path><path d=\"M14.815 3.776l1.84-2.551-1.43-.471z\"></path><path d=\"M8.378 1.224l1.84 2.551L9.81.753z\"></path><path d=\"M20.382 21.622c-1.04 1.04-2.115 1.507-3.166 1.608.168-.14.332-.29.492-.45 2.885-2.886 3.456-5.982 1.69-9.211l-1.101-1.937-.955-2.02c-.315-.676-.235-1.185.245-1.556a.836.836 0 0 1 .66-.16c.342.056.66.28.879.605l2.856 5.023c1.179 1.962 1.379 5.119-1.6 8.098m-13.29-.528l-5.02-5.02a1 1 0 0 1 .707-1.701c.255 0 .512.098.707.292l2.607 2.607a.442.442 0 0 0 .624-.624L4.11 14.04l-1.75-1.75a.998.998 0 1 1 1.41-1.413l4.154 4.156a.44.44 0 0 0 .624 0 .44.44 0 0 0 0-.624l-4.152-4.153-1.172-1.171a.998.998 0 0 1 0-1.41 1.018 1.018 0 0 1 1.41 0l1.172 1.17 4.153 4.152a.437.437 0 0 0 .624 0 .442.442 0 0 0 0-.624L6.43 8.222a.988.988 0 0 1-.291-.705.99.99 0 0 1 .29-.706 1 1 0 0 1 1.412 0l6.992 6.993a.443.443 0 0 0 .71-.501l-1.35-2.856c-.315-.676-.235-1.185.246-1.557a.85.85 0 0 1 .66-.16c.342.056.659.28.879.606L18.628 14c1.573 2.876 1.067 5.545-1.544 8.156-1.396 1.397-3.144 1.966-5.063 1.652-1.713-.286-3.463-1.248-4.928-2.714zM10.99 5.976l2.562 2.562c-.497.607-.563 1.414-.155 2.284l.265.562-4.257-4.257a.98.98 0 0 1-.117-.445c0-.267.104-.517.292-.706a1.023 1.023 0 0 1 1.41 0zm8.887 2.06c-.375-.557-.902-.916-1.486-1.011a1.738 1.738 0 0 0-1.342.332c-.376.29-.61.656-.712 1.065a2.1 2.1 0 0 0-1.095-.562 1.776 1.776 0 0 0-.992.128l-2.636-2.636a1.883 1.883 0 0 0-2.658 0 1.862 1.862 0 0 0-.478.847 1.886 1.886 0 0 0-2.671-.012 1.867 1.867 0 0 0-.503.909c-.754-.754-1.992-.754-2.703-.044a1.881 1.881 0 0 0 0 2.658c-.288.12-.605.288-.864.547a1.884 1.884 0 0 0 0 2.659l.624.622a1.879 1.879 0 0 0-.91 3.16l5.019 5.02c1.595 1.594 3.515 2.645 5.408 2.959a7.16 7.16 0 0 0 1.173.098c1.026 0 1.997-.24 2.892-.7.279.04.555.065.828.065 1.53 0 2.969-.628 4.236-1.894 3.338-3.338 3.083-6.928 1.738-9.166l-2.868-5.043z\"></path></g></svg></span></span><span class=\"button-activeState\"><span class=\"svgIcon svgIcon--clapFilled svgIcon--25px is-flushLeft\"><svg class=\"svgIcon-use\" height=\"25\" viewbox=\"0 0 25 25\" width=\"25\"><g fill-rule=\"evenodd\"><path d=\"M11.738 0l.762 2.966L13.262 0z\"></path><path d=\"M16.634 1.224l-1.432-.47-.408 3.022z\"></path><path d=\"M9.79.754l-1.431.47 1.84 2.552z\"></path><path d=\"M22.472 13.307l-3.023-5.32c-.287-.426-.689-.705-1.123-.776a1.16 1.16 0 0 0-.911.221c-.297.231-.474.515-.535.84.017.022.036.04.053.063l2.843 5.001c1.95 3.564 1.328 6.973-1.843 10.144a8.46 8.46 0 0 1-.549.501c1.205-.156 2.328-.737 3.351-1.76 3.268-3.268 3.041-6.749 1.737-8.914\"></path><path d=\"M12.58 9.887c-.156-.83.096-1.569.692-2.142L10.78 5.252c-.5-.504-1.378-.504-1.879 0-.178.18-.273.4-.329.63l4.008 4.005z\"></path><path d=\"M15.812 9.04c-.218-.323-.539-.55-.88-.606a.814.814 0 0 0-.644.153c-.176.137-.713.553-.24 1.566l1.43 3.025a.539.539 0 1 1-.868.612L7.2 6.378a.986.986 0 1 0-1.395 1.395l4.401 4.403a.538.538 0 1 1-.762.762L5.046 8.54 3.802 7.295a.99.99 0 0 0-1.396 0 .981.981 0 0 0 0 1.394L3.647 9.93l4.402 4.403a.537.537 0 0 1 0 .761.535.535 0 0 1-.762 0L2.89 10.696a.992.992 0 0 0-1.399-.003.983.983 0 0 0 0 1.395l1.855 1.854 2.763 2.765a.538.538 0 0 1-.76.761l-2.765-2.764a.982.982 0 0 0-1.395 0 .989.989 0 0 0 0 1.395l5.32 5.32c3.371 3.372 6.64 4.977 10.49 1.126C19.74 19.8 20.271 17 18.62 13.982L15.812 9.04z\"></path></g></svg></span></span></button></div><span class=\"u-textAlignCenter u-relative u-background js-actionMultirecommendCount u-marginLeft5\"></span></div></div></div><div class=\"buttonSet u-floatRight\"><div class=\"buttonSet-inner\"><button aria-label=\"Bookmark this story to read later\" class=\"button button--chromeless is-touchIconFadeInPulse u-baseColor--buttonNormal button--withIcon button--withSvgIcon button--bookmark js-bookmarkButton\" data-action=\"sign-up-prompt\" data-action-source=\"listing--------------------------bookmark_preview\" data-redirect=\"https://medium.com/_/bookmark/p/c94a97cd4db4\" data-requires-token=\"true\" data-sign-in-action=\"add-to-bookmarks\" title=\"Bookmark this story to read later\"><span class=\"button-defaultState\"><span class=\"svgIcon svgIcon--bookmark svgIcon--25px is-flushRight\"><svg class=\"svgIcon-use\" height=\"25\" viewbox=\"0 0 25 25\" width=\"25\"><path d=\"M19 6c0-1.1-.9-2-2-2H8c-1.1 0-2 .9-2 2v14.66h.012c.01.103.045.204.12.285a.5.5 0 0 0 .706.03L12.5 16.85l5.662 4.126a.508.508 0 0 0 .708-.03.5.5 0 0 0 .118-.285H19V6zm-6.838 9.97L7 19.636V6c0-.55.45-1 1-1h9c.55 0 1 .45 1 1v13.637l-5.162-3.668a.49.49 0 0 0-.676 0z\" fill-rule=\"evenodd\"></path></svg></span></span><span class=\"button-activeState\"><span class=\"svgIcon svgIcon--bookmarkFilled svgIcon--25px is-flushRight\"><svg class=\"svgIcon-use\" height=\"26\" viewbox=\"0 0 25 26\" width=\"25\"><path d=\"M19 7c0-1.1-.9-2-2-2H8c-1.1 0-2 .9-2 2v14.66h.012c.01.103.045.204.12.285a.5.5 0 0 0 .706.03L12.5 17.85l5.662 4.126a.508.508 0 0 0 .708-.03.5.5 0 0 0 .118-.285H19V7z\" fill-rule=\"evenodd\"></path></svg></span></span></button></div></div></div></div></div></div>\n",
      "6 ======\n",
      "<div class=\"streamItem streamItem--postPreview js-streamItem\"><div class=\"cardChromeless u-marginTop20 u-paddingTop10 u-paddingBottom15 u-paddingLeft20 u-paddingRight20\"><div class=\"postArticle postArticle--short js-postArticle js-trackedPost\" data-post-id=\"3345c7ada21\" data-source=\"---------6----------------\"><div class=\"u-clearfix u-marginBottom15 u-paddingTop5\"><div class=\"postMetaInline u-floatLeft\"><div class=\"u-flexCenter\"><div class=\"postMetaInline-avatar u-flex0\"><a class=\"link avatar u-baseColor--link\" data-action=\"show-user-card\" data-action-type=\"hover\" data-action-value=\"3facdb321b00\" data-user-id=\"3facdb321b00\" dir=\"auto\" href=\"https://medium.com/@tirta16\"><img alt=\"Go to the profile of Tirta\" class=\"avatar-image u-size36x36 u-xs-size32x32\" src=\"https://cdn-images-1.medium.com/fit/c/72/72/0*gSFZ0Ji4UKlIjyRO.\"/></a></div><div class=\"postMetaInline postMetaInline-authorLockup u-flex1 u-noWrapWithEllipsis\"><a class=\"link link link--darken link--accent u-accentColor--textNormal u-accentColor--textDarken u-baseColor--link\" data-action=\"show-user-card\" data-action-source=\"---------6----------------\" data-action-type=\"hover\" data-action-value=\"3facdb321b00\" data-user-id=\"3facdb321b00\" dir=\"auto\" href=\"https://medium.com/@tirta16?source=---------6----------------\">Tirta</a><div class=\"u-fontSize12 u-baseColor--textNormal u-textColorNormal js-postMetaInlineSupplemental\"><a class=\"link link--darken\" data-action=\"open-post\" data-action-source=\"preview-listing\" data-action-value=\"https://medium.com/@tirta16/cloud-application-exchange-bernama-wireline-3345c7ada21?source=---------6----------------\" href=\"https://medium.com/@tirta16/cloud-application-exchange-bernama-wireline-3345c7ada21?source=---------6----------------\"><time datetime=\"2017-09-21T09:28:28.548Z\">Sep 21</time></a><span class=\"middotDivider u-fontSize12\"></span><span class=\"readingTime\" title=\"3 min read\"></span></div></div></div></div></div><div><a class=\"\" data-action-source=\"---------6----------------\" href=\"https://medium.com/@tirta16/cloud-application-exchange-bernama-wireline-3345c7ada21?source=---------6----------------\"><div class=\"postArticle-content js-postField\"><section class=\"section section--body section--first section--last\"><div class=\"section-divider\"><hr class=\"section-divider\"/></div><div class=\"section-content\"><div class=\"section-inner sectionLayout--insetColumn\"><h3 class=\"graf graf--h3 graf--leading graf--title\" id=\"b667\" name=\"b667\">Cloud Application Exchange Bernama “WIRELINE”</h3><figure class=\"graf graf--figure graf--layoutConstrainedHeightPreview graf-after--h3\" id=\"741b\" name=\"741b\"><div class=\"aspectRatioPlaceholder\"><img class=\"graf-image\" data-image-id=\"1*2esTFrxZVPYXVR11tvdNIA.png\" src=\"https://cdn-images-1.medium.com/max/1200/1*2esTFrxZVPYXVR11tvdNIA.png\"/></div></figure><p class=\"graf graf--p graf-after--figure graf--trailing\" id=\"e96d\" name=\"e96d\">Wireline — sebuah startup yang berbasis di New York dan didirikan oleh insinyur…</p></div></div></section></div></a></div><div class=\"postArticle-readMore\"><a class=\"button button--smaller button--chromeless u-baseColor--buttonNormal\" data-action=\"open-post\" data-action-source=\"---------6----------------\" data-action-value=\"https://medium.com/@tirta16/cloud-application-exchange-bernama-wireline-3345c7ada21?source=---------6----------------\" data-post-id=\"3345c7ada21\" href=\"https://medium.com/@tirta16/cloud-application-exchange-bernama-wireline-3345c7ada21?source=---------6----------------\">Read more…</a></div><div class=\"u-clearfix u-paddingTop10\"><div class=\"buttonSet buttonSet--withLabels u-floatLeft\"><div class=\"buttonSet-inner\"><div class=\"multirecommend js-actionMultirecommend u-flexCenter\" data-is-compressed=\"true\" data-is-flush-left=\"true\" data-post-id=\"3345c7ada21\" data-source=\"listing--------------------------clap_preview\"><div class=\"u-relative u-foreground\"><button aria-label=\"Clap\" class=\"button button--primary button--chromeless u-accentColor--buttonNormal button--withIcon button--withSvgIcon clapButton js-actionMultirecommendButton\" data-action=\"sign-up-prompt\" data-action-source=\"listing--------------------------clap_preview\" data-redirect=\"https://medium.com/_/vote/p/3345c7ada21\" data-requires-token=\"true\" data-sign-in-action=\"multivote\"><span class=\"button-defaultState\"><span class=\"svgIcon svgIcon--clap svgIcon--25px is-flushLeft\"><svg class=\"svgIcon-use\" height=\"25\" viewbox=\"0 0 25 25\" width=\"25\"><g fill-rule=\"evenodd\"><path d=\"M11.739 0l.761 2.966L13.261 0z\"></path><path d=\"M14.815 3.776l1.84-2.551-1.43-.471z\"></path><path d=\"M8.378 1.224l1.84 2.551L9.81.753z\"></path><path d=\"M20.382 21.622c-1.04 1.04-2.115 1.507-3.166 1.608.168-.14.332-.29.492-.45 2.885-2.886 3.456-5.982 1.69-9.211l-1.101-1.937-.955-2.02c-.315-.676-.235-1.185.245-1.556a.836.836 0 0 1 .66-.16c.342.056.66.28.879.605l2.856 5.023c1.179 1.962 1.379 5.119-1.6 8.098m-13.29-.528l-5.02-5.02a1 1 0 0 1 .707-1.701c.255 0 .512.098.707.292l2.607 2.607a.442.442 0 0 0 .624-.624L4.11 14.04l-1.75-1.75a.998.998 0 1 1 1.41-1.413l4.154 4.156a.44.44 0 0 0 .624 0 .44.44 0 0 0 0-.624l-4.152-4.153-1.172-1.171a.998.998 0 0 1 0-1.41 1.018 1.018 0 0 1 1.41 0l1.172 1.17 4.153 4.152a.437.437 0 0 0 .624 0 .442.442 0 0 0 0-.624L6.43 8.222a.988.988 0 0 1-.291-.705.99.99 0 0 1 .29-.706 1 1 0 0 1 1.412 0l6.992 6.993a.443.443 0 0 0 .71-.501l-1.35-2.856c-.315-.676-.235-1.185.246-1.557a.85.85 0 0 1 .66-.16c.342.056.659.28.879.606L18.628 14c1.573 2.876 1.067 5.545-1.544 8.156-1.396 1.397-3.144 1.966-5.063 1.652-1.713-.286-3.463-1.248-4.928-2.714zM10.99 5.976l2.562 2.562c-.497.607-.563 1.414-.155 2.284l.265.562-4.257-4.257a.98.98 0 0 1-.117-.445c0-.267.104-.517.292-.706a1.023 1.023 0 0 1 1.41 0zm8.887 2.06c-.375-.557-.902-.916-1.486-1.011a1.738 1.738 0 0 0-1.342.332c-.376.29-.61.656-.712 1.065a2.1 2.1 0 0 0-1.095-.562 1.776 1.776 0 0 0-.992.128l-2.636-2.636a1.883 1.883 0 0 0-2.658 0 1.862 1.862 0 0 0-.478.847 1.886 1.886 0 0 0-2.671-.012 1.867 1.867 0 0 0-.503.909c-.754-.754-1.992-.754-2.703-.044a1.881 1.881 0 0 0 0 2.658c-.288.12-.605.288-.864.547a1.884 1.884 0 0 0 0 2.659l.624.622a1.879 1.879 0 0 0-.91 3.16l5.019 5.02c1.595 1.594 3.515 2.645 5.408 2.959a7.16 7.16 0 0 0 1.173.098c1.026 0 1.997-.24 2.892-.7.279.04.555.065.828.065 1.53 0 2.969-.628 4.236-1.894 3.338-3.338 3.083-6.928 1.738-9.166l-2.868-5.043z\"></path></g></svg></span></span><span class=\"button-activeState\"><span class=\"svgIcon svgIcon--clapFilled svgIcon--25px is-flushLeft\"><svg class=\"svgIcon-use\" height=\"25\" viewbox=\"0 0 25 25\" width=\"25\"><g fill-rule=\"evenodd\"><path d=\"M11.738 0l.762 2.966L13.262 0z\"></path><path d=\"M16.634 1.224l-1.432-.47-.408 3.022z\"></path><path d=\"M9.79.754l-1.431.47 1.84 2.552z\"></path><path d=\"M22.472 13.307l-3.023-5.32c-.287-.426-.689-.705-1.123-.776a1.16 1.16 0 0 0-.911.221c-.297.231-.474.515-.535.84.017.022.036.04.053.063l2.843 5.001c1.95 3.564 1.328 6.973-1.843 10.144a8.46 8.46 0 0 1-.549.501c1.205-.156 2.328-.737 3.351-1.76 3.268-3.268 3.041-6.749 1.737-8.914\"></path><path d=\"M12.58 9.887c-.156-.83.096-1.569.692-2.142L10.78 5.252c-.5-.504-1.378-.504-1.879 0-.178.18-.273.4-.329.63l4.008 4.005z\"></path><path d=\"M15.812 9.04c-.218-.323-.539-.55-.88-.606a.814.814 0 0 0-.644.153c-.176.137-.713.553-.24 1.566l1.43 3.025a.539.539 0 1 1-.868.612L7.2 6.378a.986.986 0 1 0-1.395 1.395l4.401 4.403a.538.538 0 1 1-.762.762L5.046 8.54 3.802 7.295a.99.99 0 0 0-1.396 0 .981.981 0 0 0 0 1.394L3.647 9.93l4.402 4.403a.537.537 0 0 1 0 .761.535.535 0 0 1-.762 0L2.89 10.696a.992.992 0 0 0-1.399-.003.983.983 0 0 0 0 1.395l1.855 1.854 2.763 2.765a.538.538 0 0 1-.76.761l-2.765-2.764a.982.982 0 0 0-1.395 0 .989.989 0 0 0 0 1.395l5.32 5.32c3.371 3.372 6.64 4.977 10.49 1.126C19.74 19.8 20.271 17 18.62 13.982L15.812 9.04z\"></path></g></svg></span></span></button></div><span class=\"u-textAlignCenter u-relative u-background js-actionMultirecommendCount u-marginLeft5\"></span></div></div></div><div class=\"buttonSet u-floatRight\"><div class=\"buttonSet-inner\"><button aria-label=\"Bookmark this story to read later\" class=\"button button--chromeless is-touchIconFadeInPulse u-baseColor--buttonNormal button--withIcon button--withSvgIcon button--bookmark js-bookmarkButton\" data-action=\"sign-up-prompt\" data-action-source=\"listing--------------------------bookmark_preview\" data-redirect=\"https://medium.com/_/bookmark/p/3345c7ada21\" data-requires-token=\"true\" data-sign-in-action=\"add-to-bookmarks\" title=\"Bookmark this story to read later\"><span class=\"button-defaultState\"><span class=\"svgIcon svgIcon--bookmark svgIcon--25px is-flushRight\"><svg class=\"svgIcon-use\" height=\"25\" viewbox=\"0 0 25 25\" width=\"25\"><path d=\"M19 6c0-1.1-.9-2-2-2H8c-1.1 0-2 .9-2 2v14.66h.012c.01.103.045.204.12.285a.5.5 0 0 0 .706.03L12.5 16.85l5.662 4.126a.508.508 0 0 0 .708-.03.5.5 0 0 0 .118-.285H19V6zm-6.838 9.97L7 19.636V6c0-.55.45-1 1-1h9c.55 0 1 .45 1 1v13.637l-5.162-3.668a.49.49 0 0 0-.676 0z\" fill-rule=\"evenodd\"></path></svg></span></span><span class=\"button-activeState\"><span class=\"svgIcon svgIcon--bookmarkFilled svgIcon--25px is-flushRight\"><svg class=\"svgIcon-use\" height=\"26\" viewbox=\"0 0 25 26\" width=\"25\"><path d=\"M19 7c0-1.1-.9-2-2-2H8c-1.1 0-2 .9-2 2v14.66h.012c.01.103.045.204.12.285a.5.5 0 0 0 .706.03L12.5 17.85l5.662 4.126a.508.508 0 0 0 .708-.03.5.5 0 0 0 .118-.285H19V7z\" fill-rule=\"evenodd\"></path></svg></span></span></button></div></div></div></div></div></div>\n",
      "7 ======\n",
      "<div class=\"streamItem streamItem--postPreview js-streamItem\"><div class=\"cardChromeless u-marginTop20 u-paddingTop10 u-paddingBottom15 u-paddingLeft20 u-paddingRight20\"><div class=\"postArticle postArticle--short js-postArticle js-trackedPost\" data-post-id=\"f8d8fca3d16e\" data-source=\"---------7----------------\"><div class=\"u-clearfix u-marginBottom15 u-paddingTop5\"><div class=\"postMetaInline u-floatLeft\"><div class=\"u-flexCenter\"><div class=\"postMetaInline-avatar u-flex0\"><a class=\"link avatar u-baseColor--link\" data-action=\"show-user-card\" data-action-type=\"hover\" data-action-value=\"3facdb321b00\" data-user-id=\"3facdb321b00\" dir=\"auto\" href=\"https://medium.com/@tirta16\"><img alt=\"Go to the profile of Tirta\" class=\"avatar-image u-size36x36 u-xs-size32x32\" src=\"https://cdn-images-1.medium.com/fit/c/72/72/0*gSFZ0Ji4UKlIjyRO.\"/></a></div><div class=\"postMetaInline postMetaInline-authorLockup u-flex1 u-noWrapWithEllipsis\"><a class=\"link link link--darken link--accent u-accentColor--textNormal u-accentColor--textDarken u-baseColor--link\" data-action=\"show-user-card\" data-action-source=\"---------7----------------\" data-action-type=\"hover\" data-action-value=\"3facdb321b00\" data-user-id=\"3facdb321b00\" dir=\"auto\" href=\"https://medium.com/@tirta16?source=---------7----------------\">Tirta</a><div class=\"u-fontSize12 u-baseColor--textNormal u-textColorNormal js-postMetaInlineSupplemental\"><a class=\"link link--darken\" data-action=\"open-post\" data-action-source=\"preview-listing\" data-action-value=\"https://medium.com/@tirta16/minerva-%D0%B4%D0%B5%D1%86%D0%B5%D0%BD%D1%82%D1%80%D0%B0%D0%BB%D0%B8%D0%B7%D0%BE%D0%B2%D0%B0%D0%BD%D0%BD%D1%8B%D0%B5-%D1%83%D0%BC%D0%BD%D1%8B%D0%B5-%D0%B4%D0%B5%D0%BD%D1%8C%D0%B3%D0%B8-%D0%B2-ethereum-blockchain-f8d8fca3d16e?source=---------7----------------\" href=\"https://medium.com/@tirta16/minerva-%D0%B4%D0%B5%D1%86%D0%B5%D0%BD%D1%82%D1%80%D0%B0%D0%BB%D0%B8%D0%B7%D0%BE%D0%B2%D0%B0%D0%BD%D0%BD%D1%8B%D0%B5-%D1%83%D0%BC%D0%BD%D1%8B%D0%B5-%D0%B4%D0%B5%D0%BD%D1%8C%D0%B3%D0%B8-%D0%B2-ethereum-blockchain-f8d8fca3d16e?source=---------7----------------\"><time datetime=\"2017-09-21T09:14:44.333Z\">Sep 21</time></a><span class=\"middotDivider u-fontSize12\"></span><span class=\"readingTime\" title=\"4 min read\"></span></div></div></div></div></div><div><a class=\"\" data-action-source=\"---------7----------------\" href=\"https://medium.com/@tirta16/minerva-%D0%B4%D0%B5%D1%86%D0%B5%D0%BD%D1%82%D1%80%D0%B0%D0%BB%D0%B8%D0%B7%D0%BE%D0%B2%D0%B0%D0%BD%D0%BD%D1%8B%D0%B5-%D1%83%D0%BC%D0%BD%D1%8B%D0%B5-%D0%B4%D0%B5%D0%BD%D1%8C%D0%B3%D0%B8-%D0%B2-ethereum-blockchain-f8d8fca3d16e?source=---------7----------------\"><div class=\"postArticle-content js-postField\"><section class=\"section section--body section--first section--last\"><div class=\"section-divider\"><hr class=\"section-divider\"/></div><div class=\"section-content\"><div class=\"section-inner sectionLayout--insetColumn\"><h3 class=\"graf graf--h3 graf--leading graf--title\" id=\"def7\" name=\"def7\">Minerva - Децентрализованные умные деньги в ETHEREUM Blockchain</h3><figure class=\"graf graf--figure graf--layoutConstrainedHeightPreview graf-after--h3 graf--trailing\" id=\"7387\" name=\"7387\"><div class=\"aspectRatioPlaceholder\"><img class=\"graf-image\" data-image-id=\"1*ufXlbR1HV3G7KcIclGcPcQ.jpeg\" src=\"https://cdn-images-1.medium.com/max/1200/1*ufXlbR1HV3G7KcIclGcPcQ.jpeg\"/></div></figure></div></div></section></div></a></div><div class=\"postArticle-readMore\"><a class=\"button button--smaller button--chromeless u-baseColor--buttonNormal\" data-action=\"open-post\" data-action-source=\"---------7----------------\" data-action-value=\"https://medium.com/@tirta16/minerva-%D0%B4%D0%B5%D1%86%D0%B5%D0%BD%D1%82%D1%80%D0%B0%D0%BB%D0%B8%D0%B7%D0%BE%D0%B2%D0%B0%D0%BD%D0%BD%D1%8B%D0%B5-%D1%83%D0%BC%D0%BD%D1%8B%D0%B5-%D0%B4%D0%B5%D0%BD%D1%8C%D0%B3%D0%B8-%D0%B2-ethereum-blockchain-f8d8fca3d16e?source=---------7----------------\" data-post-id=\"f8d8fca3d16e\" href=\"https://medium.com/@tirta16/minerva-%D0%B4%D0%B5%D1%86%D0%B5%D0%BD%D1%82%D1%80%D0%B0%D0%BB%D0%B8%D0%B7%D0%BE%D0%B2%D0%B0%D0%BD%D0%BD%D1%8B%D0%B5-%D1%83%D0%BC%D0%BD%D1%8B%D0%B5-%D0%B4%D0%B5%D0%BD%D1%8C%D0%B3%D0%B8-%D0%B2-ethereum-blockchain-f8d8fca3d16e?source=---------7----------------\">Read more…</a></div><div class=\"u-clearfix u-paddingTop10\"><div class=\"buttonSet buttonSet--withLabels u-floatLeft\"><div class=\"buttonSet-inner\"><div class=\"multirecommend js-actionMultirecommend u-flexCenter\" data-is-compressed=\"true\" data-is-flush-left=\"true\" data-post-id=\"f8d8fca3d16e\" data-source=\"listing--------------------------clap_preview\"><div class=\"u-relative u-foreground\"><button aria-label=\"Clap\" class=\"button button--primary button--chromeless u-accentColor--buttonNormal button--withIcon button--withSvgIcon clapButton js-actionMultirecommendButton\" data-action=\"sign-up-prompt\" data-action-source=\"listing--------------------------clap_preview\" data-redirect=\"https://medium.com/_/vote/p/f8d8fca3d16e\" data-requires-token=\"true\" data-sign-in-action=\"multivote\"><span class=\"button-defaultState\"><span class=\"svgIcon svgIcon--clap svgIcon--25px is-flushLeft\"><svg class=\"svgIcon-use\" height=\"25\" viewbox=\"0 0 25 25\" width=\"25\"><g fill-rule=\"evenodd\"><path d=\"M11.739 0l.761 2.966L13.261 0z\"></path><path d=\"M14.815 3.776l1.84-2.551-1.43-.471z\"></path><path d=\"M8.378 1.224l1.84 2.551L9.81.753z\"></path><path d=\"M20.382 21.622c-1.04 1.04-2.115 1.507-3.166 1.608.168-.14.332-.29.492-.45 2.885-2.886 3.456-5.982 1.69-9.211l-1.101-1.937-.955-2.02c-.315-.676-.235-1.185.245-1.556a.836.836 0 0 1 .66-.16c.342.056.66.28.879.605l2.856 5.023c1.179 1.962 1.379 5.119-1.6 8.098m-13.29-.528l-5.02-5.02a1 1 0 0 1 .707-1.701c.255 0 .512.098.707.292l2.607 2.607a.442.442 0 0 0 .624-.624L4.11 14.04l-1.75-1.75a.998.998 0 1 1 1.41-1.413l4.154 4.156a.44.44 0 0 0 .624 0 .44.44 0 0 0 0-.624l-4.152-4.153-1.172-1.171a.998.998 0 0 1 0-1.41 1.018 1.018 0 0 1 1.41 0l1.172 1.17 4.153 4.152a.437.437 0 0 0 .624 0 .442.442 0 0 0 0-.624L6.43 8.222a.988.988 0 0 1-.291-.705.99.99 0 0 1 .29-.706 1 1 0 0 1 1.412 0l6.992 6.993a.443.443 0 0 0 .71-.501l-1.35-2.856c-.315-.676-.235-1.185.246-1.557a.85.85 0 0 1 .66-.16c.342.056.659.28.879.606L18.628 14c1.573 2.876 1.067 5.545-1.544 8.156-1.396 1.397-3.144 1.966-5.063 1.652-1.713-.286-3.463-1.248-4.928-2.714zM10.99 5.976l2.562 2.562c-.497.607-.563 1.414-.155 2.284l.265.562-4.257-4.257a.98.98 0 0 1-.117-.445c0-.267.104-.517.292-.706a1.023 1.023 0 0 1 1.41 0zm8.887 2.06c-.375-.557-.902-.916-1.486-1.011a1.738 1.738 0 0 0-1.342.332c-.376.29-.61.656-.712 1.065a2.1 2.1 0 0 0-1.095-.562 1.776 1.776 0 0 0-.992.128l-2.636-2.636a1.883 1.883 0 0 0-2.658 0 1.862 1.862 0 0 0-.478.847 1.886 1.886 0 0 0-2.671-.012 1.867 1.867 0 0 0-.503.909c-.754-.754-1.992-.754-2.703-.044a1.881 1.881 0 0 0 0 2.658c-.288.12-.605.288-.864.547a1.884 1.884 0 0 0 0 2.659l.624.622a1.879 1.879 0 0 0-.91 3.16l5.019 5.02c1.595 1.594 3.515 2.645 5.408 2.959a7.16 7.16 0 0 0 1.173.098c1.026 0 1.997-.24 2.892-.7.279.04.555.065.828.065 1.53 0 2.969-.628 4.236-1.894 3.338-3.338 3.083-6.928 1.738-9.166l-2.868-5.043z\"></path></g></svg></span></span><span class=\"button-activeState\"><span class=\"svgIcon svgIcon--clapFilled svgIcon--25px is-flushLeft\"><svg class=\"svgIcon-use\" height=\"25\" viewbox=\"0 0 25 25\" width=\"25\"><g fill-rule=\"evenodd\"><path d=\"M11.738 0l.762 2.966L13.262 0z\"></path><path d=\"M16.634 1.224l-1.432-.47-.408 3.022z\"></path><path d=\"M9.79.754l-1.431.47 1.84 2.552z\"></path><path d=\"M22.472 13.307l-3.023-5.32c-.287-.426-.689-.705-1.123-.776a1.16 1.16 0 0 0-.911.221c-.297.231-.474.515-.535.84.017.022.036.04.053.063l2.843 5.001c1.95 3.564 1.328 6.973-1.843 10.144a8.46 8.46 0 0 1-.549.501c1.205-.156 2.328-.737 3.351-1.76 3.268-3.268 3.041-6.749 1.737-8.914\"></path><path d=\"M12.58 9.887c-.156-.83.096-1.569.692-2.142L10.78 5.252c-.5-.504-1.378-.504-1.879 0-.178.18-.273.4-.329.63l4.008 4.005z\"></path><path d=\"M15.812 9.04c-.218-.323-.539-.55-.88-.606a.814.814 0 0 0-.644.153c-.176.137-.713.553-.24 1.566l1.43 3.025a.539.539 0 1 1-.868.612L7.2 6.378a.986.986 0 1 0-1.395 1.395l4.401 4.403a.538.538 0 1 1-.762.762L5.046 8.54 3.802 7.295a.99.99 0 0 0-1.396 0 .981.981 0 0 0 0 1.394L3.647 9.93l4.402 4.403a.537.537 0 0 1 0 .761.535.535 0 0 1-.762 0L2.89 10.696a.992.992 0 0 0-1.399-.003.983.983 0 0 0 0 1.395l1.855 1.854 2.763 2.765a.538.538 0 0 1-.76.761l-2.765-2.764a.982.982 0 0 0-1.395 0 .989.989 0 0 0 0 1.395l5.32 5.32c3.371 3.372 6.64 4.977 10.49 1.126C19.74 19.8 20.271 17 18.62 13.982L15.812 9.04z\"></path></g></svg></span></span></button></div><span class=\"u-textAlignCenter u-relative u-background js-actionMultirecommendCount u-marginLeft5\"></span></div></div></div><div class=\"buttonSet u-floatRight\"><div class=\"buttonSet-inner\"><button aria-label=\"Bookmark this story to read later\" class=\"button button--chromeless is-touchIconFadeInPulse u-baseColor--buttonNormal button--withIcon button--withSvgIcon button--bookmark js-bookmarkButton\" data-action=\"sign-up-prompt\" data-action-source=\"listing--------------------------bookmark_preview\" data-redirect=\"https://medium.com/_/bookmark/p/f8d8fca3d16e\" data-requires-token=\"true\" data-sign-in-action=\"add-to-bookmarks\" title=\"Bookmark this story to read later\"><span class=\"button-defaultState\"><span class=\"svgIcon svgIcon--bookmark svgIcon--25px is-flushRight\"><svg class=\"svgIcon-use\" height=\"25\" viewbox=\"0 0 25 25\" width=\"25\"><path d=\"M19 6c0-1.1-.9-2-2-2H8c-1.1 0-2 .9-2 2v14.66h.012c.01.103.045.204.12.285a.5.5 0 0 0 .706.03L12.5 16.85l5.662 4.126a.508.508 0 0 0 .708-.03.5.5 0 0 0 .118-.285H19V6zm-6.838 9.97L7 19.636V6c0-.55.45-1 1-1h9c.55 0 1 .45 1 1v13.637l-5.162-3.668a.49.49 0 0 0-.676 0z\" fill-rule=\"evenodd\"></path></svg></span></span><span class=\"button-activeState\"><span class=\"svgIcon svgIcon--bookmarkFilled svgIcon--25px is-flushRight\"><svg class=\"svgIcon-use\" height=\"26\" viewbox=\"0 0 25 26\" width=\"25\"><path d=\"M19 7c0-1.1-.9-2-2-2H8c-1.1 0-2 .9-2 2v14.66h.012c.01.103.045.204.12.285a.5.5 0 0 0 .706.03L12.5 17.85l5.662 4.126a.508.508 0 0 0 .708-.03.5.5 0 0 0 .118-.285H19V7z\" fill-rule=\"evenodd\"></path></svg></span></span></button></div></div></div></div></div></div>\n",
      "8 ======\n",
      "<div class=\"streamItem streamItem--postPreview js-streamItem\"><div class=\"cardChromeless u-marginTop20 u-paddingTop10 u-paddingBottom15 u-paddingLeft20 u-paddingRight20\"><div class=\"postArticle postArticle--short js-postArticle js-trackedPost\" data-post-id=\"7493804ecc00\" data-source=\"---------8----------------\"><div class=\"u-clearfix u-marginBottom15 u-paddingTop5\"><div class=\"postMetaInline u-floatLeft\"><div class=\"u-flexCenter\"><div class=\"postMetaInline-avatar u-flex0\"><a class=\"link avatar u-baseColor--link\" data-action=\"show-user-card\" data-action-type=\"hover\" data-action-value=\"44b85a50f2ab\" data-collection-slug=\"stabl-blog\" data-user-id=\"44b85a50f2ab\" dir=\"auto\" href=\"https://blog.variabl.io/@claire.pion\"><img alt=\"Go to the profile of Claire Pion\" class=\"avatar-image u-size36x36 u-xs-size32x32\" src=\"https://cdn-images-1.medium.com/fit/c/72/72/1*2PMR5ECd7LFQA2WpsootUw.png\"/></a></div><div class=\"postMetaInline postMetaInline-authorLockup u-flex1 u-noWrapWithEllipsis\"><a class=\"link link link--darken link--accent u-accentColor--textNormal u-accentColor--textDarken u-baseColor--link\" data-action=\"show-user-card\" data-action-source=\"---------8----------------\" data-action-type=\"hover\" data-action-value=\"44b85a50f2ab\" data-collection-slug=\"stabl-blog\" data-user-id=\"44b85a50f2ab\" dir=\"auto\" href=\"https://blog.variabl.io/@claire.pion?source=---------8----------------\">Claire Pion</a> in <a class=\"link link--darken link--accent u-accentColor--textNormal u-baseColor--link\" data-action=\"show-collection-card\" data-action-source=\"---------8----------------\" data-action-type=\"hover\" data-action-value=\"stabl-blog\" data-collection-slug=\"stabl-blog\" href=\"https://blog.variabl.io?source=---------8----------------\">VariabL Blog</a><div class=\"u-fontSize12 u-baseColor--textNormal u-textColorNormal js-postMetaInlineSupplemental\"><a class=\"link link--darken\" data-action=\"open-post\" data-action-source=\"preview-listing\" data-action-value=\"https://blog.variabl.io/how-to-get-variabl-contribution-tokens-vct-a-brief-practical-guide-7493804ecc00?source=---------8----------------\" href=\"https://blog.variabl.io/how-to-get-variabl-contribution-tokens-vct-a-brief-practical-guide-7493804ecc00?source=---------8----------------\"><time datetime=\"2017-09-21T09:13:16.228Z\">Sep 21</time></a><span class=\"middotDivider u-fontSize12\"></span><span class=\"readingTime\" title=\"3 min read\"></span></div></div></div></div></div><div><a class=\"\" data-action-source=\"---------8----------------\" href=\"https://blog.variabl.io/how-to-get-variabl-contribution-tokens-vct-a-brief-practical-guide-7493804ecc00?source=---------8----------------\"><div class=\"postArticle-content js-postField\"><section class=\"section section--body section--first section--last\"><div class=\"section-divider\"><hr class=\"section-divider\"/></div><div class=\"section-content\"><div class=\"section-inner sectionLayout--insetColumn\"><h3 class=\"graf graf--h3 graf--leading graf--title\" id=\"b3e1\" name=\"b3e1\"><strong class=\"markup--strong markup--h3-strong\">How to get VariabL Contribution Tokens (VCT) — A brief practical guide</strong></h3><p class=\"graf graf--p graf-after--h3\" id=\"f8ef\" name=\"f8ef\"><em class=\"markup--em markup--p-em\">(to the attention of our dear users)</em></p><h3 class=\"graf graf--h3 graf-after--p\" id=\"4207\" name=\"4207\"><strong class=\"markup--strong markup--h3-strong\">What is a VCT?</strong></h3><p class=\"graf graf--p graf-after--h3 graf--trailing\" id=\"bbfd\" name=\"bbfd\">VCTs are tokens granted to VariabL community members in exchange for any kind of contribution.</p></div></div></section></div></a></div><div class=\"postArticle-readMore\"><a class=\"button button--smaller button--chromeless u-baseColor--buttonNormal\" data-action=\"open-post\" data-action-source=\"---------8----------------\" data-action-value=\"https://blog.variabl.io/how-to-get-variabl-contribution-tokens-vct-a-brief-practical-guide-7493804ecc00?source=---------8----------------\" data-post-id=\"7493804ecc00\" href=\"https://blog.variabl.io/how-to-get-variabl-contribution-tokens-vct-a-brief-practical-guide-7493804ecc00?source=---------8----------------\">Read more…</a></div><div class=\"u-clearfix u-paddingTop10\"><div class=\"buttonSet buttonSet--withLabels u-floatLeft\"><div class=\"buttonSet-inner\"><div class=\"multirecommend js-actionMultirecommend u-flexCenter\" data-is-compressed=\"true\" data-is-flush-left=\"true\" data-post-id=\"7493804ecc00\" data-source=\"listing--------------------------clap_preview\"><div class=\"u-relative u-foreground\"><button aria-label=\"Clap\" class=\"button button--primary button--chromeless u-accentColor--buttonNormal button--withIcon button--withSvgIcon clapButton js-actionMultirecommendButton\" data-action=\"sign-up-prompt\" data-action-source=\"listing--------------------------clap_preview\" data-redirect=\"https://medium.com/_/vote/p/7493804ecc00\" data-requires-token=\"true\" data-sign-in-action=\"multivote\"><span class=\"button-defaultState\"><span class=\"svgIcon svgIcon--clap svgIcon--25px is-flushLeft\"><svg class=\"svgIcon-use\" height=\"25\" viewbox=\"0 0 25 25\" width=\"25\"><g fill-rule=\"evenodd\"><path d=\"M11.739 0l.761 2.966L13.261 0z\"></path><path d=\"M14.815 3.776l1.84-2.551-1.43-.471z\"></path><path d=\"M8.378 1.224l1.84 2.551L9.81.753z\"></path><path d=\"M20.382 21.622c-1.04 1.04-2.115 1.507-3.166 1.608.168-.14.332-.29.492-.45 2.885-2.886 3.456-5.982 1.69-9.211l-1.101-1.937-.955-2.02c-.315-.676-.235-1.185.245-1.556a.836.836 0 0 1 .66-.16c.342.056.66.28.879.605l2.856 5.023c1.179 1.962 1.379 5.119-1.6 8.098m-13.29-.528l-5.02-5.02a1 1 0 0 1 .707-1.701c.255 0 .512.098.707.292l2.607 2.607a.442.442 0 0 0 .624-.624L4.11 14.04l-1.75-1.75a.998.998 0 1 1 1.41-1.413l4.154 4.156a.44.44 0 0 0 .624 0 .44.44 0 0 0 0-.624l-4.152-4.153-1.172-1.171a.998.998 0 0 1 0-1.41 1.018 1.018 0 0 1 1.41 0l1.172 1.17 4.153 4.152a.437.437 0 0 0 .624 0 .442.442 0 0 0 0-.624L6.43 8.222a.988.988 0 0 1-.291-.705.99.99 0 0 1 .29-.706 1 1 0 0 1 1.412 0l6.992 6.993a.443.443 0 0 0 .71-.501l-1.35-2.856c-.315-.676-.235-1.185.246-1.557a.85.85 0 0 1 .66-.16c.342.056.659.28.879.606L18.628 14c1.573 2.876 1.067 5.545-1.544 8.156-1.396 1.397-3.144 1.966-5.063 1.652-1.713-.286-3.463-1.248-4.928-2.714zM10.99 5.976l2.562 2.562c-.497.607-.563 1.414-.155 2.284l.265.562-4.257-4.257a.98.98 0 0 1-.117-.445c0-.267.104-.517.292-.706a1.023 1.023 0 0 1 1.41 0zm8.887 2.06c-.375-.557-.902-.916-1.486-1.011a1.738 1.738 0 0 0-1.342.332c-.376.29-.61.656-.712 1.065a2.1 2.1 0 0 0-1.095-.562 1.776 1.776 0 0 0-.992.128l-2.636-2.636a1.883 1.883 0 0 0-2.658 0 1.862 1.862 0 0 0-.478.847 1.886 1.886 0 0 0-2.671-.012 1.867 1.867 0 0 0-.503.909c-.754-.754-1.992-.754-2.703-.044a1.881 1.881 0 0 0 0 2.658c-.288.12-.605.288-.864.547a1.884 1.884 0 0 0 0 2.659l.624.622a1.879 1.879 0 0 0-.91 3.16l5.019 5.02c1.595 1.594 3.515 2.645 5.408 2.959a7.16 7.16 0 0 0 1.173.098c1.026 0 1.997-.24 2.892-.7.279.04.555.065.828.065 1.53 0 2.969-.628 4.236-1.894 3.338-3.338 3.083-6.928 1.738-9.166l-2.868-5.043z\"></path></g></svg></span></span><span class=\"button-activeState\"><span class=\"svgIcon svgIcon--clapFilled svgIcon--25px is-flushLeft\"><svg class=\"svgIcon-use\" height=\"25\" viewbox=\"0 0 25 25\" width=\"25\"><g fill-rule=\"evenodd\"><path d=\"M11.738 0l.762 2.966L13.262 0z\"></path><path d=\"M16.634 1.224l-1.432-.47-.408 3.022z\"></path><path d=\"M9.79.754l-1.431.47 1.84 2.552z\"></path><path d=\"M22.472 13.307l-3.023-5.32c-.287-.426-.689-.705-1.123-.776a1.16 1.16 0 0 0-.911.221c-.297.231-.474.515-.535.84.017.022.036.04.053.063l2.843 5.001c1.95 3.564 1.328 6.973-1.843 10.144a8.46 8.46 0 0 1-.549.501c1.205-.156 2.328-.737 3.351-1.76 3.268-3.268 3.041-6.749 1.737-8.914\"></path><path d=\"M12.58 9.887c-.156-.83.096-1.569.692-2.142L10.78 5.252c-.5-.504-1.378-.504-1.879 0-.178.18-.273.4-.329.63l4.008 4.005z\"></path><path d=\"M15.812 9.04c-.218-.323-.539-.55-.88-.606a.814.814 0 0 0-.644.153c-.176.137-.713.553-.24 1.566l1.43 3.025a.539.539 0 1 1-.868.612L7.2 6.378a.986.986 0 1 0-1.395 1.395l4.401 4.403a.538.538 0 1 1-.762.762L5.046 8.54 3.802 7.295a.99.99 0 0 0-1.396 0 .981.981 0 0 0 0 1.394L3.647 9.93l4.402 4.403a.537.537 0 0 1 0 .761.535.535 0 0 1-.762 0L2.89 10.696a.992.992 0 0 0-1.399-.003.983.983 0 0 0 0 1.395l1.855 1.854 2.763 2.765a.538.538 0 0 1-.76.761l-2.765-2.764a.982.982 0 0 0-1.395 0 .989.989 0 0 0 0 1.395l5.32 5.32c3.371 3.372 6.64 4.977 10.49 1.126C19.74 19.8 20.271 17 18.62 13.982L15.812 9.04z\"></path></g></svg></span></span></button></div><span class=\"u-textAlignCenter u-relative u-background js-actionMultirecommendCount u-marginLeft5\"><button class=\"button button--chromeless u-baseColor--buttonNormal js-multirecommendCountButton u-disablePointerEvents\" data-action=\"show-recommends\" data-action-value=\"7493804ecc00\">4</button></span></div></div></div><div class=\"buttonSet u-floatRight\"><div class=\"buttonSet-inner\"><button aria-label=\"Bookmark this story to read later\" class=\"button button--chromeless is-touchIconFadeInPulse u-baseColor--buttonNormal button--withIcon button--withSvgIcon button--bookmark js-bookmarkButton\" data-action=\"sign-up-prompt\" data-action-source=\"listing--------------------------bookmark_preview\" data-redirect=\"https://medium.com/_/bookmark/p/7493804ecc00\" data-requires-token=\"true\" data-sign-in-action=\"add-to-bookmarks\" title=\"Bookmark this story to read later\"><span class=\"button-defaultState\"><span class=\"svgIcon svgIcon--bookmark svgIcon--25px is-flushRight\"><svg class=\"svgIcon-use\" height=\"25\" viewbox=\"0 0 25 25\" width=\"25\"><path d=\"M19 6c0-1.1-.9-2-2-2H8c-1.1 0-2 .9-2 2v14.66h.012c.01.103.045.204.12.285a.5.5 0 0 0 .706.03L12.5 16.85l5.662 4.126a.508.508 0 0 0 .708-.03.5.5 0 0 0 .118-.285H19V6zm-6.838 9.97L7 19.636V6c0-.55.45-1 1-1h9c.55 0 1 .45 1 1v13.637l-5.162-3.668a.49.49 0 0 0-.676 0z\" fill-rule=\"evenodd\"></path></svg></span></span><span class=\"button-activeState\"><span class=\"svgIcon svgIcon--bookmarkFilled svgIcon--25px is-flushRight\"><svg class=\"svgIcon-use\" height=\"26\" viewbox=\"0 0 25 26\" width=\"25\"><path d=\"M19 7c0-1.1-.9-2-2-2H8c-1.1 0-2 .9-2 2v14.66h.012c.01.103.045.204.12.285a.5.5 0 0 0 .706.03L12.5 17.85l5.662 4.126a.508.508 0 0 0 .708-.03.5.5 0 0 0 .118-.285H19V7z\" fill-rule=\"evenodd\"></path></svg></span></span></button></div></div></div></div></div></div>\n",
      "9 ======\n",
      "<div class=\"streamItem streamItem--postPreview js-streamItem\"><div class=\"cardChromeless u-marginTop20 u-paddingTop10 u-paddingBottom15 u-paddingLeft20 u-paddingRight20\"><div class=\"postArticle postArticle--short js-postArticle js-trackedPost\" data-post-id=\"78e37859f3aa\" data-source=\"---------9----------------\"><div class=\"u-clearfix u-marginBottom15 u-paddingTop5\"><div class=\"postMetaInline u-floatLeft\"><div class=\"u-flexCenter\"><div class=\"postMetaInline-avatar u-flex0\"><a class=\"link avatar u-baseColor--link\" data-action=\"show-user-card\" data-action-type=\"hover\" data-action-value=\"b375de57723a\" data-user-id=\"b375de57723a\" dir=\"auto\" href=\"https://medium.com/@Jeffery1st\"><img alt=\"Go to the profile of Jeffery\" class=\"avatar-image u-size36x36 u-xs-size32x32\" src=\"https://cdn-images-1.medium.com/fit/c/72/72/0*jWURLLEKt7vLOGSG.jpeg\"/></a></div><div class=\"postMetaInline postMetaInline-authorLockup u-flex1 u-noWrapWithEllipsis\"><a class=\"link link link--darken link--accent u-accentColor--textNormal u-accentColor--textDarken u-baseColor--link\" data-action=\"show-user-card\" data-action-source=\"---------9----------------\" data-action-type=\"hover\" data-action-value=\"b375de57723a\" data-user-id=\"b375de57723a\" dir=\"auto\" href=\"https://medium.com/@Jeffery1st?source=---------9----------------\">Jeffery</a><div class=\"u-fontSize12 u-baseColor--textNormal u-textColorNormal js-postMetaInlineSupplemental\"><a class=\"link link--darken\" data-action=\"open-post\" data-action-source=\"preview-listing\" data-action-value=\"https://medium.com/@Jeffery1st/martin-green-on-bitcoin-78e37859f3aa?source=---------9----------------\" href=\"https://medium.com/@Jeffery1st/martin-green-on-bitcoin-78e37859f3aa?source=---------9----------------\"><time datetime=\"2017-09-21T09:12:04.641Z\">Sep 21</time></a><span class=\"middotDivider u-fontSize12\"></span><span class=\"readingTime\" title=\"2 min read\"></span></div></div></div></div></div><div><a class=\"\" data-action-source=\"---------9----------------\" href=\"https://medium.com/@Jeffery1st/martin-green-on-bitcoin-78e37859f3aa?source=---------9----------------\"><div class=\"postArticle-content js-postField\"><section class=\"section section--body section--first section--last\"><div class=\"section-divider\"><hr class=\"section-divider\"/></div><div class=\"section-content\"><div class=\"section-inner sectionLayout--insetColumn\"><h3 class=\"graf graf--h3 graf--leading graf--title\" id=\"eee2\" name=\"eee2\">Martin Green on Bitcoin</h3><p class=\"graf graf--p graf-after--h3\" id=\"55a6\" name=\"55a6\">10 years from now — it’s 2027, we’ll look back and say, how did the financial system not see all this coming?</p><p class=\"graf graf--p graf-after--p graf--trailing\" id=\"03ed\" name=\"03ed\">back in 1995, I worked at Morgan Stanley — we took netscape public. A year later, I left to join CNET.</p></div></div></section></div></a></div><div class=\"postArticle-readMore\"><a class=\"button button--smaller button--chromeless u-baseColor--buttonNormal\" data-action=\"open-post\" data-action-source=\"---------9----------------\" data-action-value=\"https://medium.com/@Jeffery1st/martin-green-on-bitcoin-78e37859f3aa?source=---------9----------------\" data-post-id=\"78e37859f3aa\" href=\"https://medium.com/@Jeffery1st/martin-green-on-bitcoin-78e37859f3aa?source=---------9----------------\">Read more…</a></div><div class=\"u-clearfix u-paddingTop10\"><div class=\"buttonSet buttonSet--withLabels u-floatLeft\"><div class=\"buttonSet-inner\"><div class=\"multirecommend js-actionMultirecommend u-flexCenter\" data-is-compressed=\"true\" data-is-flush-left=\"true\" data-post-id=\"78e37859f3aa\" data-source=\"listing--------------------------clap_preview\"><div class=\"u-relative u-foreground\"><button aria-label=\"Clap\" class=\"button button--primary button--chromeless u-accentColor--buttonNormal button--withIcon button--withSvgIcon clapButton js-actionMultirecommendButton\" data-action=\"sign-up-prompt\" data-action-source=\"listing--------------------------clap_preview\" data-redirect=\"https://medium.com/_/vote/p/78e37859f3aa\" data-requires-token=\"true\" data-sign-in-action=\"multivote\"><span class=\"button-defaultState\"><span class=\"svgIcon svgIcon--clap svgIcon--25px is-flushLeft\"><svg class=\"svgIcon-use\" height=\"25\" viewbox=\"0 0 25 25\" width=\"25\"><g fill-rule=\"evenodd\"><path d=\"M11.739 0l.761 2.966L13.261 0z\"></path><path d=\"M14.815 3.776l1.84-2.551-1.43-.471z\"></path><path d=\"M8.378 1.224l1.84 2.551L9.81.753z\"></path><path d=\"M20.382 21.622c-1.04 1.04-2.115 1.507-3.166 1.608.168-.14.332-.29.492-.45 2.885-2.886 3.456-5.982 1.69-9.211l-1.101-1.937-.955-2.02c-.315-.676-.235-1.185.245-1.556a.836.836 0 0 1 .66-.16c.342.056.66.28.879.605l2.856 5.023c1.179 1.962 1.379 5.119-1.6 8.098m-13.29-.528l-5.02-5.02a1 1 0 0 1 .707-1.701c.255 0 .512.098.707.292l2.607 2.607a.442.442 0 0 0 .624-.624L4.11 14.04l-1.75-1.75a.998.998 0 1 1 1.41-1.413l4.154 4.156a.44.44 0 0 0 .624 0 .44.44 0 0 0 0-.624l-4.152-4.153-1.172-1.171a.998.998 0 0 1 0-1.41 1.018 1.018 0 0 1 1.41 0l1.172 1.17 4.153 4.152a.437.437 0 0 0 .624 0 .442.442 0 0 0 0-.624L6.43 8.222a.988.988 0 0 1-.291-.705.99.99 0 0 1 .29-.706 1 1 0 0 1 1.412 0l6.992 6.993a.443.443 0 0 0 .71-.501l-1.35-2.856c-.315-.676-.235-1.185.246-1.557a.85.85 0 0 1 .66-.16c.342.056.659.28.879.606L18.628 14c1.573 2.876 1.067 5.545-1.544 8.156-1.396 1.397-3.144 1.966-5.063 1.652-1.713-.286-3.463-1.248-4.928-2.714zM10.99 5.976l2.562 2.562c-.497.607-.563 1.414-.155 2.284l.265.562-4.257-4.257a.98.98 0 0 1-.117-.445c0-.267.104-.517.292-.706a1.023 1.023 0 0 1 1.41 0zm8.887 2.06c-.375-.557-.902-.916-1.486-1.011a1.738 1.738 0 0 0-1.342.332c-.376.29-.61.656-.712 1.065a2.1 2.1 0 0 0-1.095-.562 1.776 1.776 0 0 0-.992.128l-2.636-2.636a1.883 1.883 0 0 0-2.658 0 1.862 1.862 0 0 0-.478.847 1.886 1.886 0 0 0-2.671-.012 1.867 1.867 0 0 0-.503.909c-.754-.754-1.992-.754-2.703-.044a1.881 1.881 0 0 0 0 2.658c-.288.12-.605.288-.864.547a1.884 1.884 0 0 0 0 2.659l.624.622a1.879 1.879 0 0 0-.91 3.16l5.019 5.02c1.595 1.594 3.515 2.645 5.408 2.959a7.16 7.16 0 0 0 1.173.098c1.026 0 1.997-.24 2.892-.7.279.04.555.065.828.065 1.53 0 2.969-.628 4.236-1.894 3.338-3.338 3.083-6.928 1.738-9.166l-2.868-5.043z\"></path></g></svg></span></span><span class=\"button-activeState\"><span class=\"svgIcon svgIcon--clapFilled svgIcon--25px is-flushLeft\"><svg class=\"svgIcon-use\" height=\"25\" viewbox=\"0 0 25 25\" width=\"25\"><g fill-rule=\"evenodd\"><path d=\"M11.738 0l.762 2.966L13.262 0z\"></path><path d=\"M16.634 1.224l-1.432-.47-.408 3.022z\"></path><path d=\"M9.79.754l-1.431.47 1.84 2.552z\"></path><path d=\"M22.472 13.307l-3.023-5.32c-.287-.426-.689-.705-1.123-.776a1.16 1.16 0 0 0-.911.221c-.297.231-.474.515-.535.84.017.022.036.04.053.063l2.843 5.001c1.95 3.564 1.328 6.973-1.843 10.144a8.46 8.46 0 0 1-.549.501c1.205-.156 2.328-.737 3.351-1.76 3.268-3.268 3.041-6.749 1.737-8.914\"></path><path d=\"M12.58 9.887c-.156-.83.096-1.569.692-2.142L10.78 5.252c-.5-.504-1.378-.504-1.879 0-.178.18-.273.4-.329.63l4.008 4.005z\"></path><path d=\"M15.812 9.04c-.218-.323-.539-.55-.88-.606a.814.814 0 0 0-.644.153c-.176.137-.713.553-.24 1.566l1.43 3.025a.539.539 0 1 1-.868.612L7.2 6.378a.986.986 0 1 0-1.395 1.395l4.401 4.403a.538.538 0 1 1-.762.762L5.046 8.54 3.802 7.295a.99.99 0 0 0-1.396 0 .981.981 0 0 0 0 1.394L3.647 9.93l4.402 4.403a.537.537 0 0 1 0 .761.535.535 0 0 1-.762 0L2.89 10.696a.992.992 0 0 0-1.399-.003.983.983 0 0 0 0 1.395l1.855 1.854 2.763 2.765a.538.538 0 0 1-.76.761l-2.765-2.764a.982.982 0 0 0-1.395 0 .989.989 0 0 0 0 1.395l5.32 5.32c3.371 3.372 6.64 4.977 10.49 1.126C19.74 19.8 20.271 17 18.62 13.982L15.812 9.04z\"></path></g></svg></span></span></button></div><span class=\"u-textAlignCenter u-relative u-background js-actionMultirecommendCount u-marginLeft5\"></span></div></div></div><div class=\"buttonSet u-floatRight\"><div class=\"buttonSet-inner\"><button aria-label=\"Bookmark this story to read later\" class=\"button button--chromeless is-touchIconFadeInPulse u-baseColor--buttonNormal button--withIcon button--withSvgIcon button--bookmark js-bookmarkButton\" data-action=\"sign-up-prompt\" data-action-source=\"listing--------------------------bookmark_preview\" data-redirect=\"https://medium.com/_/bookmark/p/78e37859f3aa\" data-requires-token=\"true\" data-sign-in-action=\"add-to-bookmarks\" title=\"Bookmark this story to read later\"><span class=\"button-defaultState\"><span class=\"svgIcon svgIcon--bookmark svgIcon--25px is-flushRight\"><svg class=\"svgIcon-use\" height=\"25\" viewbox=\"0 0 25 25\" width=\"25\"><path d=\"M19 6c0-1.1-.9-2-2-2H8c-1.1 0-2 .9-2 2v14.66h.012c.01.103.045.204.12.285a.5.5 0 0 0 .706.03L12.5 16.85l5.662 4.126a.508.508 0 0 0 .708-.03.5.5 0 0 0 .118-.285H19V6zm-6.838 9.97L7 19.636V6c0-.55.45-1 1-1h9c.55 0 1 .45 1 1v13.637l-5.162-3.668a.49.49 0 0 0-.676 0z\" fill-rule=\"evenodd\"></path></svg></span></span><span class=\"button-activeState\"><span class=\"svgIcon svgIcon--bookmarkFilled svgIcon--25px is-flushRight\"><svg class=\"svgIcon-use\" height=\"26\" viewbox=\"0 0 25 26\" width=\"25\"><path d=\"M19 7c0-1.1-.9-2-2-2H8c-1.1 0-2 .9-2 2v14.66h.012c.01.103.045.204.12.285a.5.5 0 0 0 .706.03L12.5 17.85l5.662 4.126a.508.508 0 0 0 .708-.03.5.5 0 0 0 .118-.285H19V7z\" fill-rule=\"evenodd\"></path></svg></span></span></button></div></div></div></div></div></div>\n"
     ]
    }
   ],
   "source": [
    "#모두 다 있는지 확인해 봅니다.\n",
    "for idx, c in enumerate(post_list):\n",
    "    print(idx, '======\\n'+ str(c))\n",
    "    \"\"\"0 =======\n",
    "    html내용들..\n",
    "       1 =======\n",
    "    html내용들..\n",
    "       2 ....\n",
    "       \n",
    "    \"\"\""
   ]
  },
  {
   "cell_type": "markdown",
   "metadata": {},
   "source": [
    "href 속성은 hyperlink(다른 웹페에지의 링크)를 포함하고 있으므로 href를 가지고 있는 태\n",
    "그를 찾아봅시다. 아쉽게도 공통적인 링크는 없어보입니다.\n",
    "\n",
    "하이퍼링크만 있는 게시글이나 medium에서 올린 게시글이 각기 다른 형태를 띄고 있으므로\n",
    "조건문을 통해서 링크들을 추출해줘야 겠습니다."
   ]
  },
  {
   "cell_type": "code",
   "execution_count": 10,
   "metadata": {
    "collapsed": false
   },
   "outputs": [
    {
     "data": {
      "text/plain": [
       "<div class=\"postArticle-readMore\"><a class=\"button button--smaller button--chromeless u-baseColor--buttonNormal\" data-action=\"open-post\" data-action-source=\"---------2----------------\" data-action-value=\"https://medium.com/koles-coin-news/israeli-governments-announcement-about-ico-851f298836bb?source=---------2----------------\" data-post-id=\"851f298836bb\" href=\"https://medium.com/koles-coin-news/israeli-governments-announcement-about-ico-851f298836bb?source=---------2----------------\">Read more…</a></div>"
      ]
     },
     "execution_count": 10,
     "metadata": {},
     "output_type": "execute_result"
    }
   ],
   "source": [
    "post_2_link = post_list[2].find('div', {'class':'postArticle-readMore'})\n",
    "post_2_link # 중간정도에 https:로 시작하는 링크가 보입니다. 여기서 \n",
    "#<a> ~</a>태그로 둘러 쌓여있는 내에 속성들중에 하나인 data-action-value로 있습니다."
   ]
  },
  {
   "cell_type": "code",
   "execution_count": 11,
   "metadata": {
    "collapsed": false
   },
   "outputs": [
    {
     "data": {
      "text/plain": [
       "'https://medium.com/koles-coin-news/israeli-governments-announcement-about-ico-851f298836bb?source=---------2----------------'"
      ]
     },
     "execution_count": 11,
     "metadata": {},
     "output_type": "execute_result"
    }
   ],
   "source": [
    "post_2_link.a.get('data-action-value') # 드디어 찾았습니다.\n",
    "#여기서 ?source부분은 필요 없으므로(혹은 페이지가 바뀌면서 숫자가 바뀔수 있으므로) 빼봅시다"
   ]
  },
  {
   "cell_type": "code",
   "execution_count": 12,
   "metadata": {
    "collapsed": false
   },
   "outputs": [
    {
     "data": {
      "text/plain": [
       "'https://medium.com/koles-coin-news/israeli-governments-announcement-about-ico-851f298836bb?source=---------2----------------'"
      ]
     },
     "execution_count": 12,
     "metadata": {},
     "output_type": "execute_result"
    }
   ],
   "source": [
    "str(post_2_link.a.get('data-action-value')) #슬라이스 하여줍니다. 어디까지?!"
   ]
  },
  {
   "cell_type": "code",
   "execution_count": 13,
   "metadata": {
    "collapsed": false
   },
   "outputs": [
    {
     "data": {
      "text/plain": [
       "90"
      ]
     },
     "execution_count": 13,
     "metadata": {},
     "output_type": "execute_result"
    }
   ],
   "source": [
    "#string 객체의 find로 어디에 위치하고 있는디 확인합니다.\n",
    "str(post_2_link.a.get('data-action-value')).find('?source=') "
   ]
  },
  {
   "cell_type": "code",
   "execution_count": 14,
   "metadata": {
    "collapsed": false
   },
   "outputs": [
    {
     "data": {
      "text/plain": [
       "'https://medium.com/koles-coin-news/israeli-governments-announcement-about-ico-851f298836bb?source=---------2------'"
      ]
     },
     "execution_count": 14,
     "metadata": {},
     "output_type": "execute_result"
    }
   ],
   "source": [
    "str(post_2_link.a.get('data-action-value'))[:114] #"
   ]
  },
  {
   "cell_type": "markdown",
   "metadata": {},
   "source": [
    "위의 과정을 함수로 만들어 보겠습니다.<br> 지저분한 url을 정리하는 함수"
   ]
  },
  {
   "cell_type": "code",
   "execution_count": 15,
   "metadata": {
    "collapsed": true
   },
   "outputs": [],
   "source": [
    "def url_trim(url_string):\n",
    "    pos = str(url_string).find('?source=')\n",
    "    return str(url_string)[:pos]"
   ]
  },
  {
   "cell_type": "code",
   "execution_count": 16,
   "metadata": {
    "collapsed": false
   },
   "outputs": [
    {
     "data": {
      "text/plain": [
       "'https://medium.com/koles-coin-news/israeli-governments-announcement-about-ico-851f298836bb'"
      ]
     },
     "execution_count": 16,
     "metadata": {},
     "output_type": "execute_result"
    }
   ],
   "source": [
    "url_trim(post_2_link.a.get('data-action-value')) # 잘 나오는군요"
   ]
  },
  {
   "cell_type": "code",
   "execution_count": 17,
   "metadata": {
    "collapsed": false
   },
   "outputs": [
    {
     "data": {
      "text/plain": [
       "189371"
      ]
     },
     "execution_count": 17,
     "metadata": {},
     "output_type": "execute_result"
    }
   ],
   "source": [
    "len(resp.text)"
   ]
  },
  {
   "cell_type": "code",
   "execution_count": 18,
   "metadata": {
    "collapsed": true
   },
   "outputs": [],
   "source": [
    "import re "
   ]
  },
  {
   "cell_type": "code",
   "execution_count": 19,
   "metadata": {
    "collapsed": false,
    "scrolled": true
   },
   "outputs": [
    {
     "data": {
      "text/plain": [
       "['https://medium.com/@orbe_/the-ico-summit-the-bitcoin-industry-is-thriving-48872817b0b0?source=---------0----------------',\n",
       " 'https://medium.com/@orbe_/the-ico-summit-the-bitcoin-industry-is-thriving-48872817b0b0?source=---------0----------------',\n",
       " 'https://medium.com/@trackr.im/trackr-is-now-live-on-hitbtc-for-trading-bbce3eacf0c9?source=---------1----------------',\n",
       " 'https://hitbtc.com/exchange/TKR-to-ETH',\n",
       " 'https://etherdelta.com/#TKR-ETH',\n",
       " 'https://medium.com/@trackr.im/trackr-is-now-live-on-hitbtc-for-trading-bbce3eacf0c9?source=---------1----------------',\n",
       " 'https://medium.com/koles-coin-news/israeli-governments-announcement-about-ico-851f298836bb?source=---------2----------------',\n",
       " 'https://medium.com/koles-coin-news/israeli-governments-announcement-about-ico-851f298836bb?source=---------2----------------',\n",
       " 'https://medium.com/@dentacoin/circulating-supply-of-dentacoin-ffcca3c72a04?source=---------3----------------',\n",
       " 'https://medium.com/@dentacoin/circulating-supply-of-dentacoin-ffcca3c72a04?source=---------3----------------',\n",
       " 'https://medium.com/@hongalex/the-future-of-bitcoin-and-other-cryptocurrencies-abafbc563d43?source=---------4----------------',\n",
       " 'https://medium.com/@hongalex/the-future-of-bitcoin-and-other-cryptocurrencies-abafbc563d43?source=---------4----------------',\n",
       " 'https://medium.com/koles-coin-news/wall-street-traders-are-turning-to-cryptocurrencies-c94a97cd4db4?source=---------5----------------',\n",
       " 'https://medium.com/koles-coin-news/wall-street-traders-are-turning-to-cryptocurrencies-c94a97cd4db4?source=---------5----------------',\n",
       " 'https://medium.com/@tirta16/cloud-application-exchange-bernama-wireline-3345c7ada21?source=---------6----------------',\n",
       " 'https://medium.com/@tirta16/cloud-application-exchange-bernama-wireline-3345c7ada21?source=---------6----------------',\n",
       " 'https://medium.com/@tirta16/minerva-%D0%B4%D0%B5%D1%86%D0%B5%D0%BD%D1%82%D1%80%D0%B0%D0%BB%D0%B8%D0%B7%D0%BE%D0%B2%D0%B0%D0%BD%D0%BD%D1%8B%D0%B5-%D1%83%D0%BC%D0%BD%D1%8B%D0%B5-%D0%B4%D0%B5%D0%BD%D1%8C%D0%B3%D0%B8-%D0%B2-ethereum-blockchain-f8d8fca3d16e?source=---------7----------------',\n",
       " 'https://medium.com/@tirta16/minerva-%D0%B4%D0%B5%D1%86%D0%B5%D0%BD%D1%82%D1%80%D0%B0%D0%BB%D0%B8%D0%B7%D0%BE%D0%B2%D0%B0%D0%BD%D0%BD%D1%8B%D0%B5-%D1%83%D0%BC%D0%BD%D1%8B%D0%B5-%D0%B4%D0%B5%D0%BD%D1%8C%D0%B3%D0%B8-%D0%B2-ethereum-blockchain-f8d8fca3d16e?source=---------7----------------',\n",
       " 'https://blog.variabl.io/how-to-get-variabl-contribution-tokens-vct-a-brief-practical-guide-7493804ecc00?source=---------8----------------',\n",
       " 'https://blog.variabl.io/how-to-get-variabl-contribution-tokens-vct-a-brief-practical-guide-7493804ecc00?source=---------8----------------',\n",
       " 'https://medium.com/@Jeffery1st/martin-green-on-bitcoin-78e37859f3aa?source=---------9----------------',\n",
       " 'https://medium.com/@Jeffery1st/martin-green-on-bitcoin-78e37859f3aa?source=---------9----------------']"
      ]
     },
     "execution_count": 19,
     "metadata": {},
     "output_type": "execute_result"
    }
   ],
   "source": [
    "# 정규식 모듈로도 더 빠르게 할 수 있습니다.\n",
    "re_result = re.findall(r'data-action-value=\"(http.+?)\"', resp.text)\n",
    "re_result"
   ]
  },
  {
   "cell_type": "code",
   "execution_count": 20,
   "metadata": {
    "collapsed": false
   },
   "outputs": [
    {
     "data": {
      "text/plain": [
       "['https://medium.com/@trackr.im/trackr-is-now-live-on-hitbtc-for-trading-bbce3eacf0c9?source=---------1----------------',\n",
       " 'https://medium.com/@hongalex/the-future-of-bitcoin-and-other-cryptocurrencies-abafbc563d43?source=---------4----------------',\n",
       " 'https://medium.com/koles-coin-news/israeli-governments-announcement-about-ico-851f298836bb?source=---------2----------------',\n",
       " 'https://medium.com/koles-coin-news/wall-street-traders-are-turning-to-cryptocurrencies-c94a97cd4db4?source=---------5----------------',\n",
       " 'https://hitbtc.com/exchange/TKR-to-ETH',\n",
       " 'https://medium.com/@orbe_/the-ico-summit-the-bitcoin-industry-is-thriving-48872817b0b0?source=---------0----------------',\n",
       " 'https://medium.com/@Jeffery1st/martin-green-on-bitcoin-78e37859f3aa?source=---------9----------------',\n",
       " 'https://medium.com/@tirta16/cloud-application-exchange-bernama-wireline-3345c7ada21?source=---------6----------------',\n",
       " 'https://blog.variabl.io/how-to-get-variabl-contribution-tokens-vct-a-brief-practical-guide-7493804ecc00?source=---------8----------------',\n",
       " 'https://medium.com/@dentacoin/circulating-supply-of-dentacoin-ffcca3c72a04?source=---------3----------------',\n",
       " 'https://etherdelta.com/#TKR-ETH',\n",
       " 'https://medium.com/@tirta16/minerva-%D0%B4%D0%B5%D1%86%D0%B5%D0%BD%D1%82%D1%80%D0%B0%D0%BB%D0%B8%D0%B7%D0%BE%D0%B2%D0%B0%D0%BD%D0%BD%D1%8B%D0%B5-%D1%83%D0%BC%D0%BD%D1%8B%D0%B5-%D0%B4%D0%B5%D0%BD%D1%8C%D0%B3%D0%B8-%D0%B2-ethereum-blockchain-f8d8fca3d16e?source=---------7----------------']"
      ]
     },
     "execution_count": 20,
     "metadata": {},
     "output_type": "execute_result"
    }
   ],
   "source": [
    "new_post_list = list(set(re_result))\n",
    "new_post_list"
   ]
  },
  {
   "cell_type": "markdown",
   "metadata": {},
   "source": [
    "beautifulsoup으로 파싱하여 태그들을 따라가서 추출하는 방법과,<br> 파이썬 정규식을 활용하여 페이지내의 규칙을 찾아 적용하여 한것과 후자 빠지지 않고 추출되는것 같습니다.<br>\n",
    "시간 여건상 정규식을 활용하여 url 들을 추출하고 파일에 기록해봅시다."
   ]
  },
  {
   "cell_type": "code",
   "execution_count": 21,
   "metadata": {
    "collapsed": false
   },
   "outputs": [],
   "source": [
    "#medium post의 경우는 ?source 가 붙으므로 이전에 만들었던 함수로 제거합니다.\n",
    "update_posts = []\n",
    "for i in new_post_list:\n",
    "    update_posts.append(url_trim(i))"
   ]
  },
  {
   "cell_type": "code",
   "execution_count": 22,
   "metadata": {
    "collapsed": false
   },
   "outputs": [
    {
     "data": {
      "text/plain": [
       "['https://medium.com/@trackr.im/trackr-is-now-live-on-hitbtc-for-trading-bbce3eacf0c9',\n",
       " 'https://medium.com/@hongalex/the-future-of-bitcoin-and-other-cryptocurrencies-abafbc563d43',\n",
       " 'https://medium.com/koles-coin-news/israeli-governments-announcement-about-ico-851f298836bb',\n",
       " 'https://medium.com/koles-coin-news/wall-street-traders-are-turning-to-cryptocurrencies-c94a97cd4db4',\n",
       " 'https://hitbtc.com/exchange/TKR-to-ET',\n",
       " 'https://medium.com/@orbe_/the-ico-summit-the-bitcoin-industry-is-thriving-48872817b0b0',\n",
       " 'https://medium.com/@Jeffery1st/martin-green-on-bitcoin-78e37859f3aa',\n",
       " 'https://medium.com/@tirta16/cloud-application-exchange-bernama-wireline-3345c7ada21',\n",
       " 'https://blog.variabl.io/how-to-get-variabl-contribution-tokens-vct-a-brief-practical-guide-7493804ecc00',\n",
       " 'https://medium.com/@dentacoin/circulating-supply-of-dentacoin-ffcca3c72a04',\n",
       " 'https://etherdelta.com/#TKR-ET',\n",
       " 'https://medium.com/@tirta16/minerva-%D0%B4%D0%B5%D1%86%D0%B5%D0%BD%D1%82%D1%80%D0%B0%D0%BB%D0%B8%D0%B7%D0%BE%D0%B2%D0%B0%D0%BD%D0%BD%D1%8B%D0%B5-%D1%83%D0%BC%D0%BD%D1%8B%D0%B5-%D0%B4%D0%B5%D0%BD%D1%8C%D0%B3%D0%B8-%D0%B2-ethereum-blockchain-f8d8fca3d16e']"
      ]
     },
     "execution_count": 22,
     "metadata": {},
     "output_type": "execute_result"
    }
   ],
   "source": [
    "update_posts"
   ]
  },
  {
   "cell_type": "markdown",
   "metadata": {},
   "source": [
    "이제 처음 페이지를 로딩했을떄의 url들을 확보하였으니 하나씩 파일에 써주도록 하겠습니다."
   ]
  },
  {
   "cell_type": "code",
   "execution_count": 23,
   "metadata": {
    "collapsed": false
   },
   "outputs": [],
   "source": [
    "for p in update_posts:\n",
    "    with open('./medium_post.txt', 'a', encoding='utf8') as f:\n",
    "        f.write(p+'\\n') #\\n 다음줄을 구분자로 쓸것입니다."
   ]
  },
  {
   "cell_type": "code",
   "execution_count": 24,
   "metadata": {
    "collapsed": false
   },
   "outputs": [],
   "source": [
    "#기존의 저장된 post_url의 링크를 old_post_list로 불러와서 기존것인지 새것인지 구별해 봅시다\n",
    "with open('./medium_post.txt', 'r', encoding='utf8') as f:\n",
    "    post_text = f.read()\n",
    "\n",
    "old_post_list = post_text.split('\\n') #  구분자가 \\n이라고 말씀 드렸죠"
   ]
  },
  {
   "cell_type": "code",
   "execution_count": 25,
   "metadata": {
    "collapsed": true
   },
   "outputs": [],
   "source": [
    "#첫번째 부분을 살짝 변형해서 있는건지 없는 건지 확인\n",
    "po_url = 'https://medium.com/@zycrypto/south-african-reserve-bank-says-bitcoin-not-a-legal-tender-makes-move-for-regulation-7178949dd9e'"
   ]
  },
  {
   "cell_type": "code",
   "execution_count": 26,
   "metadata": {
    "collapsed": false
   },
   "outputs": [
    {
     "data": {
      "text/plain": [
       "False"
      ]
     },
     "execution_count": 26,
     "metadata": {},
     "output_type": "execute_result"
    }
   ],
   "source": [
    "po_url in old_post_list"
   ]
  },
  {
   "cell_type": "code",
   "execution_count": 27,
   "metadata": {
    "collapsed": false
   },
   "outputs": [
    {
     "data": {
      "text/plain": [
       "True"
      ]
     },
     "execution_count": 27,
     "metadata": {},
     "output_type": "execute_result"
    }
   ],
   "source": [
    "po_url+'3' in old_post_list"
   ]
  },
  {
   "cell_type": "markdown",
   "metadata": {},
   "source": [
    "이처럼 url이 새로운 것이 있다면 False 기존 url 이라면 True로 판단합니다.<br> \n",
    "이제는 무한루프를 돌면서 새로운 포스팅이 뜰때 print해주는 스크립트를 써봅니다."
   ]
  },
  {
   "cell_type": "code",
   "execution_count": null,
   "metadata": {
    "collapsed": false
   },
   "outputs": [],
   "source": [
    "#위에서 사용했던 코드를 가져옵니다.\n",
    "\n",
    "status = True\n",
    "while status:\n",
    "    resp = requests.get(url_tag)\n",
    "    re_result = re.findall(r'data-action-value=\"(http.+?)\"', resp.text)\n",
    "    new_post_list = list(set(re_result))\n",
    "    \n",
    "    # 새로운 post url들을 정리해서 update_posts에 넣습니다.\n",
    "    update_posts = []\n",
    "    for i in new_post_list:\n",
    "        update_posts.append(url_trim(i))\n",
    "    \n",
    "    #기존의 url text를 불러옵니다.\n",
    "    with open('./medium_post.txt', 'r', encoding='utf8') as f:\n",
    "        post_text = f.read()\n",
    "        \n",
    "    old_post_list = post_text.split('\\n')\n",
    "    \n",
    "    for post in update_posts:\n",
    "        if post in old_post_list:\n",
    "            print(\"Exist post\")\n",
    "            pass # True 로 리턴되는 경우는 pass 입니다. 왜냐하면 기존의 post 이니까요\n",
    "        else:\n",
    "            print(\"New Post Found!!\")\n",
    "            #새로운 post를 씁니다.\n",
    "            with open('./medium_post.txt', 'a', encoding='utf8') as f:\n",
    "                f.write(post+'\\n')\n",
    "                \n",
    "            print(\">> {} letter write on medium_post.txt\".format(len(post)))\n",
    "            ststus = False"
   ]
  }
 ],
 "metadata": {
  "kernelspec": {
   "display_name": "Python 35 NLP",
   "language": "python",
   "name": "py35_nlp"
  },
  "language_info": {
   "codemirror_mode": {
    "name": "ipython",
    "version": 3
   },
   "file_extension": ".py",
   "mimetype": "text/x-python",
   "name": "python",
   "nbconvert_exporter": "python",
   "pygments_lexer": "ipython3",
   "version": "3.5.3"
  }
 },
 "nbformat": 4,
 "nbformat_minor": 2
}
