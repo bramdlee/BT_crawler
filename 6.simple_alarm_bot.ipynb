{
 "cells": [
  {
   "cell_type": "markdown",
   "metadata": {},
   "source": [
    "## 새글 알림봇 만들기\n",
    "\n",
    "1. 웹페이지 가져와서 URL 추출하기 - requests, BeautifulSoup 라이브러리\n",
    "2. URL들이 기존에 것과 있는지 확인하기 - 파이썬 표준 라이브러리\n",
    "3. 새 URL이면 텔레그램으로 전송하기 - python-telegram-bot 라이브러리"
   ]
  },
  {
   "cell_type": "code",
   "execution_count": null,
   "metadata": {
    "collapsed": true
   },
   "outputs": [],
   "source": [
    "#기본 함수 만들고 호출해보기\n",
    "def test_func():\n",
    "    print(\"hello, world\")"
   ]
  },
  {
   "cell_type": "code",
   "execution_count": null,
   "metadata": {
    "collapsed": false
   },
   "outputs": [],
   "source": [
    "test_func()"
   ]
  },
  {
   "cell_type": "code",
   "execution_count": null,
   "metadata": {
    "collapsed": true
   },
   "outputs": [],
   "source": [
    "#파일쓰기\n",
    "with open(\"coindesk.txt\", 'w', encoding='utf8') as f:\n",
    "    f.write(\"http://test_url_1.com\" + '\\n')\n",
    "    f.write(\"http://test_url_2.com\" + '\\n')"
   ]
  },
  {
   "cell_type": "code",
   "execution_count": null,
   "metadata": {
    "collapsed": false
   },
   "outputs": [],
   "source": [
    "#파일에 한줄 추가하기\n",
    "with open(\"coindesk.txt\", 'a', encoding='utf8') as f:\n",
    "    f.write(\"http://test_url_3.com\" + '\\n')"
   ]
  },
  {
   "cell_type": "code",
   "execution_count": null,
   "metadata": {
    "collapsed": false
   },
   "outputs": [],
   "source": [
    "#파일읽기\n",
    "with open(\"coindesk.txt\", 'r', encoding='utf8') as f:\n",
    "    text = f.read()"
   ]
  },
  {
   "cell_type": "code",
   "execution_count": null,
   "metadata": {
    "collapsed": false
   },
   "outputs": [],
   "source": [
    "#파일로 부터 읽은 text를 리스트로 만들어보기\n",
    "url_list = text.split('\\n')\n",
    "url_list"
   ]
  },
  {
   "cell_type": "code",
   "execution_count": null,
   "metadata": {
    "collapsed": false
   },
   "outputs": [],
   "source": [
    "#리스트에 해당 text가 있는지 없는지를 bool(True / False) 확인 문법 'in'\n",
    "'http://test_url_1.com' in url_list"
   ]
  },
  {
   "cell_type": "code",
   "execution_count": null,
   "metadata": {
    "collapsed": false
   },
   "outputs": [],
   "source": [
    "#위의 과정을 updator 함수로 만들어보기\n",
    "def updator(new_url):\n",
    "    with open(\"coindesk.txt\", 'r', encoding='utf8') as f:\n",
    "        text = f.read()\n",
    "    \n",
    "    old_url_list = text.split('\\n')\n",
    "    \n",
    "    if new_url in old_url_list:\n",
    "        print(\"EXIST URL\")\n",
    "    else:\n",
    "        with open(\"coindesk.txt\", 'a', encoding='utf8') as f:\n",
    "            f.write(new_url + '\\n')\n",
    "                    \n",
    "        print(\"NEW_URL\")"
   ]
  },
  {
   "cell_type": "code",
   "execution_count": null,
   "metadata": {
    "collapsed": false
   },
   "outputs": [],
   "source": [
    "updator(\"http://test_url_4.com\") #새로운 글이라는 것을 확인"
   ]
  },
  {
   "cell_type": "code",
   "execution_count": null,
   "metadata": {
    "collapsed": false
   },
   "outputs": [],
   "source": [
    "updator(\"http://test_url_4.com\") #2번째 시도에는 이미 http://test_url_4.com 이 기록되어 있음"
   ]
  },
  {
   "cell_type": "code",
   "execution_count": null,
   "metadata": {
    "collapsed": false
   },
   "outputs": [],
   "source": [
    "#구글 blockchain 뉴스 검색 url\n",
    "URL = \"https://news.google.com/news/headlines/section/q/blockchain/blockchain?ned=kr&hl=ko\""
   ]
  },
  {
   "cell_type": "code",
   "execution_count": null,
   "metadata": {
    "collapsed": true
   },
   "outputs": [],
   "source": [
    "# requests 와 BeautifulSoup라이브러리 호출\n",
    "import requests\n",
    "from bs4 import BeautifulSoup as BS"
   ]
  },
  {
   "cell_type": "code",
   "execution_count": null,
   "metadata": {
    "collapsed": false
   },
   "outputs": [],
   "source": [
    "resp = requests.get(URL)\n",
    "resp"
   ]
  },
  {
   "cell_type": "code",
   "execution_count": null,
   "metadata": {
    "collapsed": true
   },
   "outputs": [],
   "source": [
    "#해당 url로 보낸응답 text를 beautifulsoup객체로 변환\n",
    "bs_html = BS(resp.text, \"html.parser\")"
   ]
  },
  {
   "cell_type": "code",
   "execution_count": null,
   "metadata": {
    "collapsed": false
   },
   "outputs": [],
   "source": [
    "type(bs_html)"
   ]
  },
  {
   "cell_type": "code",
   "execution_count": null,
   "metadata": {
    "collapsed": true
   },
   "outputs": [],
   "source": [
    "# 해당 뉴스 html 에 공통적으로 c-wiz가 포함되어 있음, 물론 뉴스 이외에 것들도 있다.\n",
    "bs_wiz = bs_html.find_all('c-wiz')"
   ]
  },
  {
   "cell_type": "code",
   "execution_count": null,
   "metadata": {
    "collapsed": false
   },
   "outputs": [],
   "source": [
    "len(bs_wiz)"
   ]
  },
  {
   "cell_type": "code",
   "execution_count": null,
   "metadata": {
    "collapsed": false
   },
   "outputs": [],
   "source": [
    "# 링크가 들어 있는 태그는 c-wiz안에 들어 있는 a 태그이며, a 태그 안에 href로 존재한다.\n",
    "bs_wiz[23].next_element.div.a.get('href')"
   ]
  },
  {
   "cell_type": "code",
   "execution_count": null,
   "metadata": {
    "collapsed": false
   },
   "outputs": [],
   "source": [
    "# c-wiz중에 a 태그가 없는것들도 있다. try~except으로 예외처리 해준다.\n",
    "bs_wiz[29].next_element.div.a.get('href') "
   ]
  },
  {
   "cell_type": "code",
   "execution_count": null,
   "metadata": {
    "collapsed": false
   },
   "outputs": [],
   "source": [
    "#위의 과정을 하나로 해서 resp.text에 뉴스글에 해당하는 url들을 all_url 리스트에 하나씩 추가해본다.\n",
    "all_url = [] # 결과를 위한 list선언\n",
    "bs_wiz = bs_html.find_all('c-wiz')\n",
    "\n",
    "for elem in bs_wiz: #bs_wiz를 순환하면서 href를 가져오는 과정\n",
    "    try:#try구문 안에 위치하고 있어 실패시(에러) 아무런 동작을 하지 않는다.\n",
    "        elem_url = elem.next_element.div.a.get('href') \n",
    "        if str(elem_url).startswith('http'): #http로시작하지 않는 것들은 추가하지 않는다.\n",
    "            all_url.append(elem_url)\n",
    "    except Exception as e:\n",
    "        pass"
   ]
  },
  {
   "cell_type": "code",
   "execution_count": null,
   "metadata": {
    "collapsed": false
   },
   "outputs": [],
   "source": [
    "all_url #결과를 보면 중복되는 것들이 있다."
   ]
  },
  {
   "cell_type": "code",
   "execution_count": null,
   "metadata": {
    "collapsed": false
   },
   "outputs": [],
   "source": [
    "#위의 과정을 함수로 만들어본다.\n",
    "URL = \"https://news.google.com/news/headlines/section/q/blockchain/blockchain?ned=kr&hl=ko\"\n",
    "\n",
    "def loader():#입력해주는 변수가 필요 없다.\n",
    "    resp = requests.get(URL)\n",
    "    bs_html = BS(resp.text, \"html.parser\")\n",
    "    \n",
    "    all_url = []\n",
    "\n",
    "    bs_wiz = bs_html.find_all('c-wiz')\n",
    "    \n",
    "    for elem in bs_wiz:\n",
    "        try:\n",
    "            elem_url = elem.next_element.div.a.get('href')\n",
    "        except Exception as e:\n",
    "            pass\n",
    "    \n",
    "    result_url = [] #최종 반환되는 리스트 추가\n",
    "    \n",
    "    for url in all_url:\n",
    "        if url[:4] == 'http':\n",
    "            result_url.append(url)\n",
    "    \n",
    "    # for url in all_url ~ 루프는 아래 list comprehention이라는 파이썬 문법으로도 가능하다.\n",
    "    #result_url = [url for url in all_url in url[:4] == 'http']\n",
    "    \n",
    "    return list(set(result_url))"
   ]
  },
  {
   "cell_type": "code",
   "execution_count": null,
   "metadata": {
    "collapsed": true
   },
   "outputs": [],
   "source": [
    "#텔레그램으로 메시지 보내기\n",
    "import telegram"
   ]
  },
  {
   "cell_type": "code",
   "execution_count": null,
   "metadata": {
    "collapsed": true
   },
   "outputs": [],
   "source": [
    "#필요한 부분은 Bot Father로 부터 받은 TOKEN 키와 해당 봇과 대화중인 chat_id이다.\n",
    "TOKEN = \"Telegram_bot_api_key\"\n",
    "CHAT_ID = \"your_chat_id\""
   ]
  },
  {
   "cell_type": "code",
   "execution_count": null,
   "metadata": {
    "collapsed": false
   },
   "outputs": [],
   "source": [
    "bot = telegram.Bot(TOKEN)"
   ]
  },
  {
   "cell_type": "code",
   "execution_count": null,
   "metadata": {
    "collapsed": true
   },
   "outputs": [],
   "source": [
    "#chat_id를 얻으려면 해당 봇으로 말을 건후(개인 talk) 응담으로 getUpdates로 수신된 메시지를 확인한다\n",
    "updates = bot.getUpdates()"
   ]
  },
  {
   "cell_type": "code",
   "execution_count": null,
   "metadata": {
    "collapsed": false
   },
   "outputs": [],
   "source": [
    "print(updates[0])"
   ]
  },
  {
   "cell_type": "code",
   "execution_count": null,
   "metadata": {
    "collapsed": false
   },
   "outputs": [],
   "source": [
    "bot.send_message(CHAT_ID, text=\"*반가워요*\", parse_mode='Markdown')"
   ]
  },
  {
   "cell_type": "code",
   "execution_count": null,
   "metadata": {
    "collapsed": true
   },
   "outputs": [],
   "source": [
    "#역시 위의 과정을 함수로 만들어 본다.\n",
    "def send_to_telegram(text_message):\n",
    "    bot = telegram.Bot(TOKEN)\n",
    "    bot.send_message(CHAT_ID, text_message)\n",
    "    print(\"sent msg\")"
   ]
  },
  {
   "cell_type": "code",
   "execution_count": null,
   "metadata": {
    "collapsed": true
   },
   "outputs": [],
   "source": [
    "# 시간 인터벌을 주기 위한 time\n",
    "import time"
   ]
  },
  {
   "cell_type": "code",
   "execution_count": null,
   "metadata": {
    "collapsed": false
   },
   "outputs": [],
   "source": [
    "time.sleep(10)\n",
    "print(\"after 10 second, hello\")"
   ]
  },
  {
   "cell_type": "code",
   "execution_count": null,
   "metadata": {
    "collapsed": false
   },
   "outputs": [],
   "source": [
    "URL = \"https://news.google.com/news/headlines/section/q/blockchain/blockchain?ned=kr&hl=ko\"\n",
    "\n",
    "def loader():\n",
    "    resp = requests.get(URL)\n",
    "    bs_html = BS(resp.text, \"html.parser\")\n",
    "    \n",
    "    all_url = []\n",
    "    bs_wiz = bs_html.find_all('c-wiz')\n",
    "    \n",
    "    for elem in bs_wiz:\n",
    "        try:\n",
    "            elem_url = elem.next_element.div.a.get('href')\n",
    "            if str(elem_url).startswith('http'):\n",
    "                all_url.append(elem_url)\n",
    "        except Exception as e:\n",
    "            pass\n",
    "    \n",
    "    return list(set(all_url))"
   ]
  },
  {
   "cell_type": "code",
   "execution_count": null,
   "metadata": {
    "collapsed": true
   },
   "outputs": [],
   "source": [
    "def updater(new_url):\n",
    "    with open(\"coindesk.txt\", 'r', encoding='utf8') as f:\n",
    "        text = f.read()\n",
    "    \n",
    "    old_url_list = text.split('\\n')\n",
    "    \n",
    "    if new_url in old_url_list:\n",
    "        print(\"EXIST URL\")\n",
    "        return False\n",
    "    else:\n",
    "        with open(\"coindesk.txt\", 'a', encoding='utf8') as f:\n",
    "            f.write(new_url + '\\n')\n",
    "                    \n",
    "        print(\"NEW_URL\")\n",
    "        return True"
   ]
  },
  {
   "cell_type": "code",
   "execution_count": null,
   "metadata": {
    "collapsed": true
   },
   "outputs": [],
   "source": [
    "def send_to_telegram(text_message):\n",
    "    bot = telegram.Bot(TOKEN)\n",
    "    bot.send_message(CHAT_ID, text_message)\n",
    "    print(\"sent msg\")"
   ]
  },
  {
   "cell_type": "code",
   "execution_count": null,
   "metadata": {
    "collapsed": false
   },
   "outputs": [],
   "source": [
    "#'loader' - 'updater' - 'send_to_telegram' 순으로 무한 loop로 해당 과정을 계속한다.\n",
    "while True:\n",
    "    all_url = loader()\n",
    "    for url in all_url:\n",
    "        if updater(url): #수정된 updater는 기존에 없던 url인 경우 True를 반환한다.\n",
    "            send_to_telegram(url)\n",
    "            \n",
    "    print(\"one cycle complete\")        \n",
    "    time.sleep(10)"
   ]
  },
  {
   "cell_type": "code",
   "execution_count": null,
   "metadata": {
    "collapsed": true
   },
   "outputs": [],
   "source": []
  }
 ],
 "metadata": {
  "kernelspec": {
   "display_name": "Python35_NLP",
   "language": "python",
   "name": "py35_nlp"
  },
  "language_info": {
   "codemirror_mode": {
    "name": "ipython",
    "version": 3
   },
   "file_extension": ".py",
   "mimetype": "text/x-python",
   "name": "python",
   "nbconvert_exporter": "python",
   "pygments_lexer": "ipython3",
   "version": "3.5.3"
  }
 },
 "nbformat": 4,
 "nbformat_minor": 0
}
