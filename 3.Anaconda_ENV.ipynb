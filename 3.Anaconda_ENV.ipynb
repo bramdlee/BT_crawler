{
 "cells": [
  {
   "cell_type": "markdown",
   "metadata": {},
   "source": [
    "## 로컬 환경 구축하기(Anaconda)\n",
    "\n",
    "\n",
    "과거 VM 위에서 구동하던 환경이 오히려 복잡하고 장애가 되는것 같아, 로컬-노트북 위에서 Python 개발환경을 구축해보겠습니다. Anaconda Package를 설치하는것만으로도 쉽게 Jupyter notebook을 실행할 수 있습니다.<p> 크롤링 봇 이후, 차후에 패키지 호환문제(윈도우와 리눅스, 맥)등이 발생 할 수 있습니다\n",
    "\n",
    "아나콘다 배포판이란, 컨티눔(Continnum)사에서 제작한 파이썬 배포판이다. 뛰어난 완성도로 현재 가장 널리 사용되는 표준 파이썬 배포판이 되었다. <br> 패키지(라이브러리들)의 의존성에서 문제를 줄여주어, 패키지 관리가 편하다.\n",
    "\n",
    "1. 위에 링크로 들어가서 Python3.6 버전을 각자 환경에 맞게(자동선택됨) 다운로드한다.\n",
    "<br><img src='./images/anaconda_1.png'>아나콘다 패키지 설치</img><br>\n",
    "https://www.anaconda.com/download/ <p>\n",
    "2. 설치가 완료되면 메뉴에 Navigator아이콘으로 Anaconda 환경을 실행 할수 있는 GUI창을 띄운다.<img src='./images/anaconda_2.png'>실행 기본화면</img><p>\n",
    "3. 주로 실행할 프로그램은 Jupyter notebook으로 launch를 눌러 실행한다.\n",
    "<img src='./images/anaconda_2-1.png' width=\"180\"></img><p>\n",
    "4. root 환경에 설치되어 있는 라이브러리를 사용하게 되며, Enviroment 탭에서 설치하고 제가가 가능하다. 여기에 python2.7, python3.5 등 다른 버전의 인터프리터를 사용하는 커널 환경을 생성하여 사용할 수 있다.<br>\n",
    "<img src='./images/anaconda_3.png'></img><br>"
   ]
  },
  {
   "cell_type": "markdown",
   "metadata": {},
   "source": [
    "### Jupyter notebook 실행화면\n",
    "\n",
    "1. 실행 화면은 아래와 같고 작업 폴더를 변경하여 new-> notebook[Python3] 를 선택하여 jupyter notebook 창을 띠운다. <br><img src=\"./images/jupyter_1.png\"></img><br><img src=\"./images/jupyter_2.png\"></img><p>\n",
    "2. 노트북의 첫화면은 아래 기본 code 입력창이 있고 해당 입력창에 python 코드를 입력하고 shift+Enter 로 실행 할 수있다.(alt+Enter로도 가능하나 차이가 있다, 직접 해보시길!)<br><img src = \"./images/jupyter_3.png\"></img><p>\n",
    "3. 셀 위에서 프롬프트가 깜빡이고 있다면 \"EDIT MODE\", 셀 전체가 선택되어 있으면 \"COMMAND MODE\" 이다. EDIT모드는 셀 안에서의 입력과 수정을, COMMAND MODE(이하 커맨드모드) 에서는 셀 전체의 실행 혹은 자르기 붙이기, 합치기 등등 을 할 수 있다.\n",
    "<br><img src = \"./images/jupyter_4.png\" width=300></img><p>\n",
    "    - 파이썬 코드 입력 셀과 마크다운 입력 셀로 전환할 수 있으며, 커맨드모드에서의 단축키는 코드로 전환 \"y\", 마크다운 셀로의 전환 \"m\"으로 사용 가능하다.\n",
    "    - 첫번째 줄 In[1]은 html 뒤에서 동작하는 python console에서 입력되어 실행된 순서 번호를 뜻하고, Jupyter notebook의 행과 일치 하지 않아도 된다.\n",
    "    - Jupyter notebook의 단축키는 커맨드 모드에서 \"h\"를 누르면 keymap이 표출되어 확인 가능하다.<br><img src=\"./images/jupyter_5.png\" width=400></img><p>"
   ]
  }
 ],
 "metadata": {
  "kernelspec": {
   "display_name": "Python 35 NLP",
   "language": "python",
   "name": "py35_nlp"
  },
  "language_info": {
   "codemirror_mode": {
    "name": "ipython",
    "version": 3
   },
   "file_extension": ".py",
   "mimetype": "text/x-python",
   "name": "python",
   "nbconvert_exporter": "python",
   "pygments_lexer": "ipython3",
   "version": "3.5.3"
  }
 },
 "nbformat": 4,
 "nbformat_minor": 2
}
