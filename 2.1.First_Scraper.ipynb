{
 "cells": [
  {
   "cell_type": "markdown",
   "metadata": {},
   "source": [
    "# Your First Web Scraper\n",
    "\n",
    "이번 노트에서는 처음으로 서버로 request를 날려보고 응답한 데이터를 가지고 BeautifulSoup로 파싱을 해보는 시간을 가져보겠습니다.\n",
    "\n",
    "다음의 링크에 예제가 있으니 참고하시면 되겠습니다.\n",
    "\n",
    "- Web Scraping with python https://github.com/REMitchell/python-scraping\n",
    "\n",
    "교재에서는 urllib 이라는 기본 라이브러리르 사용하지만, requests 라는 wrapping 라이브러리르 사용해서 보다 편하게 사용할 수 있습니다.\n",
    "\n",
    "- Requests : HTTP for Humans http://docs.python-requests.org/en/master/"
   ]
  },
  {
   "cell_type": "code",
   "execution_count": null,
   "metadata": {
    "collapsed": false
   },
   "outputs": [],
   "source": [
    "from urllib.request import urlopen\n",
    "html = urlopen(\"http://pythonscraping.com/pages/page1.html\")\n",
    "print(html.read())"
   ]
  },
  {
   "cell_type": "code",
   "execution_count": null,
   "metadata": {
    "collapsed": true
   },
   "outputs": [],
   "source": [
    "#문법은 거의 비슷합니다.\n",
    "import requests\n",
    "\n",
    "html = requests.get(\"http://pythonscraping.com/pages/page1.html\")"
   ]
  },
  {
   "cell_type": "code",
   "execution_count": null,
   "metadata": {
    "collapsed": false
   },
   "outputs": [],
   "source": [
    "html # 200은 서버로 부터 OK 라는 뜻입니다."
   ]
  },
  {
   "cell_type": "code",
   "execution_count": null,
   "metadata": {
    "collapsed": false
   },
   "outputs": [],
   "source": [
    "print(html.text)"
   ]
  },
  {
   "cell_type": "markdown",
   "metadata": {},
   "source": [
    "뭔가 다르죠, 쓰다 보면 기본 라이브러리인 urllib 보다 훨씬 편하게 작업 할 수 있기때문에 requests 사용을 추천드립니다.\n",
    "\n",
    "위에 응답을 출력한 부분을 보면 html-head-title 순으로 html tag 정렬되어 있는 것을 볼 수 있습니다. \n",
    "\n",
    "이런 TAG 데이터들 띄어 버리고 제목이랑 본문을 BeautifulSoup로 추출해보겠습니다."
   ]
  },
  {
   "cell_type": "code",
   "execution_count": null,
   "metadata": {
    "collapsed": true
   },
   "outputs": [],
   "source": [
    "from bs4 import BeautifulSoup as bs  # as 는 이제 의미를 아시겠죠, 이부분을 선언한 이후부터는 bs가 BeautifulSoup 를 호출하는 것과 같습니다."
   ]
  },
  {
   "cell_type": "code",
   "execution_count": null,
   "metadata": {
    "collapsed": false
   },
   "outputs": [],
   "source": [
    "bs"
   ]
  },
  {
   "cell_type": "code",
   "execution_count": null,
   "metadata": {
    "collapsed": false
   },
   "outputs": [],
   "source": [
    "html = requests.get(\"http://pythonscraping.com/pages/page1.html\")\n",
    "html_text = html.text"
   ]
  },
  {
   "cell_type": "code",
   "execution_count": null,
   "metadata": {
    "collapsed": false
   },
   "outputs": [],
   "source": [
    "# 같아보이지만 bs에서 그냥 선언할때는 출력해 버려라고 내장되어 있는 코드가 실행되는 것입니다. __repr__ 이라고도 합니다.\n",
    "bs(html.text, \"html.parser\") "
   ]
  },
  {
   "cell_type": "code",
   "execution_count": null,
   "metadata": {
    "collapsed": true
   },
   "outputs": [],
   "source": [
    "bs_html = bs(html.text, \"html.parser\")"
   ]
  },
  {
   "cell_type": "code",
   "execution_count": null,
   "metadata": {
    "collapsed": false
   },
   "outputs": [],
   "source": [
    "type(html.text)"
   ]
  },
  {
   "cell_type": "code",
   "execution_count": null,
   "metadata": {
    "collapsed": false
   },
   "outputs": [],
   "source": [
    "type(bs_html) # type 으로 해당 객체를 확인해보면 다른것을 알 수 있습니다."
   ]
  },
  {
   "cell_type": "code",
   "execution_count": null,
   "metadata": {
    "collapsed": false
   },
   "outputs": [],
   "source": [
    "bs_html.title # 단순히 뒤에 tag 이름만을 붙여도 호출이 되고"
   ]
  },
  {
   "cell_type": "code",
   "execution_count": null,
   "metadata": {
    "collapsed": false
   },
   "outputs": [],
   "source": [
    "bs_html.title.get_text() #  get_text() 를 실행하면 tag들을 띄어버리고 tag내의 문장만을 출력합니다."
   ]
  },
  {
   "cell_type": "code",
   "execution_count": null,
   "metadata": {
    "collapsed": false
   },
   "outputs": [],
   "source": [
    "bs_html.get_text() # 물론 한번에 전부 출력이 가능합니다. "
   ]
  },
  {
   "cell_type": "code",
   "execution_count": null,
   "metadata": {
    "collapsed": true
   },
   "outputs": [],
   "source": [
    "result = {} # requst 라는 dict 객체를 먼저 선언하고 \"title\" , \"content\" 제목과 본문을 분리해서 넣어 보도록 하겠습니다."
   ]
  },
  {
   "cell_type": "code",
   "execution_count": null,
   "metadata": {
    "collapsed": false
   },
   "outputs": [],
   "source": [
    "bs_html.body.div"
   ]
  },
  {
   "cell_type": "code",
   "execution_count": null,
   "metadata": {
    "collapsed": false
   },
   "outputs": [],
   "source": [
    "content = bs_html.body.div.get_text()\n",
    "content"
   ]
  },
  {
   "cell_type": "code",
   "execution_count": null,
   "metadata": {
    "collapsed": false
   },
   "outputs": [],
   "source": [
    "title = bs_html.title.get_text()\n",
    "title"
   ]
  },
  {
   "cell_type": "code",
   "execution_count": null,
   "metadata": {
    "collapsed": true
   },
   "outputs": [],
   "source": [
    "result[title] = content"
   ]
  },
  {
   "cell_type": "code",
   "execution_count": null,
   "metadata": {
    "collapsed": false
   },
   "outputs": [],
   "source": [
    "result"
   ]
  },
  {
   "cell_type": "code",
   "execution_count": null,
   "metadata": {
    "collapsed": false
   },
   "outputs": [],
   "source": [
    "#제목을 기준으로 본문을 호출 해보고 싶으면\n",
    "result['A Useful Page']"
   ]
  },
  {
   "cell_type": "markdown",
   "metadata": {},
   "source": [
    "dict 형태로 result에 저장을 하고 있습니다.\n",
    "\n",
    "그럼 이번에는 이걸 파일로 옮겨서 ipynb 노트북이 끝났을때도 기록이 남도록 해보겠습니다."
   ]
  },
  {
   "cell_type": "code",
   "execution_count": null,
   "metadata": {
    "collapsed": false
   },
   "outputs": [],
   "source": [
    "# dict 형태의 key를 불러오고 싶다면!\n",
    "result.keys()"
   ]
  },
  {
   "cell_type": "code",
   "execution_count": null,
   "metadata": {
    "collapsed": false
   },
   "outputs": [],
   "source": [
    "list(result.keys())[0]"
   ]
  },
  {
   "cell_type": "code",
   "execution_count": null,
   "metadata": {
    "collapsed": true
   },
   "outputs": [],
   "source": [
    "key = list(result.keys())[0] # 무식한 방법이지만 연습을 위해서 >_<\n",
    "value = result[key]"
   ]
  },
  {
   "cell_type": "code",
   "execution_count": null,
   "metadata": {
    "collapsed": false
   },
   "outputs": [],
   "source": [
    "key"
   ]
  },
  {
   "cell_type": "code",
   "execution_count": null,
   "metadata": {
    "collapsed": false
   },
   "outputs": [],
   "source": [
    "value"
   ]
  },
  {
   "cell_type": "code",
   "execution_count": null,
   "metadata": {
    "collapsed": false
   },
   "outputs": [],
   "source": [
    "with open(\"./result.txt\", 'w', encoding='utf8') as f:\n",
    "    f.write(\"{} \\n {}\".format(key, value))"
   ]
  },
  {
   "cell_type": "code",
   "execution_count": null,
   "metadata": {
    "collapsed": true
   },
   "outputs": [],
   "source": [
    "# string format 출력\n",
    "\n",
    "test_a = \"{} : 입니다\""
   ]
  },
  {
   "cell_type": "code",
   "execution_count": null,
   "metadata": {
    "collapsed": false
   },
   "outputs": [],
   "source": [
    "print(test_a)"
   ]
  },
  {
   "cell_type": "code",
   "execution_count": null,
   "metadata": {
    "collapsed": false
   },
   "outputs": [],
   "source": [
    "print(test_a.format(\"여기에 변수를 포함시켜보아요\"))"
   ]
  },
  {
   "cell_type": "code",
   "execution_count": null,
   "metadata": {
    "collapsed": true
   },
   "outputs": [],
   "source": [
    "test_b = \"{b} : 입니다.\""
   ]
  },
  {
   "cell_type": "code",
   "execution_count": null,
   "metadata": {
    "collapsed": false
   },
   "outputs": [],
   "source": [
    "test_b"
   ]
  },
  {
   "cell_type": "code",
   "execution_count": null,
   "metadata": {
    "collapsed": false
   },
   "outputs": [],
   "source": [
    "print(test_b.format(b=\"변수\"))"
   ]
  },
  {
   "cell_type": "markdown",
   "metadata": {},
   "source": [
    "짜잔 이제 파일을 열어서 제대로 기록 되었는지 확인 해 봅니다.\n",
    "\n",
    "코드 아카데미에서 연습했던 기초를 조금씩 섞어서 진행하였습니다.<br> 기초가 중요하긴 하지만, 내가 흥미 있는 부분을 계속 하다가 보면 저절로 문법이 익혀지니 너무 어려워 마시고 꾸준히 연습해보세요.\n",
    "\n",
    "### 수고 많으셨습니다."
   ]
  }
 ],
 "metadata": {
  "kernelspec": {
   "display_name": "Python 35 NLP",
   "language": "python",
   "name": "py35_nlp"
  },
  "language_info": {
   "codemirror_mode": {
    "name": "ipython",
    "version": 3
   },
   "file_extension": ".py",
   "mimetype": "text/x-python",
   "name": "python",
   "nbconvert_exporter": "python",
   "pygments_lexer": "ipython3",
   "version": "3.5.3"
  }
 },
 "nbformat": 4,
 "nbformat_minor": 2
}
